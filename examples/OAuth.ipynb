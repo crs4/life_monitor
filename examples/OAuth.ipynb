{
 "cells": [
  {
   "cell_type": "markdown",
   "metadata": {},
   "source": [
    "# Interacting with the API as a user with OAuth"
   ]
  },
  {
   "cell_type": "markdown",
   "metadata": {},
   "source": [
    "Before running this notebook, log in to LifeMonitor and register an OAuth app. This will be your LifeMonitor client.\n",
    "\n",
    "* Choose a Client Name (e.g., MyLMClient)\n",
    "* Enter arbitrary URIs for \"Client URI\" and \"Client Redirect URIs\"\n",
    "* Enable all scopes in \"Allowed scopes\"\n",
    "* Set \"Confidential\" to \"On\" in Client Type and set \"Client Authentication Method\" to `client_secret_post`"
   ]
  },
  {
   "cell_type": "code",
   "execution_count": 1,
   "metadata": {},
   "outputs": [],
   "source": [
    "import requests\n",
    "import uuid\n",
    "from urllib.parse import urlparse\n",
    "from requests.auth import HTTPBasicAuth"
   ]
  },
  {
   "cell_type": "code",
   "execution_count": 2,
   "metadata": {},
   "outputs": [],
   "source": [
    "lm_base_url = \"https://api.dev.lifemonitor.eu\"\n",
    "lm_token_url = f\"{lm_base_url}/oauth2/token\"\n",
    "# Enter the redirect URI from the OAuth app configuration\n",
    "redirect_uri = f\"https://example.com\""
   ]
  },
  {
   "cell_type": "code",
   "execution_count": 3,
   "metadata": {},
   "outputs": [],
   "source": [
    "# Get these from your LifeMonitor OAuth app\n",
    "CLIENT_ID = \"???\"\n",
    "CLIENT_SECRET = \"???\""
   ]
  },
  {
   "cell_type": "code",
   "execution_count": 4,
   "metadata": {},
   "outputs": [],
   "source": [
    "# Your LifeMonitor username and password\n",
    "USERNAME = \"SimoneLeo\"\n",
    "PASSWORD = \"???\""
   ]
  },
  {
   "cell_type": "code",
   "execution_count": 5,
   "metadata": {},
   "outputs": [],
   "source": [
    "s = requests.session()\n",
    "s.verify = False\n",
    "auth = HTTPBasicAuth(USERNAME, PASSWORD)"
   ]
  },
  {
   "cell_type": "code",
   "execution_count": 6,
   "metadata": {},
   "outputs": [
    {
     "name": "stderr",
     "output_type": "stream",
     "text": [
      "/usr/lib/python3/dist-packages/urllib3/connectionpool.py:860: InsecureRequestWarning: Unverified HTTPS request is being made. Adding certificate verification is strongly advised. See: https://urllib3.readthedocs.io/en/latest/advanced-usage.html#ssl-warnings\n",
      "  InsecureRequestWarning)\n",
      "/usr/lib/python3/dist-packages/urllib3/connectionpool.py:860: InsecureRequestWarning: Unverified HTTPS request is being made. Adding certificate verification is strongly advised. See: https://urllib3.readthedocs.io/en/latest/advanced-usage.html#ssl-warnings\n",
      "  InsecureRequestWarning)\n"
     ]
    }
   ],
   "source": [
    "# authorization request\n",
    "params = {\n",
    "    \"client_id\": CLIENT_ID,\n",
    "    \"response_type\": \"code\",\n",
    "    \"state\": uuid.uuid4().hex,\n",
    "    \"confirm\": False,\n",
    "    \"redirect_uri\": redirect_uri,\n",
    "    \"scope\": \"registry.info user.profile user.workflow.read user.workflow.write workflow.read workflow.write testingService.read testingService.write\",\n",
    "}\n",
    "auth_response = s.get(f\"{lm_base_url}/oauth2/authorize\", params=params, auth=auth, verify=False)\n",
    "assert auth_response.status_code == 200"
   ]
  },
  {
   "cell_type": "code",
   "execution_count": 7,
   "metadata": {},
   "outputs": [
    {
     "data": {
      "text/plain": [
       "'https://api-lm-test.rahtiapp.fi/static/oauth-receiver.html?code=FrQVZ4AHBmrVSXCgpl84A7TSbsbVOJLgAV73zS1GiRDv6ty3&state=f3586cd732d74d59be9d077cc3794cbe'"
      ]
     },
     "execution_count": 7,
     "metadata": {},
     "output_type": "execute_result"
    }
   ],
   "source": [
    "auth_response.url"
   ]
  },
  {
   "cell_type": "code",
   "execution_count": 8,
   "metadata": {},
   "outputs": [
    {
     "data": {
      "text/plain": [
       "'FrQVZ4AHBmrVSXCgpl84A7TSbsbVOJLgAV73zS1GiRDv6ty3'"
      ]
     },
     "execution_count": 8,
     "metadata": {},
     "output_type": "execute_result"
    }
   ],
   "source": [
    "# get the authorization code\n",
    "location = urlparse(auth_response.url)\n",
    "query_params = location.query.split('&')\n",
    "code = query_params[0].replace(\"code=\", \"\")\n",
    "code"
   ]
  },
  {
   "cell_type": "code",
   "execution_count": 9,
   "metadata": {},
   "outputs": [
    {
     "name": "stderr",
     "output_type": "stream",
     "text": [
      "/usr/lib/python3/dist-packages/urllib3/connectionpool.py:860: InsecureRequestWarning: Unverified HTTPS request is being made. Adding certificate verification is strongly advised. See: https://urllib3.readthedocs.io/en/latest/advanced-usage.html#ssl-warnings\n",
      "  InsecureRequestWarning)\n"
     ]
    },
    {
     "data": {
      "text/plain": [
       "{'access_token': 'f6GTi5ST4nKaajxhAqPyULoIpahBJDmCeLi4NOJpWF',\n",
       " 'expires_in': 864000,\n",
       " 'scope': 'registry.info user.profile user.workflow.read user.workflow.write workflow.read workflow.write testingService.read testingService.write',\n",
       " 'token_type': 'Bearer'}"
      ]
     },
     "execution_count": 9,
     "metadata": {},
     "output_type": "execute_result"
    }
   ],
   "source": [
    "# Get an authorization token from LifeMonitor\n",
    "token_response = s.post(\n",
    "    lm_token_url, \n",
    "    data={\n",
    "        \"client_id\": CLIENT_ID,\n",
    "        \"client_secret\": CLIENT_SECRET,\n",
    "        \"grant_type\": \"authorization_code\",\n",
    "        \"redirect_uri\": redirect_uri,\n",
    "        \"code\": code,\n",
    "    })\n",
    "token_response.content\n",
    "assert token_response.status_code == 200\n",
    "token = token_response.json()\n",
    "token"
   ]
  },
  {
   "cell_type": "code",
   "execution_count": 10,
   "metadata": {},
   "outputs": [],
   "source": [
    "# Update headers with the OAuth2 token\n",
    "s.headers.update({'Authorization': f\"Bearer {token['access_token']}\"})"
   ]
  },
  {
   "cell_type": "code",
   "execution_count": 11,
   "metadata": {
    "scrolled": true
   },
   "outputs": [
    {
     "name": "stderr",
     "output_type": "stream",
     "text": [
      "/usr/lib/python3/dist-packages/urllib3/connectionpool.py:860: InsecureRequestWarning: Unverified HTTPS request is being made. Adding certificate verification is strongly advised. See: https://urllib3.readthedocs.io/en/latest/advanced-usage.html#ssl-warnings\n",
      "  InsecureRequestWarning)\n"
     ]
    },
    {
     "data": {
      "text/plain": [
       "{'items': [{'latest_version': '1',\n",
       "   'name': 'sort-and-change-case-travis',\n",
       "   'uuid': 'bc435030-6e1e-0139-2dea-005056ab5db4'}],\n",
       " 'meta': {'api_version': '0.2.0-beta2',\n",
       "  'base_url': 'https://api-lifemonitor-test.rahtiapp.fi',\n",
       "  'resource': '/workflows?status=False'}}"
      ]
     },
     "execution_count": 11,
     "metadata": {},
     "output_type": "execute_result"
    }
   ],
   "source": [
    "# List workflows\n",
    "response = s.get(f\"{lm_base_url}/workflows\", params={\"status\": False})\n",
    "assert response.status_code == 200, f\"Unexpected error {response.status_code}: {response.content}\"\n",
    "registry_workflows = response.json()\n",
    "registry_workflows"
   ]
  }
 ],
 "metadata": {
  "kernelspec": {
   "display_name": "Python 3",
   "language": "python",
   "name": "python3"
  },
  "language_info": {
   "codemirror_mode": {
    "name": "ipython",
    "version": 3
   },
   "file_extension": ".py",
   "mimetype": "text/x-python",
   "name": "python",
   "nbconvert_exporter": "python",
   "pygments_lexer": "ipython3",
   "version": "3.6.9"
  }
 },
 "nbformat": 4,
 "nbformat_minor": 4
}
