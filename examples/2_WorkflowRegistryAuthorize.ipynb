{
 "cells": [
  {
   "cell_type": "markdown",
   "metadata": {},
   "source": [
    "# Workflow registry authorization"
   ]
  },
  {
   "cell_type": "markdown",
   "metadata": {},
   "source": [
    "\n"
   ]
  },
  {
   "cell_type": "code",
   "execution_count": 2,
   "metadata": {},
   "outputs": [
    {
     "name": "stdout",
     "output_type": "stream",
     "text": [
      "/mnt/data/projects/@crs4/EOSC-Life/Repositories/life_monitor_rachk8s\n"
     ]
    }
   ],
   "source": [
    "# set the lifemonitor root\n",
    "lifemonitor_root = \"/mnt/data/projects/@crs4/EOSC-Life/Repositories/life_monitor_rachk8s\"\n",
    "%cd {lifemonitor_root}"
   ]
  },
  {
   "cell_type": "code",
   "execution_count": 9,
   "metadata": {},
   "outputs": [],
   "source": [
    "# import requirements \n",
    "import requests\n",
    "import pprint\n",
    "pp = pprint.PrettyPrinter(indent=2).pprint"
   ]
  },
  {
   "cell_type": "code",
   "execution_count": 6,
   "metadata": {},
   "outputs": [
    {
     "name": "stdout",
     "output_type": "stream",
     "text": [
      "INFO:lifemonitor.app:Logging is active. Log level: DEBUG\n",
      "\n",
      "\n",
      "****************************************************************************************************\n",
      "Workflow Registry 'seek' (uuid: 1c40002b-8676-4f51-b529-9ff02ff78234, type: seek) registered!\n",
      "****************************************************************************************************\n",
      "\n",
      "\n",
      "OAuth2 settings to connect to LifeMonitor:\n",
      "----------------------------------------------------------------------------------------------------\n",
      "REGISTRY NAME: seek\n",
      "REGISTRY API URL: https://seek:3000\n",
      "REGISTRY CLIENT ID: bAVlsOwx2Z7sPgQJU7mdg1CE\n",
      "REGISTRY CLIENT SECRET: FQ8FE57DvYy9C5NKsAgXaBXAQ061gsNXz71X8I8radX6zHU2\n",
      "REGISTRY CLIENT ALLOWED SCOPES: read write\n",
      "REGISTRY CLIENT ALLOWED FLOWS: ['client_credentials', 'authorization_code', 'refresh_token']\n",
      "REGISTRY CLIENT REDIRECT URIs: ['https://seek:3000']\n",
      "REGISTRY CLIENT AUTH METHOD: client_secret_post\n",
      "AUTHORIZE URL: <LIFE_MONITOR_BASE_URL>/oauth2/authorize/seek\n",
      "ACCESS TOKEN URL: <LIFE_MONITOR_BASE_URL>/oauth2/token\n",
      "CALLBACK URL: <LIFE_MONITOR_BASE_URL>/oauth2/authorized/seek[?next=<URL>]\n",
      "\n"
     ]
    }
   ],
   "source": [
    "# list registries\n",
    "!docker-compose exec lm /bin/bash -c \"flask registry show seek\""
   ]
  },
  {
   "cell_type": "code",
   "execution_count": 10,
   "metadata": {},
   "outputs": [],
   "source": [
    "# Set Registry Credentials from LifeMonitor\n",
    "CLIENT_ID = \"bAVlsOwx2Z7sPgQJU7mdg1CE\"\n",
    "CLIENT_SECRET = \"FQ8FE57DvYy9C5NKsAgXaBXAQ061gsNXz71X8I8radX6zHU2\""
   ]
  },
  {
   "cell_type": "code",
   "execution_count": 11,
   "metadata": {},
   "outputs": [],
   "source": [
    "# HTTP settings to connect to LifeMonitor\n",
    "\n",
    "s = requests.session() # actually not mandatory, but just to share some settings among requests\n",
    "\n",
    "# if you use self-signed certificates,\n",
    "# you have to uncomment the line below to disable SSL verification\n",
    "s.verify = False\n",
    "\n",
    "# common header settings\n",
    "s.headers.update({})"
   ]
  },
  {
   "cell_type": "code",
   "execution_count": 12,
   "metadata": {},
   "outputs": [],
   "source": [
    "# LifeMonitor URLs\n",
    "lm_base_url = \"https://lm:8443\"\n",
    "lm_token_url = f\"{lm_base_url}/oauth2/token\""
   ]
  },
  {
   "cell_type": "code",
   "execution_count": 14,
   "metadata": {},
   "outputs": [
    {
     "name": "stdout",
     "output_type": "stream",
     "text": [
      "{ 'access_token': '1WHYfVkZBsiwf55DQ9XGKSiA1eUWxJ7HPtVlwAvm4d',\n",
      "  'expires_in': 864000,\n",
      "  'scope': 'read write',\n",
      "  'token_type': 'Bearer'}\n"
     ]
    }
   ],
   "source": [
    "# Get an authorization token from LifeMonitor\n",
    "token_response = s.post(\n",
    "    lm_token_url, \n",
    "    data={\n",
    "        \"client_id\": CLIENT_ID,\n",
    "        \"client_secret\": CLIENT_SECRET,\n",
    "        \"grant_type\": \"client_credentials\",\n",
    "        \"scope\": \"read write\"\n",
    "    }, allow_redirects=True, verify=False)\n",
    "assert token_response.status_code == 200, \"OAuth2 Error\"\n",
    "token = token_response.json()\n",
    "pp(token)"
   ]
  },
  {
   "cell_type": "code",
   "execution_count": 15,
   "metadata": {},
   "outputs": [],
   "source": [
    "# Update headers with the OAuth2 token\n",
    "s.headers.update({'Authorization': f\"Bearer {token['access_token']}\"})"
   ]
  },
  {
   "cell_type": "code",
   "execution_count": 17,
   "metadata": {},
   "outputs": [
    {
     "name": "stdout",
     "output_type": "stream",
     "text": [
      "{ 'name': 'seek',\n",
      "  'type': 'seek',\n",
      "  'uri': 'https://seek:3000',\n",
      "  'uuid': '1c40002b-8676-4f51-b529-9ff02ff78234'}\n"
     ]
    }
   ],
   "source": [
    "# Get registry info\n",
    "response = s.get(f\"{lm_base_url}/registries/current\")\n",
    "assert response.status_code == 200, f\"Unexpected error {response.status_code}: {response.content}\"\n",
    "current_registry = response.json()\n",
    "pp(current_registry)"
   ]
  }
 ],
 "metadata": {
  "kernelspec": {
   "display_name": "Python 3",
   "language": "python",
   "name": "python3"
  },
  "language_info": {
   "codemirror_mode": {
    "name": "ipython",
    "version": 3
   },
   "file_extension": ".py",
   "mimetype": "text/x-python",
   "name": "python",
   "nbconvert_exporter": "python",
   "pygments_lexer": "ipython3",
   "version": "3.7.9"
  }
 },
 "nbformat": 4,
 "nbformat_minor": 4
}
