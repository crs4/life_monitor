{
 "cells": [
  {
   "cell_type": "markdown",
   "metadata": {},
   "source": [
    "# Workflow registry authorization"
   ]
  },
  {
   "cell_type": "markdown",
   "metadata": {},
   "source": [
    "\n"
   ]
  },
  {
   "cell_type": "code",
   "execution_count": 1,
   "metadata": {},
   "outputs": [],
   "source": [
    "lifemonitor_root = \"/home/simleo/git/life_monitor\"\n",
    "%cd -q {lifemonitor_root}"
   ]
  },
  {
   "cell_type": "code",
   "execution_count": 2,
   "metadata": {},
   "outputs": [],
   "source": [
    "import requests"
   ]
  },
  {
   "cell_type": "code",
   "execution_count": 3,
   "metadata": {},
   "outputs": [
    {
     "name": "stdout",
     "output_type": "stream",
     "text": [
      "\r\n",
      "\r\n",
      "****************************************************************************************************\r\n",
      "Workflow Registry 'seek' (uuid: 8ee6f93b-ac01-4183-b90e-14fec7ac9d22, type: seek_registry) registered!\r\n",
      "****************************************************************************************************\r\n",
      "\r\n",
      "\r\n",
      "OAuth2 settings to connect to LifeMonitor:\r\n",
      "----------------------------------------------------------------------------------------------------\r\n",
      "REGISTRY NAME: seek\r\n",
      "REGISTRY API URL: https://seek:3000\r\n",
      "REGISTRY CLIENT ID: fOeRRL3Z7tI1i5iHRczz4B0X\r\n",
      "REGISTRY CLIENT SECRET: WA1rPDSudxDcQsZpqZosQXGwMx57hghbdMCaE7FBe9OmQLqE\r\n",
      "REGISTRY CLIENT ALLOWED SCOPES: registry.info registry.user registry.workflow.read registry.workflow.write registry.user.workflow.read registry.user.workflow.write workflow.read workflow.write testingService.read testingService.write user.profile user.workflow.read\r\n",
      "REGISTRY CLIENT ALLOWED FLOWS: ['client_credentials', 'authorization_code', 'refresh_token']\r\n",
      "REGISTRY CLIENT REDIRECT URIs: ['https://seek:3000']\r\n",
      "REGISTRY CLIENT AUTH METHOD: client_secret_post\r\n",
      "AUTHORIZE URL: <LIFE_MONITOR_BASE_URL>/oauth2/authorize/seek\r\n",
      "ACCESS TOKEN URL: <LIFE_MONITOR_BASE_URL>/oauth2/token\r\n",
      "CALLBACK URL: <LIFE_MONITOR_BASE_URL>/oauth2/authorized/seek[?next=<URL>]\r\n",
      "\r\n"
     ]
    }
   ],
   "source": [
    "# Get info on the \"seek\" registry\n",
    "!docker-compose exec lm /bin/bash -c \"flask registry show seek\""
   ]
  },
  {
   "cell_type": "code",
   "execution_count": 4,
   "metadata": {},
   "outputs": [],
   "source": [
    "# Copy registry credentials from the above dump\n",
    "CLIENT_ID = \"fOeRRL3Z7tI1i5iHRczz4B0X\"\n",
    "CLIENT_SECRET = \"WA1rPDSudxDcQsZpqZosQXGwMx57hghbdMCaE7FBe9OmQLqE\""
   ]
  },
  {
   "cell_type": "code",
   "execution_count": 5,
   "metadata": {},
   "outputs": [],
   "source": [
    "s = requests.session() # not mandatory, just to share some settings among requests\n",
    "s.verify = False  # disable SSL verification so we can use self-signed certificates\n",
    "s.headers.update({})"
   ]
  },
  {
   "cell_type": "code",
   "execution_count": 6,
   "metadata": {},
   "outputs": [],
   "source": [
    "lm_base_url = \"https://localhost:8443\"\n",
    "lm_token_url = f\"{lm_base_url}/oauth2/token\""
   ]
  },
  {
   "cell_type": "code",
   "execution_count": 7,
   "metadata": {},
   "outputs": [
    {
     "name": "stderr",
     "output_type": "stream",
     "text": [
      "/usr/lib/python3/dist-packages/urllib3/connectionpool.py:860: InsecureRequestWarning: Unverified HTTPS request is being made. Adding certificate verification is strongly advised. See: https://urllib3.readthedocs.io/en/latest/advanced-usage.html#ssl-warnings\n",
      "  InsecureRequestWarning)\n"
     ]
    },
    {
     "data": {
      "text/plain": [
       "{'access_token': 'oOHsnazv09vyWxFXRLpZpANujruDCe71eaFAoQaUao',\n",
       " 'expires_in': 864000,\n",
       " 'scope': 'registry.info',\n",
       " 'token_type': 'Bearer'}"
      ]
     },
     "execution_count": 7,
     "metadata": {},
     "output_type": "execute_result"
    }
   ],
   "source": [
    "# Get an authorization token from LifeMonitor\n",
    "token_response = s.post(\n",
    "    lm_token_url, \n",
    "    data={\n",
    "        \"client_id\": CLIENT_ID,\n",
    "        \"client_secret\": CLIENT_SECRET,\n",
    "        \"grant_type\": \"client_credentials\",\n",
    "        \"scope\": \"registry.info\"\n",
    "    }, allow_redirects=True, verify=False)\n",
    "assert token_response.status_code == 200, \"OAuth2 Error\"\n",
    "token = token_response.json()\n",
    "token"
   ]
  },
  {
   "cell_type": "code",
   "execution_count": 8,
   "metadata": {},
   "outputs": [],
   "source": [
    "# Update headers with the OAuth2 token\n",
    "s.headers.update({'Authorization': f\"Bearer {token['access_token']}\"})"
   ]
  },
  {
   "cell_type": "code",
   "execution_count": 9,
   "metadata": {},
   "outputs": [
    {
     "name": "stderr",
     "output_type": "stream",
     "text": [
      "/usr/lib/python3/dist-packages/urllib3/connectionpool.py:860: InsecureRequestWarning: Unverified HTTPS request is being made. Adding certificate verification is strongly advised. See: https://urllib3.readthedocs.io/en/latest/advanced-usage.html#ssl-warnings\n",
      "  InsecureRequestWarning)\n"
     ]
    },
    {
     "data": {
      "text/plain": [
       "{'meta': {'api_version': '0.2.0-beta2',\n",
       "  'base_url': 'https://172.19.0.4:8000',\n",
       "  'created': '2021-04-27T13:31:30.601893',\n",
       "  'modified': '2021-04-27T13:31:30.601906',\n",
       "  'resource': '/registries/current'},\n",
       " 'name': 'seek',\n",
       " 'type': 'seek',\n",
       " 'uri': 'https://seek:3000',\n",
       " 'uuid': '8ee6f93b-ac01-4183-b90e-14fec7ac9d22'}"
      ]
     },
     "execution_count": 9,
     "metadata": {},
     "output_type": "execute_result"
    }
   ],
   "source": [
    "# Get registry info\n",
    "response = s.get(f\"{lm_base_url}/registries/current\")\n",
    "assert response.status_code == 200, f\"Unexpected error {response.status_code}: {response.content}\"\n",
    "current_registry = response.json()\n",
    "current_registry"
   ]
  }
 ],
 "metadata": {
  "kernelspec": {
   "display_name": "Python 3",
   "language": "python",
   "name": "python3"
  },
  "language_info": {
   "codemirror_mode": {
    "name": "ipython",
    "version": 3
   },
   "file_extension": ".py",
   "mimetype": "text/x-python",
   "name": "python",
   "nbconvert_exporter": "python",
   "pygments_lexer": "ipython3",
   "version": "3.6.9"
  }
 },
 "nbformat": 4,
 "nbformat_minor": 4
}
