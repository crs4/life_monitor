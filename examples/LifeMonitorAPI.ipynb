{
 "cells": [
  {
   "cell_type": "markdown",
   "metadata": {},
   "source": [
    "# Using the LifeMonitor API"
   ]
  },
  {
   "cell_type": "markdown",
   "metadata": {},
   "source": [
    "This notebook shows how to interact with the [LifeMonitor API](https://crs4.github.io/life_monitor/lm_api_specs). We're going to query the [LifeMonitor dev instance](https://api.dev.lifemonitor.eu) for information about the testing status of a workflow."
   ]
  },
  {
   "cell_type": "code",
   "execution_count": 1,
   "metadata": {},
   "outputs": [],
   "source": [
    "import requests"
   ]
  },
  {
   "cell_type": "markdown",
   "metadata": {},
   "source": [
    "In the cell below, replace the value of `lm_api_key` with your LifeMonitor API Key. To get one, do the following:\n",
    "\n",
    "* [Log in to LifeMonitor](https://api.dev.lifemonitor.eu/login)\n",
    "* In your profile page, click on `API Keys > NEW`"
   ]
  },
  {
   "cell_type": "code",
   "execution_count": 2,
   "metadata": {},
   "outputs": [],
   "source": [
    "lm_base_url = \"https://api.dev.lifemonitor.eu\"\n",
    "lm_api_key = \"PKh9hECeT_qA2RpmZ5JxDyRAxUMyitU3JnDvhN-yVybaK-gBl_zAXB\""
   ]
  },
  {
   "cell_type": "markdown",
   "metadata": {},
   "source": [
    "Set up a session and populate its headers with the API Key."
   ]
  },
  {
   "cell_type": "code",
   "execution_count": 3,
   "metadata": {},
   "outputs": [],
   "source": [
    "s = requests.session()\n",
    "s.headers.update({'ApiKey': lm_api_key})"
   ]
  },
  {
   "cell_type": "markdown",
   "metadata": {},
   "source": [
    "Now we're ready to explore the API. Let's start by listing the available workflow registries."
   ]
  },
  {
   "cell_type": "code",
   "execution_count": 4,
   "metadata": {},
   "outputs": [
    {
     "data": {
      "text/plain": [
       "{'items': [{'name': 'wfhubdev',\n",
       "   'type': 'seek',\n",
       "   'uri': 'https://dev.workflowhub.eu',\n",
       "   'uuid': 'e4a937fc-276d-4954-8e98-2d0d89a3a040'}],\n",
       " 'meta': {'api_version': '0.2.0-beta2',\n",
       "  'base_url': 'https://api.dev.lifemonitor.eu',\n",
       "  'resource': '/registries'}}"
      ]
     },
     "execution_count": 4,
     "metadata": {},
     "output_type": "execute_result"
    }
   ],
   "source": [
    "response = s.get(f\"{lm_base_url}/registries\")\n",
    "assert response.status_code == 200, f\"Unexpected error {response.status_code}: {response.content}\"\n",
    "registries = response.json()\n",
    "registries"
   ]
  },
  {
   "cell_type": "markdown",
   "metadata": {},
   "source": [
    "Let's pick the first registry of type `seek` (WorkflowHub)."
   ]
  },
  {
   "cell_type": "code",
   "execution_count": 5,
   "metadata": {},
   "outputs": [
    {
     "data": {
      "text/plain": [
       "'e4a937fc-276d-4954-8e98-2d0d89a3a040'"
      ]
     },
     "execution_count": 5,
     "metadata": {},
     "output_type": "execute_result"
    }
   ],
   "source": [
    "registry_uuid = [_ for _ in registries[\"items\"] if _[\"type\"] == \"seek\"][0][\"uuid\"]\n",
    "registry_uuid"
   ]
  },
  {
   "cell_type": "markdown",
   "metadata": {},
   "source": [
    "Now that we have the registry's UUID, we can get a list of all workflows coming from that registry that have been submitted to LifeMonitor."
   ]
  },
  {
   "cell_type": "code",
   "execution_count": 6,
   "metadata": {},
   "outputs": [
    {
     "data": {
      "text/plain": [
       "{'items': [{'latest_version': '1',\n",
       "   'name': 'COVID-19: variation analysis on ARTIC PE data',\n",
       "   'uuid': '143cc7a0-8e3a-0139-2e05-005056ab5db4'}],\n",
       " 'meta': {'api_version': '0.2.0-beta2',\n",
       "  'base_url': 'https://api.dev.lifemonitor.eu',\n",
       "  'resource': '/registries/e4a937fc-276d-4954-8e98-2d0d89a3a040/workflows?status=False'}}"
      ]
     },
     "execution_count": 6,
     "metadata": {},
     "output_type": "execute_result"
    }
   ],
   "source": [
    "response = s.get(f\"{lm_base_url}/registries/{registry_uuid}/workflows\", params={\"status\": False})\n",
    "assert response.status_code == 200, f\"Unexpected error {response.status_code}: {response.content}\"\n",
    "workflows = response.json()\n",
    "workflows"
   ]
  },
  {
   "cell_type": "markdown",
   "metadata": {},
   "source": [
    "Let's pick the first workflow from the list."
   ]
  },
  {
   "cell_type": "code",
   "execution_count": 7,
   "metadata": {},
   "outputs": [
    {
     "data": {
      "text/plain": [
       "'143cc7a0-8e3a-0139-2e05-005056ab5db4'"
      ]
     },
     "execution_count": 7,
     "metadata": {},
     "output_type": "execute_result"
    }
   ],
   "source": [
    "workflow_uuid = [_ for _ in workflows[\"items\"]][0][\"uuid\"]\n",
    "workflow_uuid"
   ]
  },
  {
   "cell_type": "markdown",
   "metadata": {},
   "source": [
    "Get more details about the chosen workflow."
   ]
  },
  {
   "cell_type": "code",
   "execution_count": 8,
   "metadata": {},
   "outputs": [
    {
     "data": {
      "text/plain": [
       "{'meta': {'api_version': '0.2.0-beta2',\n",
       "  'base_url': 'https://api.dev.lifemonitor.eu',\n",
       "  'created': '2021-05-03T14:23:19.792342',\n",
       "  'modified': '2021-05-03T14:23:19.792356',\n",
       "  'resource': '/workflows/143cc7a0-8e3a-0139-2e05-005056ab5db4'},\n",
       " 'name': 'COVID-19: variation analysis on ARTIC PE data',\n",
       " 'registry': {'name': 'wfhubdev',\n",
       "  'type': 'seek',\n",
       "  'uri': 'https://dev.workflowhub.eu',\n",
       "  'uuid': 'e4a937fc-276d-4954-8e98-2d0d89a3a040'},\n",
       " 'uuid': '143cc7a0-8e3a-0139-2e05-005056ab5db4',\n",
       " 'version': {'is_latest': True,\n",
       "  'ro_crate': {'links': {'download': 'https://api.dev.lifemonitor.eu/ro_crates/11/download',\n",
       "    'external': 'https://dev.workflowhub.eu/workflows/157/content_blobs/247/download'}},\n",
       "  'submitter': {'id': 3, 'username': 'SimoneLeo'},\n",
       "  'uuid': '3ee8b52b-7692-4b16-b91e-11a868e0d2fd',\n",
       "  'version': '1'}}"
      ]
     },
     "execution_count": 8,
     "metadata": {},
     "output_type": "execute_result"
    }
   ],
   "source": [
    "response = s.get(f\"{lm_base_url}/workflows/{workflow_uuid}\")\n",
    "assert response.status_code == 200, f\"Unexpected error {response.status_code}: {response.content}\"\n",
    "workflow = response.json()\n",
    "workflow"
   ]
  },
  {
   "cell_type": "markdown",
   "metadata": {},
   "source": [
    "Get information on the workflow's overall testing status."
   ]
  },
  {
   "cell_type": "code",
   "execution_count": 9,
   "metadata": {},
   "outputs": [
    {
     "data": {
      "text/plain": [
       "{'aggregate_test_status': 'all_passing',\n",
       " 'latest_builds': [{'build_id': '769307075',\n",
       "   'instance': {'managed': False,\n",
       "    'name': 'test1_1',\n",
       "    'resource': 'github/crs4/iwc',\n",
       "    'roc_instance': '#test1_1',\n",
       "    'service': {'type': 'travis',\n",
       "     'url': 'https://travis-ci.org',\n",
       "     'uuid': '0694c600-ffa9-4e37-bcd5-43a5790f415b'},\n",
       "    'uuid': '045d99ee-1337-49bc-9465-31918bb655c3'},\n",
       "   'status': 'passed',\n",
       "   'suite_uuid': 'fbe0c0ae-c204-4543-ad30-b5b7d2efa875',\n",
       "   'timestamp': '1620037573.0'}],\n",
       " 'meta': {'api_version': '0.2.0-beta2',\n",
       "  'base_url': 'https://api.dev.lifemonitor.eu',\n",
       "  'created': '2021-05-03T14:23:19.792342',\n",
       "  'modified': '2021-05-03T14:23:19.792356',\n",
       "  'resource': '/workflows/143cc7a0-8e3a-0139-2e05-005056ab5db4/status'},\n",
       " 'name': 'COVID-19: variation analysis on ARTIC PE data',\n",
       " 'registry': {'name': 'wfhubdev',\n",
       "  'type': 'seek',\n",
       "  'uri': 'https://dev.workflowhub.eu',\n",
       "  'uuid': 'e4a937fc-276d-4954-8e98-2d0d89a3a040'},\n",
       " 'uuid': '143cc7a0-8e3a-0139-2e05-005056ab5db4',\n",
       " 'version': {'is_latest': True,\n",
       "  'ro_crate': {'links': {'download': 'https://api.dev.lifemonitor.eu/ro_crates/11/download',\n",
       "    'external': 'https://dev.workflowhub.eu/workflows/157/content_blobs/247/download'}},\n",
       "  'submitter': {'id': 3, 'username': 'SimoneLeo'},\n",
       "  'uuid': '3ee8b52b-7692-4b16-b91e-11a868e0d2fd',\n",
       "  'version': '1'}}"
      ]
     },
     "execution_count": 9,
     "metadata": {},
     "output_type": "execute_result"
    }
   ],
   "source": [
    "response = s.get(f\"{lm_base_url}/workflows/{workflow_uuid}/status\")\n",
    "assert response.status_code == 200, f\"Unexpected error {response.status_code}: {response.content}\"\n",
    "status = response.json()\n",
    "for b in status['latest_builds']:\n",
    "    del b['last_logs']\n",
    "status"
   ]
  },
  {
   "cell_type": "markdown",
   "metadata": {},
   "source": [
    "List test suites for the workflow."
   ]
  },
  {
   "cell_type": "code",
   "execution_count": 10,
   "metadata": {},
   "outputs": [
    {
     "data": {
      "text/plain": [
       "{'items': [{'definition': {'test_engine': {'type': 'planemo',\n",
       "     'version': '>=0.74.3'}},\n",
       "   'instances': [{'managed': False,\n",
       "     'name': 'test1_1',\n",
       "     'resource': 'github/crs4/iwc',\n",
       "     'roc_instance': '#test1_1',\n",
       "     'service': {'type': 'travis',\n",
       "      'url': 'https://travis-ci.org',\n",
       "      'uuid': '0694c600-ffa9-4e37-bcd5-43a5790f415b'},\n",
       "     'uuid': '045d99ee-1337-49bc-9465-31918bb655c3'}],\n",
       "   'roc_suite': '#test1',\n",
       "   'uuid': 'fbe0c0ae-c204-4543-ad30-b5b7d2efa875'}],\n",
       " 'meta': {'api_version': '0.2.0-beta2',\n",
       "  'base_url': 'https://api.dev.lifemonitor.eu',\n",
       "  'resource': '/workflows/143cc7a0-8e3a-0139-2e05-005056ab5db4/suites'}}"
      ]
     },
     "execution_count": 10,
     "metadata": {},
     "output_type": "execute_result"
    }
   ],
   "source": [
    "response = s.get(f\"{lm_base_url}/workflows/{workflow_uuid}/suites\")\n",
    "assert response.status_code == 200, f\"Unexpected error {response.status_code}: {response.content}\"\n",
    "suites = response.json()\n",
    "suites"
   ]
  },
  {
   "cell_type": "markdown",
   "metadata": {},
   "source": [
    "Pick the first test suite and get its details."
   ]
  },
  {
   "cell_type": "code",
   "execution_count": 11,
   "metadata": {},
   "outputs": [
    {
     "data": {
      "text/plain": [
       "{'definition': {'test_engine': {'type': 'planemo', 'version': '>=0.74.3'}},\n",
       " 'instances': [{'managed': False,\n",
       "   'name': 'test1_1',\n",
       "   'resource': 'github/crs4/iwc',\n",
       "   'roc_instance': '#test1_1',\n",
       "   'service': {'type': 'travis',\n",
       "    'url': 'https://travis-ci.org',\n",
       "    'uuid': '0694c600-ffa9-4e37-bcd5-43a5790f415b'},\n",
       "   'uuid': '045d99ee-1337-49bc-9465-31918bb655c3'}],\n",
       " 'meta': {'api_version': '0.2.0-beta2',\n",
       "  'base_url': 'https://api.dev.lifemonitor.eu',\n",
       "  'resource': '/suites/fbe0c0ae-c204-4543-ad30-b5b7d2efa875'},\n",
       " 'roc_suite': '#test1',\n",
       " 'uuid': 'fbe0c0ae-c204-4543-ad30-b5b7d2efa875'}"
      ]
     },
     "execution_count": 11,
     "metadata": {},
     "output_type": "execute_result"
    }
   ],
   "source": [
    "suite_uuid = suites['items'][0]['uuid']\n",
    "response = s.get(f\"{lm_base_url}/suites/{suite_uuid}\")\n",
    "assert response.status_code == 200, f\"Unexpected error {response.status_code}: {response.content}\"\n",
    "suite = response.json()\n",
    "suite"
   ]
  },
  {
   "cell_type": "markdown",
   "metadata": {},
   "source": [
    "Get the suite's overall test status."
   ]
  },
  {
   "cell_type": "code",
   "execution_count": 12,
   "metadata": {},
   "outputs": [
    {
     "data": {
      "text/plain": [
       "{'aggregate_test_status': 'all_passing',\n",
       " 'latest_builds': [{'build_id': '769307075',\n",
       "   'instance': {'managed': False,\n",
       "    'name': 'test1_1',\n",
       "    'resource': 'github/crs4/iwc',\n",
       "    'roc_instance': '#test1_1',\n",
       "    'service': {'type': 'travis',\n",
       "     'url': 'https://travis-ci.org',\n",
       "     'uuid': '0694c600-ffa9-4e37-bcd5-43a5790f415b'},\n",
       "    'uuid': '045d99ee-1337-49bc-9465-31918bb655c3'},\n",
       "   'status': 'passed',\n",
       "   'suite_uuid': 'fbe0c0ae-c204-4543-ad30-b5b7d2efa875',\n",
       "   'timestamp': '1620037573.0'}],\n",
       " 'meta': {'api_version': '0.2.0-beta2',\n",
       "  'base_url': 'https://api.dev.lifemonitor.eu',\n",
       "  'created': '2021-05-03T14:23:19.792342',\n",
       "  'modified': '2021-05-03T14:23:19.792356',\n",
       "  'resource': '/workflows/143cc7a0-8e3a-0139-2e05-005056ab5db4/status'},\n",
       " 'name': 'COVID-19: variation analysis on ARTIC PE data',\n",
       " 'registry': {'name': 'wfhubdev',\n",
       "  'type': 'seek',\n",
       "  'uri': 'https://dev.workflowhub.eu',\n",
       "  'uuid': 'e4a937fc-276d-4954-8e98-2d0d89a3a040'},\n",
       " 'uuid': '143cc7a0-8e3a-0139-2e05-005056ab5db4',\n",
       " 'version': {'is_latest': True,\n",
       "  'ro_crate': {'links': {'download': 'https://api.dev.lifemonitor.eu/ro_crates/11/download',\n",
       "    'external': 'https://dev.workflowhub.eu/workflows/157/content_blobs/247/download'}},\n",
       "  'submitter': {'id': 3, 'username': 'SimoneLeo'},\n",
       "  'uuid': '3ee8b52b-7692-4b16-b91e-11a868e0d2fd',\n",
       "  'version': '1'}}"
      ]
     },
     "execution_count": 12,
     "metadata": {},
     "output_type": "execute_result"
    }
   ],
   "source": [
    "response = s.get(f\"{lm_base_url}/suites/{suite_uuid}/status\")\n",
    "assert response.status_code == 200, f\"Unexpected error {response.status_code}: {response.content}\"\n",
    "suite_status = response.json()\n",
    "status"
   ]
  },
  {
   "cell_type": "markdown",
   "metadata": {},
   "source": [
    "List test instances for the chosen suite."
   ]
  },
  {
   "cell_type": "code",
   "execution_count": 13,
   "metadata": {},
   "outputs": [
    {
     "data": {
      "text/plain": [
       "{'items': [{'managed': False,\n",
       "   'name': 'test1_1',\n",
       "   'resource': 'github/crs4/iwc',\n",
       "   'roc_instance': '#test1_1',\n",
       "   'service': {'type': 'travis',\n",
       "    'url': 'https://travis-ci.org',\n",
       "    'uuid': '0694c600-ffa9-4e37-bcd5-43a5790f415b'},\n",
       "   'uuid': '045d99ee-1337-49bc-9465-31918bb655c3'}],\n",
       " 'meta': {'api_version': '0.2.0-beta2',\n",
       "  'base_url': 'https://api.dev.lifemonitor.eu',\n",
       "  'resource': '/suites/fbe0c0ae-c204-4543-ad30-b5b7d2efa875/instances'}}"
      ]
     },
     "execution_count": 13,
     "metadata": {},
     "output_type": "execute_result"
    }
   ],
   "source": [
    "response = s.get(f\"{lm_base_url}/suites/{suite_uuid}/instances\")\n",
    "assert response.status_code == 200, f\"Unexpected error {response.status_code}: {response.content}\"\n",
    "instances = response.json()\n",
    "instances"
   ]
  },
  {
   "cell_type": "markdown",
   "metadata": {},
   "source": [
    "Pick an instance and get the details."
   ]
  },
  {
   "cell_type": "code",
   "execution_count": 14,
   "metadata": {},
   "outputs": [
    {
     "data": {
      "text/plain": [
       "{'managed': False,\n",
       " 'meta': {'api_version': '0.2.0-beta2',\n",
       "  'base_url': 'https://api.dev.lifemonitor.eu',\n",
       "  'resource': '/instances/045d99ee-1337-49bc-9465-31918bb655c3'},\n",
       " 'name': 'test1_1',\n",
       " 'resource': 'github/crs4/iwc',\n",
       " 'roc_instance': '#test1_1',\n",
       " 'service': {'type': 'travis',\n",
       "  'url': 'https://travis-ci.org',\n",
       "  'uuid': '0694c600-ffa9-4e37-bcd5-43a5790f415b'},\n",
       " 'uuid': '045d99ee-1337-49bc-9465-31918bb655c3'}"
      ]
     },
     "execution_count": 14,
     "metadata": {},
     "output_type": "execute_result"
    }
   ],
   "source": [
    "instance_uuid = instances['items'][0]['uuid']\n",
    "response = s.get(f\"{lm_base_url}/instances/{instance_uuid}\")\n",
    "assert response.status_code == 200, f\"Unexpected error {response.status_code}: {response.content}\"\n",
    "instance = response.json()\n",
    "instance"
   ]
  },
  {
   "cell_type": "markdown",
   "metadata": {},
   "source": [
    "List the latest builds for the chosen instance."
   ]
  },
  {
   "cell_type": "code",
   "execution_count": 15,
   "metadata": {},
   "outputs": [
    {
     "data": {
      "text/plain": [
       "[{'build_id': '769307075',\n",
       "  'instance': {'managed': False,\n",
       "   'name': 'test1_1',\n",
       "   'resource': 'github/crs4/iwc',\n",
       "   'roc_instance': '#test1_1',\n",
       "   'service': {'type': 'travis',\n",
       "    'url': 'https://travis-ci.org',\n",
       "    'uuid': '0694c600-ffa9-4e37-bcd5-43a5790f415b'},\n",
       "   'uuid': '045d99ee-1337-49bc-9465-31918bb655c3'},\n",
       "  'status': 'passed',\n",
       "  'suite_uuid': 'fbe0c0ae-c204-4543-ad30-b5b7d2efa875',\n",
       "  'timestamp': '1620037573.0'},\n",
       " {'build_id': '769294684',\n",
       "  'instance': {'managed': False,\n",
       "   'name': 'test1_1',\n",
       "   'resource': 'github/crs4/iwc',\n",
       "   'roc_instance': '#test1_1',\n",
       "   'service': {'type': 'travis',\n",
       "    'url': 'https://travis-ci.org',\n",
       "    'uuid': '0694c600-ffa9-4e37-bcd5-43a5790f415b'},\n",
       "   'uuid': '045d99ee-1337-49bc-9465-31918bb655c3'},\n",
       "  'status': 'passed',\n",
       "  'suite_uuid': 'fbe0c0ae-c204-4543-ad30-b5b7d2efa875',\n",
       "  'timestamp': '1620027654.0'},\n",
       " {'build_id': '763952272',\n",
       "  'instance': {'managed': False,\n",
       "   'name': 'test1_1',\n",
       "   'resource': 'github/crs4/iwc',\n",
       "   'roc_instance': '#test1_1',\n",
       "   'service': {'type': 'travis',\n",
       "    'url': 'https://travis-ci.org',\n",
       "    'uuid': '0694c600-ffa9-4e37-bcd5-43a5790f415b'},\n",
       "   'uuid': '045d99ee-1337-49bc-9465-31918bb655c3'},\n",
       "  'status': 'passed',\n",
       "  'suite_uuid': 'fbe0c0ae-c204-4543-ad30-b5b7d2efa875',\n",
       "  'timestamp': '1616427012.0'}]"
      ]
     },
     "execution_count": 15,
     "metadata": {},
     "output_type": "execute_result"
    }
   ],
   "source": [
    "response = s.get(f\"{lm_base_url}/instances/{instance_uuid}/latest-builds\")\n",
    "assert response.status_code == 200, f\"Unexpected error {response.status_code}: {response.content}\"\n",
    "latest_builds = response.json()\n",
    "for b in latest_builds['items']:\n",
    "    del b['last_logs']\n",
    "latest_builds['items'][:3]"
   ]
  },
  {
   "cell_type": "markdown",
   "metadata": {},
   "source": [
    "Pick a build and get the details."
   ]
  },
  {
   "cell_type": "code",
   "execution_count": 16,
   "metadata": {},
   "outputs": [
    {
     "data": {
      "text/plain": [
       "{'build_id': '769307075',\n",
       " 'instance': {'managed': False,\n",
       "  'name': 'test1_1',\n",
       "  'resource': 'github/crs4/iwc',\n",
       "  'roc_instance': '#test1_1',\n",
       "  'service': {'type': 'travis',\n",
       "   'url': 'https://travis-ci.org',\n",
       "   'uuid': '0694c600-ffa9-4e37-bcd5-43a5790f415b'},\n",
       "  'uuid': '045d99ee-1337-49bc-9465-31918bb655c3'},\n",
       " 'meta': {'api_version': '0.2.0-beta2',\n",
       "  'base_url': 'https://api.dev.lifemonitor.eu',\n",
       "  'resource': '/instances/045d99ee-1337-49bc-9465-31918bb655c3/builds/769307075'},\n",
       " 'status': 'passed',\n",
       " 'suite_uuid': 'fbe0c0ae-c204-4543-ad30-b5b7d2efa875',\n",
       " 'timestamp': '1620037573.0'}"
      ]
     },
     "execution_count": 16,
     "metadata": {},
     "output_type": "execute_result"
    }
   ],
   "source": [
    "build_id = latest_builds['items'][0]['build_id']\n",
    "response = s.get(f\"{lm_base_url}/instances/{instance_uuid}/builds/{build_id}\")\n",
    "assert response.status_code == 200, f\"Unexpected error {response.status_code}: {response.content}\"\n",
    "build = response.json()\n",
    "del build['last_logs']\n",
    "build"
   ]
  },
  {
   "cell_type": "markdown",
   "metadata": {},
   "source": [
    "Get the build log."
   ]
  },
  {
   "cell_type": "code",
   "execution_count": 17,
   "metadata": {},
   "outputs": [
    {
     "name": "stdout",
     "output_type": "stream",
     "text": [
      "travis_fold:start:worker_info\r",
      "\u001b[0K\u001b[33;1mWorker information\u001b[0m\n",
      "hostname: 8a971683-252c-4d44-94ac-0ae13b161e1b@1.worker-org-dc4bd4986-dfpnv.gce-production-4\n",
      "version: 6.2.22 https://github.com/travis-ci/worker/tree/858cb91994a513269f2fe9782c15fc113e966231\n",
      "instance: travis-job-a86accaf-74f4-445f-a38c-027fabd57017 travis-ci-sardonyx-xenial-1593004276-4d46c6b3 (via amqp)\n",
      "startup: 6.237302883s\n",
      "travis_fold:end:worker_info\r",
      "\u001b[0Ktravis_time:start:2220d234\r",
      "\u001b[0Ktravis_time:end:2220d234:start=1620037575036348605,finish=1620037575176019672,duration=139671067,event=no_world_writable_dirs\r",
      "\u001b[0Ktravis_time:start:3682f100\r",
      "\u001b[0Ktravis_time:end:3682f100:start=1620037575179327333,finish=1620037575186354955,duration=7027622,event=agent\r",
      "\u001b[0Ktravis_time:start:2936e899\r",
      "\u001b[0Ktravis_time:end:2936e899:start=1620037575189250674,finish=1620037575191754676,duration=2504002,event=check_unsupported\r",
      "\u001b[0Ktravis_time:start:19010ac0\r",
      "\u001b[0Ktravis_fold:start:system_info\r",
      "\u001b[0K\u001b[33;1mBuild system information\u001b[0m\r\n",
      "Build language: python\r\n",
      "Build dist: xenial\r\n",
      "Build id: 769307075\r\n",
      "Job id: 769307076\r\n",
      "Runtime kernel version: 4.15.0-1077-gcp\r\n",
      "travis-build version: 091d532a\r\n",
      "\u001b[34m\u001b[1mBuild image provisioning date and time\u001b[0m\r\n",
      "Wed Jun 24 13:36:52 UTC 2020\r\n",
      "\u001b[34m\u001b[1mOperating System Details\u001b[0m\r\n",
      "Distributor ID:\tUbuntu\r\n",
      "Description:\tU\n",
      "\n",
      "[...]\n",
      "\n",
      "tN:MainThread] Sending reconfigure_watcher control task.\r\n",
      "galaxy.jobs.handler INFO 2021-05-03 10:52:48,290 [pN:main,p:4063,tN:MainThread] sending stop signal to worker thread\r\n",
      "galaxy.jobs.handler INFO 2021-05-03 10:52:48,291 [pN:main,p:4063,tN:MainThread] job handler queue stopped\r\n",
      "galaxy.jobs.runners INFO 2021-05-03 10:52:48,291 [pN:main,p:4063,tN:MainThread] LocalRunner: Sending stop signal to 4 job worker threads\r\n",
      "galaxy.jobs.runners INFO 2021-05-03 10:52:48,291 [pN:main,p:4063,tN:MainThread] Waiting up to 30 seconds for job worker threads to shutdown...\r\n",
      "galaxy.jobs.runners INFO 2021-05-03 10:52:48,292 [pN:main,p:4063,tN:MainThread] All job worker threads shutdown cleanly\r\n",
      "galaxy.jobs.handler INFO 2021-05-03 10:52:48,292 [pN:main,p:4063,tN:MainThread] sending stop signal to worker thread\r\n",
      "galaxy.jobs.handler INFO 2021-05-03 10:52:48,292 [pN:main,p:4063,tN:MainThread] job handler stop queue stopped\r\n",
      "\r\n",
      "\u001b[32m\u001b[1mAll 1 test(s) executed passed.\u001b[0m\r\n",
      "pe-artic-variation.ga_0: \u001b[32m\u001b[1mpassed\u001b[0m\r\n",
      "travis_time:end:1a4a67d4:start=1620037607370650600,finish=1620039169844355374,duration=1562473704774,event=script\r",
      "\u001b[0K\u001b[32;1mThe command \"planemo test workflows/sars-cov-2-variant-calling/sars-cov-2-pe-illumina-artic-variant-calling\" exited with 0.\u001b[0m\r\n",
      "\r\n",
      "\r\n",
      "Done. Your build exited with 0.\r\n",
      "\n"
     ]
    }
   ],
   "source": [
    "response = s.get(f\"{lm_base_url}/instances/{instance_uuid}/builds/{build_id}/logs\", params={\"limit_bytes\": 4*2**20})\n",
    "assert response.status_code == 200, f\"Unexpected error {response.status_code}: {response.content}\"\n",
    "log = response.json()\n",
    "print(f\"{log[:1300]}\\n\\n[...]\\n\\n{log[-1300:]}\")"
   ]
  },
  {
   "cell_type": "markdown",
   "metadata": {},
   "source": [
    "For further information on the LifeMonitor API, take a look at the [docs](https://api.dev.lifemonitor.eu/openapi.html)."
   ]
  }
 ],
 "metadata": {
  "kernelspec": {
   "display_name": "Python 3",
   "language": "python",
   "name": "python3"
  },
  "language_info": {
   "codemirror_mode": {
    "name": "ipython",
    "version": 3
   },
   "file_extension": ".py",
   "mimetype": "text/x-python",
   "name": "python",
   "nbconvert_exporter": "python",
   "pygments_lexer": "ipython3",
   "version": "3.6.9"
  }
 },
 "nbformat": 4,
 "nbformat_minor": 4
}
