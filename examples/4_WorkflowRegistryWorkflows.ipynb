{
 "cells": [
  {
   "cell_type": "markdown",
   "metadata": {},
   "source": [
    "# Registry workflows"
   ]
  },
  {
   "cell_type": "markdown",
   "metadata": {},
   "source": [
    "\n"
   ]
  },
  {
   "cell_type": "code",
   "execution_count": 34,
   "metadata": {},
   "outputs": [],
   "source": [
    "# set lifemonitor root path\n",
    "lifemonitor_root = \"/mnt/data/projects/@crs4/EOSC-Life/Repositories/life_monitor_rachk8s\"\n",
    "%cd -q {lifemonitor_root}"
   ]
  },
  {
   "cell_type": "code",
   "execution_count": 35,
   "metadata": {},
   "outputs": [],
   "source": [
    "import requests\n",
    "from examples import utils # just a simple utility to share code between netbooks"
   ]
  },
  {
   "cell_type": "code",
   "execution_count": 36,
   "metadata": {},
   "outputs": [],
   "source": [
    "# LifeMonitor URLs\n",
    "lm_base_url = \"https://localhost:8443\""
   ]
  },
  {
   "cell_type": "code",
   "execution_count": 37,
   "metadata": {},
   "outputs": [
    {
     "name": "stdout",
     "output_type": "stream",
     "text": [
      "{ 'access_token': '1CFwLsuycZ9EznhokfSXQtrYFUw3AfHWrVVYsNZEtp',\n",
      "  'expires_in': 864000,\n",
      "  'scope': 'read write',\n",
      "  'token_type': 'Bearer'}\n"
     ]
    }
   ],
   "source": [
    "# fetch the token\n",
    "token = utils.fetch_registry_token('seek')\n",
    "utils.pp(token)"
   ]
  },
  {
   "cell_type": "code",
   "execution_count": 38,
   "metadata": {},
   "outputs": [],
   "source": [
    "# HTTP settings to connect to LifeMonitor\n",
    "s = requests.session() # actually not mandatory, but just to share some settings among requests\n",
    "\n",
    "# if you use self-signed certificates,\n",
    "# you have to uncomment the line below to disable SSL verification\n",
    "s.verify = False\n",
    "\n",
    "# Update headers with the OAuth2 token\n",
    "s.headers.update({'Authorization': f\"Bearer {token['access_token']}\"})# HTTP settings to connect to LifeMonitor"
   ]
  },
  {
   "cell_type": "code",
   "execution_count": 41,
   "metadata": {},
   "outputs": [
    {
     "name": "stdout",
     "output_type": "stream",
     "text": [
      "{'items': []}\n"
     ]
    }
   ],
   "source": [
    "# Get workflows\n",
    "response = s.get(f\"{lm_base_url}/workflows\")\n",
    "assert response.status_code == 200, f\"Unexpected error {response.status_code}: {response.content}\"\n",
    "registry_workflows = response.json()\n",
    "utils.pp(registry_workflows)"
   ]
  },
  {
   "cell_type": "code",
   "execution_count": 42,
   "metadata": {},
   "outputs": [
    {
     "name": "stdout",
     "output_type": "stream",
     "text": [
      "{ 'id': 9,\n",
      "  'identity': { 'provider': { 'name': 'seek',\n",
      "                              'type': 'seek',\n",
      "                              'uri': 'https://seek:3000',\n",
      "                              'userinfo_endpoint': 'https://seek:3000/people/current?format=json'},\n",
      "                'sub': '2'},\n",
      "  'username': 't92qXvcogL'}\n"
     ]
    }
   ],
   "source": [
    "# Pick a user registry\n",
    "response = s.get(f\"{lm_base_url}/users\")\n",
    "assert response.status_code == 200, f\"Unexpected error {response.status_code}: {response.content}\"\n",
    "registry_users = response.json()\n",
    "assert len(registry_users)>0 , \"Unexpected number of users. We need at least one registered user\"\n",
    "identities = [u for u in registry_users['items'] if u['identity']['sub'] == '2']\n",
    "assert len(identities) == 1, \"Unable to find the user with identity.sub == 2\"\n",
    "utils.pp(user)"
   ]
  },
  {
   "cell_type": "code",
   "execution_count": 43,
   "metadata": {},
   "outputs": [
    {
     "name": "stdout",
     "output_type": "stream",
     "text": [
      "{ 'id': 11,\n",
      "  'identity': { 'provider': { 'name': 'seek',\n",
      "                              'type': 'seek',\n",
      "                              'uri': 'https://seek:3000',\n",
      "                              'userinfo_endpoint': 'https://seek:3000/people/current?format=json'},\n",
      "                'sub': '2'},\n",
      "  'username': 'WyFlHUPlGW'}\n"
     ]
    }
   ],
   "source": [
    "# let's say that 'user1' is the current_user\n",
    "# Notice identities\n",
    "current_user = registry_users['items'][0]\n",
    "utils.pp(current_user)"
   ]
  },
  {
   "cell_type": "code",
   "execution_count": 44,
   "metadata": {},
   "outputs": [
    {
     "name": "stdout",
     "output_type": "stream",
     "text": [
      "https://seek:3000/people\n",
      "{'user1': {'id': '2', 'username': 'user1'}, 'user2': {'id': '3', 'username': 'user2'}}\n",
      "{ 'attributes': { 'avatar': None,\n",
      "                  'description': None,\n",
      "                  'expertise': None,\n",
      "                  'first_name': 'First',\n",
      "                  'last_name': 'User',\n",
      "                  'mbox_sha1sum': 'afbdc5cf6a75764623cd1a4abb114a15e1436f5e',\n",
      "                  'orcid': None,\n",
      "                  'project_positions': None,\n",
      "                  'title': 'First User',\n",
      "                  'tools': None},\n",
      "  'id': '2',\n",
      "  'links': {'self': '/people/2'},\n",
      "  'meta': { 'api_version': '0.3',\n",
      "            'base_url': 'https://seek:3000',\n",
      "            'created': '2020-10-06T13:18:25.738Z',\n",
      "            'modified': '2020-10-06T13:18:25.738Z',\n",
      "            'uuid': '56f77130-ea04-0138-8cef-0242c0a8ee02'},\n",
      "  'relationships': { 'assays': {'data': []},\n",
      "                     'data_files': {'data': []},\n",
      "                     'documents': {'data': []},\n",
      "                     'events': {'data': []},\n",
      "                     'institutions': { 'data': [ { 'id': '1',\n",
      "                                                   'type': 'institutions'}]},\n",
      "                     'investigations': {'data': []},\n",
      "                     'models': {'data': []},\n",
      "                     'presentations': {'data': []},\n",
      "                     'projects': { 'data': [ {'id': '2', 'type': 'projects'},\n",
      "                                             {'id': '3', 'type': 'projects'}]},\n",
      "                     'publications': {'data': []},\n",
      "                     'sops': {'data': []},\n",
      "                     'studies': {'data': []}},\n",
      "  'type': 'people'}\n"
     ]
    }
   ],
   "source": [
    "# get 'user1' info\n",
    "user1 = utils.get_seek_user_info('user1')\n",
    "utils.pp(user1)"
   ]
  },
  {
   "cell_type": "code",
   "execution_count": 45,
   "metadata": {},
   "outputs": [
    {
     "name": "stdout",
     "output_type": "stream",
     "text": [
      "[ { 'attributes': {'title': 'basefreqsum-invalid'},\n",
      "    'id': '9',\n",
      "    'links': {'self': '/workflows/9'},\n",
      "    'type': 'workflows'},\n",
      "  { 'attributes': {'title': 'sort-and-change-case-invalid'},\n",
      "    'id': '7',\n",
      "    'links': {'self': '/workflows/7'},\n",
      "    'type': 'workflows'},\n",
      "  { 'attributes': {'title': 'basefreqsum'},\n",
      "    'id': '6',\n",
      "    'links': {'self': '/workflows/6'},\n",
      "    'type': 'workflows'},\n",
      "  { 'attributes': {'title': 'sort-and-change-case'},\n",
      "    'id': '5',\n",
      "    'links': {'self': '/workflows/5'},\n",
      "    'type': 'workflows'}]\n"
     ]
    }
   ],
   "source": [
    "# Get workflows associated with the user ID '2'\n",
    "user_workflows = utils.get_seek_user_workflows('user1')\n",
    "utils.pp(user_workflows)"
   ]
  },
  {
   "cell_type": "code",
   "execution_count": 46,
   "metadata": {},
   "outputs": [
    {
     "name": "stdout",
     "output_type": "stream",
     "text": [
      "{ 'attributes': { 'content_blobs': [ { 'content_type': 'application/zip',\n",
      "                                       'link': 'https://seek:3000/workflows/5/content_blobs/5',\n",
      "                                       'md5sum': '008e3381821327156968574cf2567f22',\n",
      "                                       'original_filename': 'ro-crate-galaxy-sortchangecase.crate.zip',\n",
      "                                       'sha1sum': '871152e6fe0908579e89170df75953e420e7b73f',\n",
      "                                       'size': 7087,\n",
      "                                       'url': None}],\n",
      "                  'created_at': '2020-10-06T14:37:07.112Z',\n",
      "                  'description': 'sort lines and change text to upper case',\n",
      "                  'discussion_links': None,\n",
      "                  'internals': { 'inputs': [ { 'description': 'runtime '\n",
      "                                                              'parameter for '\n",
      "                                                              'tool Sort',\n",
      "                                               'id': 'input',\n",
      "                                               'name': 'input'},\n",
      "                                             { 'description': 'runtime '\n",
      "                                                              'parameter for '\n",
      "                                                              'tool Change '\n",
      "                                                              'Case',\n",
      "                                               'id': 'input',\n",
      "                                               'name': 'input'}],\n",
      "                                 'outputs': [ { 'id': 'out_file1',\n",
      "                                                'name': 'out_file1',\n",
      "                                                'type': 'input'},\n",
      "                                              { 'id': 'out_file1',\n",
      "                                                'name': 'out_file1',\n",
      "                                                'type': 'tabular'}],\n",
      "                                 'steps': [ { 'description': '\\n ',\n",
      "                                              'id': 0,\n",
      "                                              'name': 'bed_input'},\n",
      "                                            { 'description': '\\n sort1',\n",
      "                                              'id': 1,\n",
      "                                              'name': 'sort'},\n",
      "                                            { 'description': '\\n ChangeCase',\n",
      "                                              'id': 2,\n",
      "                                              'name': 'change_case'}]},\n",
      "                  'latest_version': 1,\n",
      "                  'license': 'Apache-2.0',\n",
      "                  'other_creators': None,\n",
      "                  'policy': { 'access': 'no_access',\n",
      "                              'permissions': [ { 'access': 'download',\n",
      "                                                 'resource': { 'id': '3',\n",
      "                                                               'type': 'projects'}}]},\n",
      "                  'revision_comments': None,\n",
      "                  'tags': None,\n",
      "                  'title': 'sort-and-change-case',\n",
      "                  'updated_at': '2020-10-06T14:37:07.112Z',\n",
      "                  'version': 1,\n",
      "                  'versions': [ { 'revision_comments': None,\n",
      "                                  'url': 'https://seek:3000/workflows/5?version=1',\n",
      "                                  'version': 1}],\n",
      "                  'workflow_class': { 'description': None,\n",
      "                                      'key': 'Galaxy',\n",
      "                                      'title': 'Galaxy'}},\n",
      "  'id': '5',\n",
      "  'links': {'self': '/workflows/5?version=1'},\n",
      "  'meta': { 'api_version': '0.3',\n",
      "            'base_url': 'https://seek:3000',\n",
      "            'created': '2020-10-06T14:37:07.052Z',\n",
      "            'modified': '2020-10-06T14:37:07.052Z',\n",
      "            'uuid': '55203d00-ea0f-0138-9780-0242c0a8ee04'},\n",
      "  'relationships': { 'assays': {'data': []},\n",
      "                     'creators': {'data': []},\n",
      "                     'investigations': {'data': []},\n",
      "                     'people': {'data': [{'id': '2', 'type': 'people'}]},\n",
      "                     'projects': {'data': [{'id': '3', 'type': 'projects'}]},\n",
      "                     'publications': {'data': []},\n",
      "                     'sops': {'data': []},\n",
      "                     'studies': {'data': []},\n",
      "                     'submitter': {'data': [{'id': '2', 'type': 'people'}]}},\n",
      "  'type': 'workflows'}\n"
     ]
    }
   ],
   "source": [
    "# Get details of the workflow 'sort-and-change-case' (id '5')\n",
    "workflow = utils.get_seek_user_workflow('user1', '5')\n",
    "utils.pp(workflow)"
   ]
  },
  {
   "cell_type": "code",
   "execution_count": 47,
   "metadata": {},
   "outputs": [
    {
     "name": "stdout",
     "output_type": "stream",
     "text": [
      "{ 'name': 'sort-and-change-case',\n",
      "  'roc_link': 'https://seek:3000/workflows/5/content_blobs/5/download',\n",
      "  'submitter_id': '2',\n",
      "  'uuid': '55203d00-ea0f-0138-9780-0242c0a8ee04',\n",
      "  'version': '1'}\n"
     ]
    }
   ],
   "source": [
    "# Prepare the JSON data required to post the workflow on LifeMonitor\n",
    "workflow_uuid = workflow['meta']['uuid']\n",
    "workflow_version = str(workflow[\"attributes\"][\"versions\"][0]['version']) # pick the first version\n",
    "workflow_name = workflow[\"attributes\"][\"title\"]\n",
    "workflow_roc_link = f'{workflow[\"attributes\"][\"content_blobs\"][0][\"link\"]}/download'\n",
    "post_data = {\n",
    "    'uuid': workflow_uuid,\n",
    "    'version': workflow_version,\n",
    "    'name': workflow_name,\n",
    "    'roc_link': workflow_roc_link,\n",
    "    'submitter_id': user1['id']\n",
    "}\n",
    "utils.pp(post_data)"
   ]
  },
  {
   "cell_type": "code",
   "execution_count": 48,
   "metadata": {},
   "outputs": [
    {
     "name": "stdout",
     "output_type": "stream",
     "text": [
      "{'wf_uuid': '55203d00-ea0f-0138-9780-0242c0a8ee04', 'wf_version': '1'}\n"
     ]
    }
   ],
   "source": [
    "# trigger the registration of a the workflow 'sort-and-change-case' on LifeMonitor\n",
    "response = s.post(f\"{lm_base_url}/workflows\", json=post_data)\n",
    "assert response.status_code == 201, \"Error: status code {} !!!\".format(response.status_code)\n",
    "data = response.json()\n",
    "print(data)\n",
    "wf_uuid = data['wf_uuid']\n",
    "wf_version = data['wf_version']"
   ]
  },
  {
   "cell_type": "code",
   "execution_count": 49,
   "metadata": {},
   "outputs": [
    {
     "name": "stdout",
     "output_type": "stream",
     "text": [
      "{ 'items': [ { 'name': 'sort-and-change-case',\n",
      "               'roc_link': 'https://seek:3000/workflows/5/content_blobs/5/download',\n",
      "               'uuid': '55203d00-ea0f-0138-9780-0242c0a8ee04',\n",
      "               'version': '1'}]}\n"
     ]
    }
   ],
   "source": [
    "# Get workflows\n",
    "response = s.get(f\"{lm_base_url}/workflows\")\n",
    "assert response.status_code == 200, f\"Unexpected error {response.status_code}: {response.content}\"\n",
    "registry_workflows = response.json()\n",
    "utils.pp(registry_workflows)"
   ]
  },
  {
   "cell_type": "code",
   "execution_count": 51,
   "metadata": {},
   "outputs": [
    {
     "name": "stdout",
     "output_type": "stream",
     "text": [
      "{ 'name': 'sort-and-change-case',\n",
      "  'roc_link': 'https://seek:3000/workflows/5/content_blobs/5/download',\n",
      "  'uuid': '55203d00-ea0f-0138-9780-0242c0a8ee04',\n",
      "  'version': '1'}\n"
     ]
    }
   ],
   "source": [
    "# Get workflow details\n",
    "response = s.get(f\"{lm_base_url}/workflows/{workflow_uuid}/{workflow_version}\")\n",
    "assert response.status_code == 200, f\"Unexpected error {response.status_code}: {response.content}\"\n",
    "workflow = response.json()\n",
    "utils.pp(workflow)"
   ]
  },
  {
   "cell_type": "code",
   "execution_count": 52,
   "metadata": {},
   "outputs": [
    {
     "name": "stdout",
     "output_type": "stream",
     "text": [
      "{ 'aggregate_test_status': 'all_passing',\n",
      "  'latest_builds': [ { 'build_id': '4',\n",
      "                       'instance': { 'name': 'test1',\n",
      "                                     'service': { 'resource': 'job/test/',\n",
      "                                                  'type': 'jenkins_testing_service',\n",
      "                                                  'url': 'http://jenkins:8080/',\n",
      "                                                  'uuid': 'ec761adf-a41e-4f9b-8421-7da66e085d17'},\n",
      "                                     'uuid': 'ec761adf-a41e-4f9b-8421-7da66e085d17'},\n",
      "                       'last_logs': 'Started by user Admin Jenkins\\n'\n",
      "                                    'Running as SYSTEM\\n'\n",
      "                                    'Building in workspace '\n",
      "                                    '/var/jenkins_home/workspace/test\\n'\n",
      "                                    '[test] $ /bin/sh -xe '\n",
      "                                    '/tmp/jenkins2038142812728915165.sh\\n'\n",
      "                                    '+ ls -larth\\n'\n",
      "                                    'total 8.0K\\n'\n",
      "                                    'drwxr-sr-x 3 jenkins jenkins 4.0K Oct  6 '\n",
      "                                    '15:16 ..\\n'\n",
      "                                    'drwxr-sr-x 2 jenkins jenkins 4.0K Oct  6 '\n",
      "                                    '15:16 .\\n'\n",
      "                                    'Finished: SUCCESS\\n',\n",
      "                       'status': 'passed',\n",
      "                       'suite_uuid': '7b2d82c6-eb09-41f6-94d4-5b192cb86c22',\n",
      "                       'timestamp': '1601997383446'}],\n",
      "  'workflow': { 'name': 'sort-and-change-case',\n",
      "                'uuid': '55203d00-ea0f-0138-9780-0242c0a8ee04',\n",
      "                'version': '1'}}\n"
     ]
    }
   ],
   "source": [
    "# Get workflow status\n",
    "response = s.get(f\"{lm_base_url}/workflows/{workflow_uuid}/{workflow_version}/status\")\n",
    "assert response.status_code == 200, f\"Unexpected error {response.status_code}: {response.content}\"\n",
    "status = response.json()\n",
    "utils.pp(status)"
   ]
  },
  {
   "cell_type": "code",
   "execution_count": 55,
   "metadata": {},
   "outputs": [
    {
     "name": "stdout",
     "output_type": "stream",
     "text": [
      "{ 'name': 'sort-and-change-case',\n",
      "  'roc_link': 'https://seek:3000/workflows/5/content_blobs/5/download',\n",
      "  'uuid': '55203d00-ea0f-0138-9780-0242c0a8ee04',\n",
      "  'version': '1'}\n"
     ]
    }
   ],
   "source": [
    "# Get workflow status\n",
    "response = s.get(f\"{lm_base_url}/workflows/{wf_uuid}/{wf_version}\")\n",
    "assert response.status_code == 200, f\"Unexpected error {response.status_code}: {response.content}\"\n",
    "latest_version = response.json()\n",
    "utils.pp(latest_version)"
   ]
  },
  {
   "cell_type": "code",
   "execution_count": 56,
   "metadata": {},
   "outputs": [
    {
     "name": "stdout",
     "output_type": "stream",
     "text": [
      "{ 'items': [ { 'instances': [ { 'name': 'test1',\n",
      "                                'service': { 'resource': 'job/test/',\n",
      "                                             'type': 'jenkins_testing_service',\n",
      "                                             'url': 'http://jenkins:8080/',\n",
      "                                             'uuid': 'ec761adf-a41e-4f9b-8421-7da66e085d17'},\n",
      "                                'uuid': 'ec761adf-a41e-4f9b-8421-7da66e085d17'}],\n",
      "               'test_suite_metadata': { '@id': 'test-metadata.json',\n",
      "                                        'test': [ { 'definition': { 'path': 'test1/sort-and-change-case-test.yml',\n",
      "                                                                    'test_engine': { 'type': 'planemo',\n",
      "                                                                                     'version': '>=0.70'}},\n",
      "                                                    'instance': [ { 'name': 'example_jenkins',\n",
      "                                                                    'service': { 'resource': 'job/test/',\n",
      "                                                                                 'type': 'jenkins',\n",
      "                                                                                 'url': 'http://jenkins:8080/'}}],\n",
      "                                                    'name': 'test1'}],\n",
      "                                        'tmpformat': 'ro/workflow/test-metadata/0.1'},\n",
      "               'uuid': '7b2d82c6-eb09-41f6-94d4-5b192cb86c22'}]}\n"
     ]
    }
   ],
   "source": [
    "# Get workflow test suites\n",
    "response = s.get(f\"{lm_base_url}/workflows/{workflow_uuid}/{workflow_version}/suites\")\n",
    "assert response.status_code == 200, f\"Unexpected error {response.status_code}: {response.content}\"\n",
    "suites = response.json()\n",
    "utils.pp(suites)"
   ]
  },
  {
   "cell_type": "code",
   "execution_count": 58,
   "metadata": {},
   "outputs": [
    {
     "name": "stdout",
     "output_type": "stream",
     "text": [
      "{ 'instances': [ { 'name': 'test1',\n",
      "                   'service': { 'resource': 'job/test/',\n",
      "                                'type': 'jenkins_testing_service',\n",
      "                                'url': 'http://jenkins:8080/',\n",
      "                                'uuid': 'ec761adf-a41e-4f9b-8421-7da66e085d17'},\n",
      "                   'uuid': 'ec761adf-a41e-4f9b-8421-7da66e085d17'}],\n",
      "  'test_suite_metadata': { '@id': 'test-metadata.json',\n",
      "                           'test': [ { 'definition': { 'path': 'test1/sort-and-change-case-test.yml',\n",
      "                                                       'test_engine': { 'type': 'planemo',\n",
      "                                                                        'version': '>=0.70'}},\n",
      "                                       'instance': [ { 'name': 'example_jenkins',\n",
      "                                                       'service': { 'resource': 'job/test/',\n",
      "                                                                    'type': 'jenkins',\n",
      "                                                                    'url': 'http://jenkins:8080/'}}],\n",
      "                                       'name': 'test1'}],\n",
      "                           'tmpformat': 'ro/workflow/test-metadata/0.1'},\n",
      "  'uuid': '7b2d82c6-eb09-41f6-94d4-5b192cb86c22'}\n"
     ]
    }
   ],
   "source": [
    "# Get the first test suite\n",
    "response = s.get(f\"{lm_base_url}/suites/{suites['items'][0]['uuid']}\")\n",
    "assert response.status_code == 200, f\"Unexpected error {response.status_code}: {response.content}\"\n",
    "suite = response.json()\n",
    "utils.pp(suite)"
   ]
  },
  {
   "cell_type": "code",
   "execution_count": 59,
   "metadata": {},
   "outputs": [
    {
     "name": "stdout",
     "output_type": "stream",
     "text": [
      "{ 'latest_builds': [ { 'build_id': '4',\n",
      "                       'instance': { 'name': 'test1',\n",
      "                                     'service': { 'resource': 'job/test/',\n",
      "                                                  'type': 'jenkins_testing_service',\n",
      "                                                  'url': 'http://jenkins:8080/',\n",
      "                                                  'uuid': 'ec761adf-a41e-4f9b-8421-7da66e085d17'},\n",
      "                                     'uuid': 'ec761adf-a41e-4f9b-8421-7da66e085d17'},\n",
      "                       'last_logs': 'Started by user Admin Jenkins\\n'\n",
      "                                    'Running as SYSTEM\\n'\n",
      "                                    'Building in workspace '\n",
      "                                    '/var/jenkins_home/workspace/test\\n'\n",
      "                                    '[test] $ /bin/sh -xe '\n",
      "                                    '/tmp/jenkins2038142812728915165.sh\\n'\n",
      "                                    '+ ls -larth\\n'\n",
      "                                    'total 8.0K\\n'\n",
      "                                    'drwxr-sr-x 3 jenkins jenkins 4.0K Oct  6 '\n",
      "                                    '15:16 ..\\n'\n",
      "                                    'drwxr-sr-x 2 jenkins jenkins 4.0K Oct  6 '\n",
      "                                    '15:16 .\\n'\n",
      "                                    'Finished: SUCCESS\\n',\n",
      "                       'status': 'passed',\n",
      "                       'suite_uuid': '7b2d82c6-eb09-41f6-94d4-5b192cb86c22',\n",
      "                       'timestamp': '1601997383446'}],\n",
      "  'status': 'all_passing',\n",
      "  'suite_uuid': '7b2d82c6-eb09-41f6-94d4-5b192cb86c22'}\n"
     ]
    }
   ],
   "source": [
    "# Get the suite status\n",
    "response = s.get(f\"{lm_base_url}/suites/{suites['items'][0]['uuid']}/status\")\n",
    "assert response.status_code == 200, f\"Unexpected error {response.status_code}: {response.content}\"\n",
    "suite_status = response.json()\n",
    "utils.pp(suite_status)"
   ]
  },
  {
   "cell_type": "code",
   "execution_count": 60,
   "metadata": {},
   "outputs": [
    {
     "name": "stdout",
     "output_type": "stream",
     "text": [
      "{ 'items': [ { 'name': 'test1',\n",
      "               'service': { 'resource': 'job/test/',\n",
      "                            'type': 'jenkins_testing_service',\n",
      "                            'url': 'http://jenkins:8080/',\n",
      "                            'uuid': 'ec761adf-a41e-4f9b-8421-7da66e085d17'},\n",
      "               'uuid': 'ec761adf-a41e-4f9b-8421-7da66e085d17'}]}\n"
     ]
    }
   ],
   "source": [
    "# Get the suite instances\n",
    "response = s.get(f\"{lm_base_url}/suites/{suites['items'][0]['uuid']}/instances\")\n",
    "assert response.status_code == 200, f\"Unexpected error {response.status_code}: {response.content}\"\n",
    "instances = response.json()\n",
    "utils.pp(instances)"
   ]
  },
  {
   "cell_type": "code",
   "execution_count": 61,
   "metadata": {},
   "outputs": [
    {
     "name": "stdout",
     "output_type": "stream",
     "text": [
      "{ 'name': 'test1',\n",
      "  'service': { 'resource': 'job/test/',\n",
      "               'type': 'jenkins_testing_service',\n",
      "               'url': 'http://jenkins:8080/',\n",
      "               'uuid': 'ec761adf-a41e-4f9b-8421-7da66e085d17'},\n",
      "  'uuid': 'ec761adf-a41e-4f9b-8421-7da66e085d17'}\n"
     ]
    }
   ],
   "source": [
    "# Get the first test suite instance\n",
    "response = s.get(f\"{lm_base_url}/instances/{instances['items'][0]['uuid']}\")\n",
    "assert response.status_code == 200, f\"Unexpected error {response.status_code}: {response.content}\"\n",
    "instance = response.json()\n",
    "utils.pp(instance)"
   ]
  },
  {
   "cell_type": "code",
   "execution_count": 62,
   "metadata": {},
   "outputs": [
    {
     "name": "stdout",
     "output_type": "stream",
     "text": [
      "{ 'items': [ { 'build_id': '4',\n",
      "               'instance': { 'name': 'test1',\n",
      "                             'service': { 'resource': 'job/test/',\n",
      "                                          'type': 'jenkins_testing_service',\n",
      "                                          'url': 'http://jenkins:8080/',\n",
      "                                          'uuid': 'ec761adf-a41e-4f9b-8421-7da66e085d17'},\n",
      "                             'uuid': 'ec761adf-a41e-4f9b-8421-7da66e085d17'},\n",
      "               'last_logs': 'Started by user Admin Jenkins\\n'\n",
      "                            'Running as SYSTEM\\n'\n",
      "                            'Building in workspace '\n",
      "                            '/var/jenkins_home/workspace/test\\n'\n",
      "                            '[test] $ /bin/sh -xe '\n",
      "                            '/tmp/jenkins2038142812728915165.sh\\n'\n",
      "                            '+ ls -larth\\n'\n",
      "                            'total 8.0K\\n'\n",
      "                            'drwxr-sr-x 3 jenkins jenkins 4.0K Oct  6 15:16 '\n",
      "                            '..\\n'\n",
      "                            'drwxr-sr-x 2 jenkins jenkins 4.0K Oct  6 15:16 .\\n'\n",
      "                            'Finished: SUCCESS\\n',\n",
      "               'status': 'passed',\n",
      "               'suite_uuid': '7b2d82c6-eb09-41f6-94d4-5b192cb86c22',\n",
      "               'timestamp': '1601997383446'},\n",
      "             { 'build_id': '3',\n",
      "               'instance': { 'name': 'test1',\n",
      "                             'service': { 'resource': 'job/test/',\n",
      "                                          'type': 'jenkins_testing_service',\n",
      "                                          'url': 'http://jenkins:8080/',\n",
      "                                          'uuid': 'ec761adf-a41e-4f9b-8421-7da66e085d17'},\n",
      "                             'uuid': 'ec761adf-a41e-4f9b-8421-7da66e085d17'},\n",
      "               'last_logs': 'Started by user Admin Jenkins\\n'\n",
      "                            'Running as SYSTEM\\n'\n",
      "                            'Building in workspace '\n",
      "                            '/var/jenkins_home/workspace/test\\n'\n",
      "                            '[test] $ /bin/sh -xe '\n",
      "                            '/tmp/jenkins3251177559311753127.sh\\n'\n",
      "                            '+ ls -larth\\n'\n",
      "                            'total 8.0K\\n'\n",
      "                            'drwxr-sr-x 3 jenkins jenkins 4.0K Oct  6 15:16 '\n",
      "                            '..\\n'\n",
      "                            'drwxr-sr-x 2 jenkins jenkins 4.0K Oct  6 15:16 .\\n'\n",
      "                            'Finished: SUCCESS\\n',\n",
      "               'status': 'passed',\n",
      "               'suite_uuid': '7b2d82c6-eb09-41f6-94d4-5b192cb86c22',\n",
      "               'timestamp': '1601997382352'},\n",
      "             { 'build_id': '2',\n",
      "               'instance': { 'name': 'test1',\n",
      "                             'service': { 'resource': 'job/test/',\n",
      "                                          'type': 'jenkins_testing_service',\n",
      "                                          'url': 'http://jenkins:8080/',\n",
      "                                          'uuid': 'ec761adf-a41e-4f9b-8421-7da66e085d17'},\n",
      "                             'uuid': 'ec761adf-a41e-4f9b-8421-7da66e085d17'},\n",
      "               'last_logs': 'Started by user Admin Jenkins\\n'\n",
      "                            'Running as SYSTEM\\n'\n",
      "                            'Building in workspace '\n",
      "                            '/var/jenkins_home/workspace/test\\n'\n",
      "                            '[test] $ /bin/sh -xe '\n",
      "                            '/tmp/jenkins3471495593679386046.sh\\n'\n",
      "                            '+ ls -larth\\n'\n",
      "                            'total 8.0K\\n'\n",
      "                            'drwxr-sr-x 3 jenkins jenkins 4.0K Oct  6 15:16 '\n",
      "                            '..\\n'\n",
      "                            'drwxr-sr-x 2 jenkins jenkins 4.0K Oct  6 15:16 .\\n'\n",
      "                            'Finished: SUCCESS\\n',\n",
      "               'status': 'passed',\n",
      "               'suite_uuid': '7b2d82c6-eb09-41f6-94d4-5b192cb86c22',\n",
      "               'timestamp': '1601997379233'},\n",
      "             { 'build_id': '1',\n",
      "               'instance': { 'name': 'test1',\n",
      "                             'service': { 'resource': 'job/test/',\n",
      "                                          'type': 'jenkins_testing_service',\n",
      "                                          'url': 'http://jenkins:8080/',\n",
      "                                          'uuid': 'ec761adf-a41e-4f9b-8421-7da66e085d17'},\n",
      "                             'uuid': 'ec761adf-a41e-4f9b-8421-7da66e085d17'},\n",
      "               'last_logs': 'Started by user Admin Jenkins\\n'\n",
      "                            'Running as SYSTEM\\n'\n",
      "                            'Building in workspace '\n",
      "                            '/var/jenkins_home/workspace/test\\n'\n",
      "                            '[test] $ /bin/sh -xe '\n",
      "                            '/tmp/jenkins5791607255757933039.sh\\n'\n",
      "                            '+ ls -larth\\n'\n",
      "                            'total 8.0K\\n'\n",
      "                            'drwxr-sr-x 3 jenkins jenkins 4.0K Oct  6 15:16 '\n",
      "                            '..\\n'\n",
      "                            'drwxr-sr-x 2 jenkins jenkins 4.0K Oct  6 15:16 .\\n'\n",
      "                            'Finished: SUCCESS\\n',\n",
      "               'status': 'passed',\n",
      "               'suite_uuid': '7b2d82c6-eb09-41f6-94d4-5b192cb86c22',\n",
      "               'timestamp': '1601997377980'}]}\n"
     ]
    }
   ],
   "source": [
    "# Get latest builds of the first test suite instance\n",
    "response = s.get(f\"{lm_base_url}/instances/{instance['uuid']}/latest-builds\")\n",
    "assert response.status_code == 200, f\"Unexpected error {response.status_code}: {response.content}\"\n",
    "latest_builds = response.json()\n",
    "utils.pp(latest_builds)"
   ]
  },
  {
   "cell_type": "code",
   "execution_count": 63,
   "metadata": {},
   "outputs": [
    {
     "name": "stdout",
     "output_type": "stream",
     "text": [
      "{ 'build_id': '1',\n",
      "  'instance': { 'name': 'test1',\n",
      "                'service': { 'resource': 'job/test/',\n",
      "                             'type': 'jenkins_testing_service',\n",
      "                             'url': 'http://jenkins:8080/',\n",
      "                             'uuid': 'ec761adf-a41e-4f9b-8421-7da66e085d17'},\n",
      "                'uuid': 'ec761adf-a41e-4f9b-8421-7da66e085d17'},\n",
      "  'last_logs': 'Started by user Admin Jenkins\\n'\n",
      "               'Running as SYSTEM\\n'\n",
      "               'Building in workspace /var/jenkins_home/workspace/test\\n'\n",
      "               '[test] $ /bin/sh -xe /tmp/jenkins5791607255757933039.sh\\n'\n",
      "               '+ ls -larth\\n'\n",
      "               'total 8.0K\\n'\n",
      "               'drwxr-sr-x 3 jenkins jenkins 4.0K Oct  6 15:16 ..\\n'\n",
      "               'drwxr-sr-x 2 jenkins jenkins 4.0K Oct  6 15:16 .\\n'\n",
      "               'Finished: SUCCESS\\n',\n",
      "  'status': 'passed',\n",
      "  'suite_uuid': '7b2d82c6-eb09-41f6-94d4-5b192cb86c22',\n",
      "  'timestamp': '1601997377980'}\n"
     ]
    }
   ],
   "source": [
    "# Get the test build '1'\n",
    "response = s.get(f\"{lm_base_url}/instances/{instance['uuid']}/builds/1\")\n",
    "assert response.status_code == 200, f\"Unexpected error {response.status_code}: {response.content}\"\n",
    "build1 = response.json()\n",
    "utils.pp(build1)"
   ]
  },
  {
   "cell_type": "code",
   "execution_count": 64,
   "metadata": {},
   "outputs": [
    {
     "name": "stdout",
     "output_type": "stream",
     "text": [
      "('Started by user Admin Jenkins\\n'\n",
      " 'Running as SYSTEM\\n'\n",
      " 'Building in workspace /var/jenkins_home/workspace/test\\n'\n",
      " '[test] $ /bin/sh -xe /tmp/jenkins5791607255757933039.sh\\n'\n",
      " '+ ls -larth\\n'\n",
      " 'total 8.0K\\n'\n",
      " 'drwxr-sr-x 3 jenkins jenkins 4.0K Oct  6 15:16 ..\\n'\n",
      " 'drwxr-sr-x 2 jenkins jenkins 4.0K Oct  6 15:16 .\\n'\n",
      " 'Finished: SUCCESS\\n')\n"
     ]
    }
   ],
   "source": [
    "# Get logs of the test build '1'\n",
    "response = s.get(f\"{lm_base_url}/instances/{instance['uuid']}/builds/1/logs\")\n",
    "assert response.status_code == 200, f\"Unexpected error {response.status_code}: {response.content}\"\n",
    "build1 = response.json()\n",
    "utils.pp(build1)"
   ]
  }
 ],
 "metadata": {
  "kernelspec": {
   "display_name": "Python 3",
   "language": "python",
   "name": "python3"
  },
  "language_info": {
   "codemirror_mode": {
    "name": "ipython",
    "version": 3
   },
   "file_extension": ".py",
   "mimetype": "text/x-python",
   "name": "python",
   "nbconvert_exporter": "python",
   "pygments_lexer": "ipython3",
   "version": "3.7.9"
  }
 },
 "nbformat": 4,
 "nbformat_minor": 4
}
