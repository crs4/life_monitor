{
 "cells": [
  {
   "cell_type": "markdown",
   "metadata": {},
   "source": [
    "# Registry workflows"
   ]
  },
  {
   "cell_type": "markdown",
   "metadata": {},
   "source": [
    "\n"
   ]
  },
  {
   "cell_type": "code",
   "execution_count": 1,
   "metadata": {},
   "outputs": [],
   "source": [
    "lifemonitor_root = \"/home/simleo/git/life_monitor\"\n",
    "%cd -q {lifemonitor_root}"
   ]
  },
  {
   "cell_type": "code",
   "execution_count": 2,
   "metadata": {},
   "outputs": [],
   "source": [
    "import requests"
   ]
  },
  {
   "cell_type": "code",
   "execution_count": 3,
   "metadata": {},
   "outputs": [],
   "source": [
    "lm_base_url = \"https://localhost:8443\"\n",
    "lm_token_url = f\"{lm_base_url}/oauth2/token\""
   ]
  },
  {
   "cell_type": "code",
   "execution_count": 4,
   "metadata": {
    "scrolled": true
   },
   "outputs": [
    {
     "name": "stdout",
     "output_type": "stream",
     "text": [
      "\r\n",
      "\r\n",
      "****************************************************************************************************\r\n",
      "Workflow Registry 'seek' (uuid: 8ee6f93b-ac01-4183-b90e-14fec7ac9d22, type: seek_registry) registered!\r\n",
      "****************************************************************************************************\r\n",
      "\r\n",
      "\r\n",
      "OAuth2 settings to connect to LifeMonitor:\r\n",
      "----------------------------------------------------------------------------------------------------\r\n",
      "REGISTRY NAME: seek\r\n",
      "REGISTRY API URL: https://seek:3000\r\n",
      "REGISTRY CLIENT ID: fOeRRL3Z7tI1i5iHRczz4B0X\r\n",
      "REGISTRY CLIENT SECRET: WA1rPDSudxDcQsZpqZosQXGwMx57hghbdMCaE7FBe9OmQLqE\r\n",
      "REGISTRY CLIENT ALLOWED SCOPES: registry.info registry.user registry.workflow.read registry.workflow.write registry.user.workflow.read registry.user.workflow.write workflow.read workflow.write testingService.read testingService.write user.profile user.workflow.read\r\n",
      "REGISTRY CLIENT ALLOWED FLOWS: ['client_credentials', 'authorization_code', 'refresh_token']\r\n",
      "REGISTRY CLIENT REDIRECT URIs: ['https://seek:3000']\r\n",
      "REGISTRY CLIENT AUTH METHOD: client_secret_post\r\n",
      "AUTHORIZE URL: <LIFE_MONITOR_BASE_URL>/oauth2/authorize/seek\r\n",
      "ACCESS TOKEN URL: <LIFE_MONITOR_BASE_URL>/oauth2/token\r\n",
      "CALLBACK URL: <LIFE_MONITOR_BASE_URL>/oauth2/authorized/seek[?next=<URL>]\r\n",
      "\r\n"
     ]
    }
   ],
   "source": [
    "# Get info on the \"seek\" registry\n",
    "!docker-compose exec lm /bin/bash -c \"flask registry show seek\""
   ]
  },
  {
   "cell_type": "code",
   "execution_count": 5,
   "metadata": {},
   "outputs": [],
   "source": [
    "# Copy registry credentials from the above dump\n",
    "CLIENT_ID = \"fOeRRL3Z7tI1i5iHRczz4B0X\"\n",
    "CLIENT_SECRET = \"WA1rPDSudxDcQsZpqZosQXGwMx57hghbdMCaE7FBe9OmQLqE\""
   ]
  },
  {
   "cell_type": "code",
   "execution_count": 6,
   "metadata": {},
   "outputs": [
    {
     "name": "stderr",
     "output_type": "stream",
     "text": [
      "/usr/lib/python3/dist-packages/urllib3/connectionpool.py:860: InsecureRequestWarning: Unverified HTTPS request is being made. Adding certificate verification is strongly advised. See: https://urllib3.readthedocs.io/en/latest/advanced-usage.html#ssl-warnings\n",
      "  InsecureRequestWarning)\n"
     ]
    },
    {
     "data": {
      "text/plain": [
       "{'access_token': 'cLlkI3Qx7LnCvi5qzdkMqClh2y1r6IAz9nfC8qbBSH',\n",
       " 'expires_in': 864000,\n",
       " 'scope': 'registry.user workflow.read registry.workflow.write workflow.write',\n",
       " 'token_type': 'Bearer'}"
      ]
     },
     "execution_count": 6,
     "metadata": {},
     "output_type": "execute_result"
    }
   ],
   "source": [
    "# Get an authorization token from LifeMonitor\n",
    "s = requests.session()\n",
    "s.verify = False\n",
    "s.headers.update({})\n",
    "token_response = s.post(\n",
    "    lm_token_url, \n",
    "    data={\n",
    "        \"client_id\": CLIENT_ID,\n",
    "        \"client_secret\": CLIENT_SECRET,\n",
    "        \"grant_type\": \"client_credentials\",\n",
    "        \"scope\": \"registry.user workflow.read registry.workflow.write workflow.write\"\n",
    "    }, allow_redirects=True, verify=False)\n",
    "assert token_response.status_code == 200\n",
    "token = token_response.json()\n",
    "token"
   ]
  },
  {
   "cell_type": "code",
   "execution_count": 7,
   "metadata": {},
   "outputs": [],
   "source": [
    "# Update headers with the OAuth2 token\n",
    "s.headers.update({'Authorization': f\"Bearer {token['access_token']}\"})"
   ]
  },
  {
   "cell_type": "code",
   "execution_count": 8,
   "metadata": {},
   "outputs": [
    {
     "name": "stderr",
     "output_type": "stream",
     "text": [
      "/usr/lib/python3/dist-packages/urllib3/connectionpool.py:860: InsecureRequestWarning: Unverified HTTPS request is being made. Adding certificate verification is strongly advised. See: https://urllib3.readthedocs.io/en/latest/advanced-usage.html#ssl-warnings\n",
      "  InsecureRequestWarning)\n"
     ]
    },
    {
     "data": {
      "text/plain": [
       "{'items': [],\n",
       " 'meta': {'api_version': '0.2.0-beta2',\n",
       "  'base_url': 'https://172.19.0.4:8000',\n",
       "  'resource': '/workflows'}}"
      ]
     },
     "execution_count": 8,
     "metadata": {},
     "output_type": "execute_result"
    }
   ],
   "source": [
    "# List workflows\n",
    "response = s.get(f\"{lm_base_url}/workflows\")\n",
    "assert response.status_code == 200, f\"Unexpected error {response.status_code}: {response.content}\"\n",
    "registry_workflows = response.json()\n",
    "registry_workflows"
   ]
  },
  {
   "cell_type": "code",
   "execution_count": 9,
   "metadata": {},
   "outputs": [
    {
     "name": "stderr",
     "output_type": "stream",
     "text": [
      "/usr/lib/python3/dist-packages/urllib3/connectionpool.py:860: InsecureRequestWarning: Unverified HTTPS request is being made. Adding certificate verification is strongly advised. See: https://urllib3.readthedocs.io/en/latest/advanced-usage.html#ssl-warnings\n",
      "  InsecureRequestWarning)\n"
     ]
    },
    {
     "data": {
      "text/plain": [
       "{'items': [{'id': 2,\n",
       "   'identities': {'seek': {'mbox_sha1sum': 'afbdc5cf6a75764623cd1a4abb114a15e1436f5e',\n",
       "     'name': 'First User',\n",
       "     'picture': None,\n",
       "     'profile': '/people/2',\n",
       "     'provider': {'name': 'seek',\n",
       "      'type': 'registry',\n",
       "      'uri': 'https://seek:3000',\n",
       "      'userinfo_endpoint': 'https://seek:3000/people/current?format=json'},\n",
       "     'sub': '2',\n",
       "     'username': 'FirstUser'}},\n",
       "   'username': 'FirstUser'}],\n",
       " 'meta': {'api_version': '0.2.0-beta2',\n",
       "  'base_url': 'https://172.19.0.4:8000',\n",
       "  'resource': '/registries/current/users'}}"
      ]
     },
     "execution_count": 9,
     "metadata": {},
     "output_type": "execute_result"
    }
   ],
   "source": [
    "# Get registry users\n",
    "response = s.get(f\"{lm_base_url}/registries/current/users\")\n",
    "assert response.status_code == 200, f\"Unexpected error {response.status_code}: {response.content}\"\n",
    "registry_users = response.json()\n",
    "registry_users"
   ]
  },
  {
   "cell_type": "code",
   "execution_count": 10,
   "metadata": {},
   "outputs": [
    {
     "data": {
      "text/plain": [
       "{'id': 2,\n",
       " 'identities': {'seek': {'mbox_sha1sum': 'afbdc5cf6a75764623cd1a4abb114a15e1436f5e',\n",
       "   'name': 'First User',\n",
       "   'picture': None,\n",
       "   'profile': '/people/2',\n",
       "   'provider': {'name': 'seek',\n",
       "    'type': 'registry',\n",
       "    'uri': 'https://seek:3000',\n",
       "    'userinfo_endpoint': 'https://seek:3000/people/current?format=json'},\n",
       "   'sub': '2',\n",
       "   'username': 'FirstUser'}},\n",
       " 'username': 'FirstUser'}"
      ]
     },
     "execution_count": 10,
     "metadata": {},
     "output_type": "execute_result"
    }
   ],
   "source": [
    "# Pick the first user\n",
    "assert len(registry_users) > 0, \"Unexpected number of users. We need at least one registered user\"\n",
    "current_user = registry_users['items'][0]\n",
    "current_user"
   ]
  },
  {
   "cell_type": "code",
   "execution_count": 11,
   "metadata": {},
   "outputs": [
    {
     "data": {
      "text/plain": [
       "'2'"
      ]
     },
     "execution_count": 11,
     "metadata": {},
     "output_type": "execute_result"
    }
   ],
   "source": [
    "wfhub_uid = current_user['identities']['seek']['sub']\n",
    "wfhub_uid"
   ]
  },
  {
   "cell_type": "code",
   "execution_count": 12,
   "metadata": {},
   "outputs": [
    {
     "name": "stderr",
     "output_type": "stream",
     "text": [
      "/usr/lib/python3/dist-packages/urllib3/connectionpool.py:860: InsecureRequestWarning: Unverified HTTPS request is being made. Adding certificate verification is strongly advised. See: https://urllib3.readthedocs.io/en/latest/advanced-usage.html#ssl-warnings\n",
      "  InsecureRequestWarning)\n"
     ]
    },
    {
     "data": {
      "text/plain": [
       "{'id': '2',\n",
       " 'type': 'people',\n",
       " 'attributes': {'avatar': None,\n",
       "  'title': 'First User',\n",
       "  'description': None,\n",
       "  'first_name': 'First',\n",
       "  'last_name': 'User',\n",
       "  'orcid': None,\n",
       "  'mbox_sha1sum': 'afbdc5cf6a75764623cd1a4abb114a15e1436f5e',\n",
       "  'expertise': None,\n",
       "  'tools': None,\n",
       "  'project_positions': None},\n",
       " 'relationships': {'projects': {'data': [{'id': '2', 'type': 'projects'},\n",
       "    {'id': '3', 'type': 'projects'}]},\n",
       "  'institutions': {'data': [{'id': '1', 'type': 'institutions'}]},\n",
       "  'investigations': {'data': []},\n",
       "  'studies': {'data': []},\n",
       "  'assays': {'data': []},\n",
       "  'data_files': {'data': []},\n",
       "  'models': {'data': []},\n",
       "  'sops': {'data': []},\n",
       "  'publications': {'data': []},\n",
       "  'presentations': {'data': []},\n",
       "  'events': {'data': []},\n",
       "  'documents': {'data': []}},\n",
       " 'links': {'self': '/people/2'},\n",
       " 'meta': {'created': '2020-10-06T13:18:25.738Z',\n",
       "  'modified': '2020-10-06T13:18:25.738Z',\n",
       "  'api_version': '0.3',\n",
       "  'uuid': '56f77130-ea04-0138-8cef-0242c0a8ee02',\n",
       "  'base_url': 'https://seek:3000'}}"
      ]
     },
     "execution_count": 12,
     "metadata": {},
     "output_type": "execute_result"
    }
   ],
   "source": [
    "# Get the WorkflowHub user info\n",
    "wfhub_url = \"https://seek:3000\"\n",
    "seek_session = requests.session()\n",
    "seek_session.verify = False\n",
    "seek_session.headers.update({\n",
    "    \"Content-type\": \"application/vnd.api+json\",\n",
    "    \"Accept\": \"application/vnd.api+json\",\n",
    "    \"Accept-Charset\": \"ISO-8859-1\"\n",
    "})\n",
    "seek_session.auth = requests.auth.HTTPBasicAuth(\"user1\", \"workflowhub\")\n",
    "response = seek_session.get(f\"{wfhub_url}/people/{wfhub_uid}\")\n",
    "assert response.status_code == 200, f\"Unexpected error {response.status_code}: {response.content}\"\n",
    "user1 = response.json()[\"data\"]\n",
    "user1"
   ]
  },
  {
   "cell_type": "code",
   "execution_count": 13,
   "metadata": {},
   "outputs": [
    {
     "name": "stderr",
     "output_type": "stream",
     "text": [
      "/usr/lib/python3/dist-packages/urllib3/connectionpool.py:860: InsecureRequestWarning: Unverified HTTPS request is being made. Adding certificate verification is strongly advised. See: https://urllib3.readthedocs.io/en/latest/advanced-usage.html#ssl-warnings\n",
      "  InsecureRequestWarning)\n"
     ]
    },
    {
     "data": {
      "text/plain": [
       "[{'id': '24',\n",
       "  'type': 'workflows',\n",
       "  'attributes': {'title': 'sort-and-change-case-travis'},\n",
       "  'links': {'self': '/workflows/24'}},\n",
       " {'id': '23',\n",
       "  'type': 'workflows',\n",
       "  'attributes': {'title': 'sort-and-change-case-invalid-service-url'},\n",
       "  'links': {'self': '/workflows/23'}},\n",
       " {'id': '22',\n",
       "  'type': 'workflows',\n",
       "  'attributes': {'title': 'sort-and-change-case-invalid-service-type'},\n",
       "  'links': {'self': '/workflows/22'}},\n",
       " {'id': '21',\n",
       "  'type': 'workflows',\n",
       "  'attributes': {'title': 'sort-and-change-case'},\n",
       "  'links': {'self': '/workflows/21'}},\n",
       " {'id': '20',\n",
       "  'type': 'workflows',\n",
       "  'attributes': {'title': 'basefreqsum'},\n",
       "  'links': {'self': '/workflows/20'}}]"
      ]
     },
     "execution_count": 13,
     "metadata": {},
     "output_type": "execute_result"
    }
   ],
   "source": [
    "# Get info on the user's workflows from WorkflowHub\n",
    "response = seek_session.get(f\"{wfhub_url}/workflows\")\n",
    "assert response.status_code == 200, f\"Unexpected error {response.status_code}: {response.content}\"\n",
    "user_workflows = response.json()[\"data\"]\n",
    "user_workflows"
   ]
  },
  {
   "cell_type": "code",
   "execution_count": 14,
   "metadata": {},
   "outputs": [
    {
     "data": {
      "text/plain": [
       "'21'"
      ]
     },
     "execution_count": 14,
     "metadata": {},
     "output_type": "execute_result"
    }
   ],
   "source": [
    "wf_id = [_['id'] for _ in user_workflows if _['attributes']['title'] == 'sort-and-change-case'][0]\n",
    "wf_id"
   ]
  },
  {
   "cell_type": "code",
   "execution_count": 15,
   "metadata": {},
   "outputs": [
    {
     "name": "stderr",
     "output_type": "stream",
     "text": [
      "/usr/lib/python3/dist-packages/urllib3/connectionpool.py:860: InsecureRequestWarning: Unverified HTTPS request is being made. Adding certificate verification is strongly advised. See: https://urllib3.readthedocs.io/en/latest/advanced-usage.html#ssl-warnings\n",
      "  InsecureRequestWarning)\n"
     ]
    },
    {
     "data": {
      "text/plain": [
       "{'id': '21',\n",
       " 'type': 'workflows',\n",
       " 'attributes': {'policy': {'access': 'download',\n",
       "   'permissions': [{'resource': {'id': '2', 'type': 'projects'},\n",
       "     'access': 'download'}]},\n",
       "  'title': 'sort-and-change-case',\n",
       "  'description': 'sort lines and change text to upper case',\n",
       "  'license': 'Apache-2.0',\n",
       "  'latest_version': 1,\n",
       "  'tags': None,\n",
       "  'discussion_links': None,\n",
       "  'versions': [{'version': 1,\n",
       "    'revision_comments': None,\n",
       "    'url': 'https://seek:3000/workflows/21?version=1'}],\n",
       "  'version': 1,\n",
       "  'revision_comments': None,\n",
       "  'created_at': '2021-04-23T10:55:02.933Z',\n",
       "  'updated_at': '2021-04-23T10:55:02.933Z',\n",
       "  'content_blobs': [{'original_filename': 'ro-crate-galaxy-sortchangecase.crate.zip',\n",
       "    'url': None,\n",
       "    'md5sum': '91c49819e0f69ca5c7f94437c4e775d9',\n",
       "    'sha1sum': 'a90fdc8019e822a498dd5eab3435fdbbccefa70f',\n",
       "    'content_type': 'application/zip',\n",
       "    'link': 'https://seek:3000/workflows/21/content_blobs/34',\n",
       "    'size': 6549}],\n",
       "  'other_creators': None,\n",
       "  'workflow_class': {'title': 'Galaxy', 'key': 'galaxy', 'description': None},\n",
       "  'internals': {'inputs': [{'id': 'input',\n",
       "     'name': 'input',\n",
       "     'description': 'runtime parameter for tool Sort'},\n",
       "    {'id': 'input',\n",
       "     'name': 'input',\n",
       "     'description': 'runtime parameter for tool Change Case'}],\n",
       "   'outputs': [{'id': 'out_file1', 'name': 'out_file1', 'type': 'input'},\n",
       "    {'id': 'out_file1', 'name': 'out_file1', 'type': 'tabular'}],\n",
       "   'steps': [{'id': 0, 'name': 'bed_input', 'description': '\\n '},\n",
       "    {'id': 1, 'name': 'sort', 'description': '\\n sort1'},\n",
       "    {'id': 2, 'name': 'change_case', 'description': '\\n ChangeCase'}]}},\n",
       " 'relationships': {'creators': {'data': []},\n",
       "  'submitter': {'data': [{'id': '2', 'type': 'people'}]},\n",
       "  'people': {'data': [{'id': '2', 'type': 'people'}]},\n",
       "  'projects': {'data': [{'id': '2', 'type': 'projects'}]},\n",
       "  'investigations': {'data': []},\n",
       "  'studies': {'data': []},\n",
       "  'assays': {'data': []},\n",
       "  'publications': {'data': []},\n",
       "  'sops': {'data': []}},\n",
       " 'links': {'self': '/workflows/21?version=1'},\n",
       " 'meta': {'created': '2021-04-23T10:55:02.899Z',\n",
       "  'modified': '2021-04-23T10:55:02.899Z',\n",
       "  'api_version': '0.3',\n",
       "  'uuid': '478b43f0-8650-0139-d67a-0242ac1b0005',\n",
       "  'base_url': 'https://seek:3000'}}"
      ]
     },
     "execution_count": 15,
     "metadata": {},
     "output_type": "execute_result"
    }
   ],
   "source": [
    "# Get workflow details\n",
    "response = seek_session.get(f\"{wfhub_url}/workflows/{wf_id}\")\n",
    "assert response.status_code == 200, f\"Unexpected error {response.status_code}: {response.content}\"\n",
    "workflow = response.json()[\"data\"]\n",
    "workflow"
   ]
  },
  {
   "cell_type": "code",
   "execution_count": 16,
   "metadata": {},
   "outputs": [
    {
     "data": {
      "text/plain": [
       "{'uuid': '478b43f0-8650-0139-d67a-0242ac1b0005',\n",
       " 'version': '1',\n",
       " 'name': 'sort-and-change-case',\n",
       " 'roc_link': 'https://seek:3000/workflows/21/content_blobs/34/download'}"
      ]
     },
     "execution_count": 16,
     "metadata": {},
     "output_type": "execute_result"
    }
   ],
   "source": [
    "# Prepare the JSON data required to submit the workflow to LifeMonitor\n",
    "workflow_uuid = workflow['meta']['uuid']\n",
    "workflow_version = str(workflow[\"attributes\"][\"versions\"][0]['version']) # pick the first version\n",
    "workflow_name = workflow[\"attributes\"][\"title\"]\n",
    "workflow_roc_link = f'{workflow[\"attributes\"][\"content_blobs\"][0][\"link\"]}/download'\n",
    "post_data = {\n",
    "    'uuid': workflow_uuid,\n",
    "    'version': workflow_version,\n",
    "    'name': workflow_name,\n",
    "    'roc_link': workflow_roc_link\n",
    "}\n",
    "post_data"
   ]
  },
  {
   "cell_type": "code",
   "execution_count": 17,
   "metadata": {},
   "outputs": [
    {
     "name": "stderr",
     "output_type": "stream",
     "text": [
      "/usr/lib/python3/dist-packages/urllib3/connectionpool.py:860: InsecureRequestWarning: Unverified HTTPS request is being made. Adding certificate verification is strongly advised. See: https://urllib3.readthedocs.io/en/latest/advanced-usage.html#ssl-warnings\n",
      "  InsecureRequestWarning)\n"
     ]
    },
    {
     "data": {
      "text/plain": [
       "{'wf_uuid': '478b43f0-8650-0139-d67a-0242ac1b0005', 'wf_version': '1'}"
      ]
     },
     "execution_count": 17,
     "metadata": {},
     "output_type": "execute_result"
    }
   ],
   "source": [
    "# Submit the workflow to LifeMonitor\n",
    "response = s.post(f\"{lm_base_url}/registries/current/workflows\", json=post_data)\n",
    "# assert response.status_code == 201, \"Error: status code {} !!!\".format(response.status_code)\n",
    "data = response.json()\n",
    "data"
   ]
  },
  {
   "cell_type": "code",
   "execution_count": 18,
   "metadata": {},
   "outputs": [],
   "source": [
    "wf_uuid = data['wf_uuid']\n",
    "wf_version = data['wf_version']"
   ]
  },
  {
   "cell_type": "code",
   "execution_count": 19,
   "metadata": {},
   "outputs": [
    {
     "name": "stderr",
     "output_type": "stream",
     "text": [
      "/usr/lib/python3/dist-packages/urllib3/connectionpool.py:860: InsecureRequestWarning: Unverified HTTPS request is being made. Adding certificate verification is strongly advised. See: https://urllib3.readthedocs.io/en/latest/advanced-usage.html#ssl-warnings\n",
      "  InsecureRequestWarning)\n"
     ]
    },
    {
     "data": {
      "text/plain": [
       "{'items': [{'latest_version': '1',\n",
       "   'name': 'sort-and-change-case',\n",
       "   'status': {'aggregate_test_status': 'all_passing',\n",
       "    'latest_build': {'build_id': '4',\n",
       "     'instance': {'managed': False,\n",
       "      'name': 'test1_1',\n",
       "      'resource': 'job/test/',\n",
       "      'roc_instance': '#test1_1',\n",
       "      'service': {'type': 'jenkins',\n",
       "       'url': 'http://jenkins:8080/',\n",
       "       'uuid': 'f4db218c-08bc-4e38-88d5-c6a06bfc252e'},\n",
       "      'uuid': 'ef079104-4d08-4984-a8ae-95774063db9f'},\n",
       "     'last_logs': 'Started by user Admin Jenkins\\nRunning as SYSTEM\\nBuilding in workspace /var/jenkins_home/workspace/test\\n[test] $ /bin/sh -xe /tmp/jenkins2038142812728915165.sh\\n+ ls -larth\\ntotal 8.0K\\ndrwxr-sr-x 3 jenkins jenkins 4.0K Oct  6 15:16 ..\\ndrwxr-sr-x 2 jenkins jenkins 4.0K Oct  6 15:16 .\\nFinished: SUCCESS\\n',\n",
       "     'status': 'passed',\n",
       "     'suite_uuid': '872e5838-3b86-4461-87c7-5478903cadd3',\n",
       "     'timestamp': '1601997383446'}},\n",
       "   'uuid': '478b43f0-8650-0139-d67a-0242ac1b0005'}],\n",
       " 'meta': {'api_version': '0.2.0-beta2',\n",
       "  'base_url': 'https://172.19.0.4:8000',\n",
       "  'resource': '/workflows'}}"
      ]
     },
     "execution_count": 19,
     "metadata": {},
     "output_type": "execute_result"
    }
   ],
   "source": [
    "# Get workflows\n",
    "response = s.get(f\"{lm_base_url}/workflows\")\n",
    "assert response.status_code == 200, f\"Unexpected error {response.status_code}: {response.content}\"\n",
    "registry_workflows = response.json()\n",
    "registry_workflows"
   ]
  },
  {
   "cell_type": "code",
   "execution_count": 20,
   "metadata": {},
   "outputs": [
    {
     "name": "stderr",
     "output_type": "stream",
     "text": [
      "/usr/lib/python3/dist-packages/urllib3/connectionpool.py:860: InsecureRequestWarning: Unverified HTTPS request is being made. Adding certificate verification is strongly advised. See: https://urllib3.readthedocs.io/en/latest/advanced-usage.html#ssl-warnings\n",
      "  InsecureRequestWarning)\n"
     ]
    },
    {
     "data": {
      "text/plain": [
       "{'meta': {'api_version': '0.2.0-beta2',\n",
       "  'base_url': 'https://172.19.0.4:8000',\n",
       "  'created': '2021-04-28T08:22:17.838925',\n",
       "  'modified': '2021-04-28T08:22:17.838931',\n",
       "  'resource': '/workflows/478b43f0-8650-0139-d67a-0242ac1b0005'},\n",
       " 'name': 'sort-and-change-case',\n",
       " 'registry': {'name': 'seek',\n",
       "  'type': 'seek',\n",
       "  'uri': 'https://seek:3000',\n",
       "  'uuid': '8ee6f93b-ac01-4183-b90e-14fec7ac9d22'},\n",
       " 'uuid': '478b43f0-8650-0139-d67a-0242ac1b0005',\n",
       " 'version': {'is_latest': True,\n",
       "  'ro_crate': {'links': {'download': 'https://172.19.0.4:8000/ro_crates/6/download',\n",
       "    'external': 'https://seek:3000/workflows/21/content_blobs/34/download'}},\n",
       "  'uuid': '31b6bdb2-2185-4fc8-b13b-2847f4425d68',\n",
       "  'version': '1'}}"
      ]
     },
     "execution_count": 20,
     "metadata": {},
     "output_type": "execute_result"
    }
   ],
   "source": [
    "# Get workflow details\n",
    "response = s.get(f\"{lm_base_url}/workflows/{workflow_uuid}\")\n",
    "assert response.status_code == 200, f\"Unexpected error {response.status_code}: {response.content}\"\n",
    "workflow = response.json()\n",
    "workflow"
   ]
  },
  {
   "cell_type": "code",
   "execution_count": 21,
   "metadata": {},
   "outputs": [
    {
     "name": "stderr",
     "output_type": "stream",
     "text": [
      "/usr/lib/python3/dist-packages/urllib3/connectionpool.py:860: InsecureRequestWarning: Unverified HTTPS request is being made. Adding certificate verification is strongly advised. See: https://urllib3.readthedocs.io/en/latest/advanced-usage.html#ssl-warnings\n",
      "  InsecureRequestWarning)\n"
     ]
    },
    {
     "data": {
      "text/plain": [
       "{'aggregate_test_status': 'all_passing',\n",
       " 'latest_builds': [{'build_id': '4',\n",
       "   'instance': {'managed': False,\n",
       "    'name': 'test1_1',\n",
       "    'resource': 'job/test/',\n",
       "    'roc_instance': '#test1_1',\n",
       "    'service': {'type': 'jenkins',\n",
       "     'url': 'http://jenkins:8080/',\n",
       "     'uuid': 'f4db218c-08bc-4e38-88d5-c6a06bfc252e'},\n",
       "    'uuid': 'ef079104-4d08-4984-a8ae-95774063db9f'},\n",
       "   'last_logs': 'Started by user Admin Jenkins\\nRunning as SYSTEM\\nBuilding in workspace /var/jenkins_home/workspace/test\\n[test] $ /bin/sh -xe /tmp/jenkins2038142812728915165.sh\\n+ ls -larth\\ntotal 8.0K\\ndrwxr-sr-x 3 jenkins jenkins 4.0K Oct  6 15:16 ..\\ndrwxr-sr-x 2 jenkins jenkins 4.0K Oct  6 15:16 .\\nFinished: SUCCESS\\n',\n",
       "   'status': 'passed',\n",
       "   'suite_uuid': '872e5838-3b86-4461-87c7-5478903cadd3',\n",
       "   'timestamp': '1601997383446'}],\n",
       " 'meta': {'api_version': '0.2.0-beta2',\n",
       "  'base_url': 'https://172.19.0.4:8000',\n",
       "  'created': '2021-04-28T08:22:17.838925',\n",
       "  'modified': '2021-04-28T08:22:17.838931',\n",
       "  'resource': '/workflows/478b43f0-8650-0139-d67a-0242ac1b0005/status'},\n",
       " 'name': 'sort-and-change-case',\n",
       " 'registry': {'name': 'seek',\n",
       "  'type': 'seek',\n",
       "  'uri': 'https://seek:3000',\n",
       "  'uuid': '8ee6f93b-ac01-4183-b90e-14fec7ac9d22'},\n",
       " 'uuid': '478b43f0-8650-0139-d67a-0242ac1b0005',\n",
       " 'version': {'is_latest': True,\n",
       "  'ro_crate': {'links': {'download': 'https://172.19.0.4:8000/ro_crates/6/download',\n",
       "    'external': 'https://seek:3000/workflows/21/content_blobs/34/download'}},\n",
       "  'uuid': '31b6bdb2-2185-4fc8-b13b-2847f4425d68',\n",
       "  'version': '1'}}"
      ]
     },
     "execution_count": 21,
     "metadata": {},
     "output_type": "execute_result"
    }
   ],
   "source": [
    "# Get workflow status\n",
    "response = s.get(f\"{lm_base_url}/workflows/{workflow_uuid}/status\")\n",
    "assert response.status_code == 200, f\"Unexpected error {response.status_code}: {response.content}\"\n",
    "status = response.json()\n",
    "status"
   ]
  },
  {
   "cell_type": "code",
   "execution_count": 22,
   "metadata": {},
   "outputs": [
    {
     "name": "stderr",
     "output_type": "stream",
     "text": [
      "/usr/lib/python3/dist-packages/urllib3/connectionpool.py:860: InsecureRequestWarning: Unverified HTTPS request is being made. Adding certificate verification is strongly advised. See: https://urllib3.readthedocs.io/en/latest/advanced-usage.html#ssl-warnings\n",
      "  InsecureRequestWarning)\n"
     ]
    },
    {
     "data": {
      "text/plain": [
       "{'items': [{'definition': {'test_engine': {'type': 'planemo',\n",
       "     'version': '>=0.70'}},\n",
       "   'instances': [{'managed': False,\n",
       "     'name': 'test1_1',\n",
       "     'resource': 'job/test/',\n",
       "     'roc_instance': '#test1_1',\n",
       "     'service': {'type': 'jenkins',\n",
       "      'url': 'http://jenkins:8080/',\n",
       "      'uuid': 'f4db218c-08bc-4e38-88d5-c6a06bfc252e'},\n",
       "     'uuid': 'ef079104-4d08-4984-a8ae-95774063db9f'}],\n",
       "   'roc_suite': '#test1',\n",
       "   'uuid': '872e5838-3b86-4461-87c7-5478903cadd3'}],\n",
       " 'meta': {'api_version': '0.2.0-beta2',\n",
       "  'base_url': 'https://172.19.0.4:8000',\n",
       "  'resource': '/workflows/478b43f0-8650-0139-d67a-0242ac1b0005/suites'}}"
      ]
     },
     "execution_count": 22,
     "metadata": {},
     "output_type": "execute_result"
    }
   ],
   "source": [
    "# Get test suites for the workflow\n",
    "response = s.get(f\"{lm_base_url}/workflows/{workflow_uuid}/suites\")\n",
    "assert response.status_code == 200, f\"Unexpected error {response.status_code}: {response.content}\"\n",
    "suites = response.json()\n",
    "suites"
   ]
  },
  {
   "cell_type": "code",
   "execution_count": 23,
   "metadata": {},
   "outputs": [
    {
     "name": "stderr",
     "output_type": "stream",
     "text": [
      "/usr/lib/python3/dist-packages/urllib3/connectionpool.py:860: InsecureRequestWarning: Unverified HTTPS request is being made. Adding certificate verification is strongly advised. See: https://urllib3.readthedocs.io/en/latest/advanced-usage.html#ssl-warnings\n",
      "  InsecureRequestWarning)\n"
     ]
    },
    {
     "data": {
      "text/plain": [
       "{'definition': {'test_engine': {'type': 'planemo', 'version': '>=0.70'}},\n",
       " 'instances': [{'managed': False,\n",
       "   'name': 'test1_1',\n",
       "   'resource': 'job/test/',\n",
       "   'roc_instance': '#test1_1',\n",
       "   'service': {'type': 'jenkins',\n",
       "    'url': 'http://jenkins:8080/',\n",
       "    'uuid': 'f4db218c-08bc-4e38-88d5-c6a06bfc252e'},\n",
       "   'uuid': 'ef079104-4d08-4984-a8ae-95774063db9f'}],\n",
       " 'meta': {'api_version': '0.2.0-beta2',\n",
       "  'base_url': 'https://172.19.0.4:8000',\n",
       "  'resource': '/suites/872e5838-3b86-4461-87c7-5478903cadd3'},\n",
       " 'roc_suite': '#test1',\n",
       " 'uuid': '872e5838-3b86-4461-87c7-5478903cadd3'}"
      ]
     },
     "execution_count": 23,
     "metadata": {},
     "output_type": "execute_result"
    }
   ],
   "source": [
    "# Get the first test suite\n",
    "response = s.get(f\"{lm_base_url}/suites/{suites['items'][0]['uuid']}\")\n",
    "assert response.status_code == 200, f\"Unexpected error {response.status_code}: {response.content}\"\n",
    "suite = response.json()\n",
    "suite"
   ]
  },
  {
   "cell_type": "code",
   "execution_count": 24,
   "metadata": {},
   "outputs": [
    {
     "name": "stderr",
     "output_type": "stream",
     "text": [
      "/usr/lib/python3/dist-packages/urllib3/connectionpool.py:860: InsecureRequestWarning: Unverified HTTPS request is being made. Adding certificate verification is strongly advised. See: https://urllib3.readthedocs.io/en/latest/advanced-usage.html#ssl-warnings\n",
      "  InsecureRequestWarning)\n"
     ]
    },
    {
     "data": {
      "text/plain": [
       "{'latest_builds': [{'build_id': '4',\n",
       "   'instance': {'managed': False,\n",
       "    'name': 'test1_1',\n",
       "    'resource': 'job/test/',\n",
       "    'roc_instance': '#test1_1',\n",
       "    'service': {'type': 'jenkins',\n",
       "     'url': 'http://jenkins:8080/',\n",
       "     'uuid': 'f4db218c-08bc-4e38-88d5-c6a06bfc252e'},\n",
       "    'uuid': 'ef079104-4d08-4984-a8ae-95774063db9f'},\n",
       "   'last_logs': 'Started by user Admin Jenkins\\nRunning as SYSTEM\\nBuilding in workspace /var/jenkins_home/workspace/test\\n[test] $ /bin/sh -xe /tmp/jenkins2038142812728915165.sh\\n+ ls -larth\\ntotal 8.0K\\ndrwxr-sr-x 3 jenkins jenkins 4.0K Oct  6 15:16 ..\\ndrwxr-sr-x 2 jenkins jenkins 4.0K Oct  6 15:16 .\\nFinished: SUCCESS\\n',\n",
       "   'status': 'passed',\n",
       "   'suite_uuid': '872e5838-3b86-4461-87c7-5478903cadd3',\n",
       "   'timestamp': '1601997383446'}],\n",
       " 'meta': {'api_version': '0.2.0-beta2',\n",
       "  'base_url': 'https://172.19.0.4:8000',\n",
       "  'resource': '/suites/872e5838-3b86-4461-87c7-5478903cadd3/status'},\n",
       " 'status': 'all_passing',\n",
       " 'suite_uuid': '872e5838-3b86-4461-87c7-5478903cadd3'}"
      ]
     },
     "execution_count": 24,
     "metadata": {},
     "output_type": "execute_result"
    }
   ],
   "source": [
    "# Get the suite status\n",
    "response = s.get(f\"{lm_base_url}/suites/{suites['items'][0]['uuid']}/status\")\n",
    "assert response.status_code == 200, f\"Unexpected error {response.status_code}: {response.content}\"\n",
    "suite_status = response.json()\n",
    "suite_status"
   ]
  },
  {
   "cell_type": "code",
   "execution_count": 25,
   "metadata": {},
   "outputs": [
    {
     "name": "stderr",
     "output_type": "stream",
     "text": [
      "/usr/lib/python3/dist-packages/urllib3/connectionpool.py:860: InsecureRequestWarning: Unverified HTTPS request is being made. Adding certificate verification is strongly advised. See: https://urllib3.readthedocs.io/en/latest/advanced-usage.html#ssl-warnings\n",
      "  InsecureRequestWarning)\n"
     ]
    },
    {
     "data": {
      "text/plain": [
       "{'items': [{'managed': False,\n",
       "   'name': 'test1_1',\n",
       "   'resource': 'job/test/',\n",
       "   'roc_instance': '#test1_1',\n",
       "   'service': {'type': 'jenkins',\n",
       "    'url': 'http://jenkins:8080/',\n",
       "    'uuid': 'f4db218c-08bc-4e38-88d5-c6a06bfc252e'},\n",
       "   'uuid': 'ef079104-4d08-4984-a8ae-95774063db9f'}],\n",
       " 'meta': {'api_version': '0.2.0-beta2',\n",
       "  'base_url': 'https://172.19.0.4:8000',\n",
       "  'resource': '/suites/872e5838-3b86-4461-87c7-5478903cadd3/instances'}}"
      ]
     },
     "execution_count": 25,
     "metadata": {},
     "output_type": "execute_result"
    }
   ],
   "source": [
    "# Get the suite instances\n",
    "response = s.get(f\"{lm_base_url}/suites/{suites['items'][0]['uuid']}/instances\")\n",
    "assert response.status_code == 200, f\"Unexpected error {response.status_code}: {response.content}\"\n",
    "instances = response.json()\n",
    "instances"
   ]
  },
  {
   "cell_type": "code",
   "execution_count": 26,
   "metadata": {},
   "outputs": [
    {
     "name": "stderr",
     "output_type": "stream",
     "text": [
      "/usr/lib/python3/dist-packages/urllib3/connectionpool.py:860: InsecureRequestWarning: Unverified HTTPS request is being made. Adding certificate verification is strongly advised. See: https://urllib3.readthedocs.io/en/latest/advanced-usage.html#ssl-warnings\n",
      "  InsecureRequestWarning)\n"
     ]
    },
    {
     "data": {
      "text/plain": [
       "{'managed': False,\n",
       " 'meta': {'api_version': '0.2.0-beta2',\n",
       "  'base_url': 'https://172.19.0.4:8000',\n",
       "  'resource': '/instances/ef079104-4d08-4984-a8ae-95774063db9f'},\n",
       " 'name': 'test1_1',\n",
       " 'resource': 'job/test/',\n",
       " 'roc_instance': '#test1_1',\n",
       " 'service': {'type': 'jenkins',\n",
       "  'url': 'http://jenkins:8080/',\n",
       "  'uuid': 'f4db218c-08bc-4e38-88d5-c6a06bfc252e'},\n",
       " 'uuid': 'ef079104-4d08-4984-a8ae-95774063db9f'}"
      ]
     },
     "execution_count": 26,
     "metadata": {},
     "output_type": "execute_result"
    }
   ],
   "source": [
    "# Get the first test suite instance\n",
    "response = s.get(f\"{lm_base_url}/instances/{instances['items'][0]['uuid']}\")\n",
    "assert response.status_code == 200, f\"Unexpected error {response.status_code}: {response.content}\"\n",
    "instance = response.json()\n",
    "instance"
   ]
  },
  {
   "cell_type": "code",
   "execution_count": 27,
   "metadata": {},
   "outputs": [
    {
     "name": "stderr",
     "output_type": "stream",
     "text": [
      "/usr/lib/python3/dist-packages/urllib3/connectionpool.py:860: InsecureRequestWarning: Unverified HTTPS request is being made. Adding certificate verification is strongly advised. See: https://urllib3.readthedocs.io/en/latest/advanced-usage.html#ssl-warnings\n",
      "  InsecureRequestWarning)\n"
     ]
    },
    {
     "data": {
      "text/plain": [
       "{'items': [{'build_id': '4',\n",
       "   'instance': {'managed': False,\n",
       "    'name': 'test1_1',\n",
       "    'resource': 'job/test/',\n",
       "    'roc_instance': '#test1_1',\n",
       "    'service': {'type': 'jenkins',\n",
       "     'url': 'http://jenkins:8080/',\n",
       "     'uuid': 'f4db218c-08bc-4e38-88d5-c6a06bfc252e'},\n",
       "    'uuid': 'ef079104-4d08-4984-a8ae-95774063db9f'},\n",
       "   'last_logs': 'Started by user Admin Jenkins\\nRunning as SYSTEM\\nBuilding in workspace /var/jenkins_home/workspace/test\\n[test] $ /bin/sh -xe /tmp/jenkins2038142812728915165.sh\\n+ ls -larth\\ntotal 8.0K\\ndrwxr-sr-x 3 jenkins jenkins 4.0K Oct  6 15:16 ..\\ndrwxr-sr-x 2 jenkins jenkins 4.0K Oct  6 15:16 .\\nFinished: SUCCESS\\n',\n",
       "   'status': 'passed',\n",
       "   'suite_uuid': '872e5838-3b86-4461-87c7-5478903cadd3',\n",
       "   'timestamp': '1601997383446'},\n",
       "  {'build_id': '3',\n",
       "   'instance': {'managed': False,\n",
       "    'name': 'test1_1',\n",
       "    'resource': 'job/test/',\n",
       "    'roc_instance': '#test1_1',\n",
       "    'service': {'type': 'jenkins',\n",
       "     'url': 'http://jenkins:8080/',\n",
       "     'uuid': 'f4db218c-08bc-4e38-88d5-c6a06bfc252e'},\n",
       "    'uuid': 'ef079104-4d08-4984-a8ae-95774063db9f'},\n",
       "   'last_logs': 'Started by user Admin Jenkins\\nRunning as SYSTEM\\nBuilding in workspace /var/jenkins_home/workspace/test\\n[test] $ /bin/sh -xe /tmp/jenkins3251177559311753127.sh\\n+ ls -larth\\ntotal 8.0K\\ndrwxr-sr-x 3 jenkins jenkins 4.0K Oct  6 15:16 ..\\ndrwxr-sr-x 2 jenkins jenkins 4.0K Oct  6 15:16 .\\nFinished: SUCCESS\\n',\n",
       "   'status': 'passed',\n",
       "   'suite_uuid': '872e5838-3b86-4461-87c7-5478903cadd3',\n",
       "   'timestamp': '1601997382352'},\n",
       "  {'build_id': '2',\n",
       "   'instance': {'managed': False,\n",
       "    'name': 'test1_1',\n",
       "    'resource': 'job/test/',\n",
       "    'roc_instance': '#test1_1',\n",
       "    'service': {'type': 'jenkins',\n",
       "     'url': 'http://jenkins:8080/',\n",
       "     'uuid': 'f4db218c-08bc-4e38-88d5-c6a06bfc252e'},\n",
       "    'uuid': 'ef079104-4d08-4984-a8ae-95774063db9f'},\n",
       "   'last_logs': 'Started by user Admin Jenkins\\nRunning as SYSTEM\\nBuilding in workspace /var/jenkins_home/workspace/test\\n[test] $ /bin/sh -xe /tmp/jenkins3471495593679386046.sh\\n+ ls -larth\\ntotal 8.0K\\ndrwxr-sr-x 3 jenkins jenkins 4.0K Oct  6 15:16 ..\\ndrwxr-sr-x 2 jenkins jenkins 4.0K Oct  6 15:16 .\\nFinished: SUCCESS\\n',\n",
       "   'status': 'passed',\n",
       "   'suite_uuid': '872e5838-3b86-4461-87c7-5478903cadd3',\n",
       "   'timestamp': '1601997379233'},\n",
       "  {'build_id': '1',\n",
       "   'instance': {'managed': False,\n",
       "    'name': 'test1_1',\n",
       "    'resource': 'job/test/',\n",
       "    'roc_instance': '#test1_1',\n",
       "    'service': {'type': 'jenkins',\n",
       "     'url': 'http://jenkins:8080/',\n",
       "     'uuid': 'f4db218c-08bc-4e38-88d5-c6a06bfc252e'},\n",
       "    'uuid': 'ef079104-4d08-4984-a8ae-95774063db9f'},\n",
       "   'last_logs': 'Started by user Admin Jenkins\\nRunning as SYSTEM\\nBuilding in workspace /var/jenkins_home/workspace/test\\n[test] $ /bin/sh -xe /tmp/jenkins5791607255757933039.sh\\n+ ls -larth\\ntotal 8.0K\\ndrwxr-sr-x 3 jenkins jenkins 4.0K Oct  6 15:16 ..\\ndrwxr-sr-x 2 jenkins jenkins 4.0K Oct  6 15:16 .\\nFinished: SUCCESS\\n',\n",
       "   'status': 'passed',\n",
       "   'suite_uuid': '872e5838-3b86-4461-87c7-5478903cadd3',\n",
       "   'timestamp': '1601997377980'}],\n",
       " 'meta': {'api_version': '0.2.0-beta2',\n",
       "  'base_url': 'https://172.19.0.4:8000',\n",
       "  'resource': '/instances/ef079104-4d08-4984-a8ae-95774063db9f/latest-builds'}}"
      ]
     },
     "execution_count": 27,
     "metadata": {},
     "output_type": "execute_result"
    }
   ],
   "source": [
    "# Get latest builds of the first test suite instance\n",
    "response = s.get(f\"{lm_base_url}/instances/{instance['uuid']}/latest-builds\")\n",
    "assert response.status_code == 200, f\"Unexpected error {response.status_code}: {response.content}\"\n",
    "latest_builds = response.json()\n",
    "latest_builds"
   ]
  },
  {
   "cell_type": "code",
   "execution_count": 28,
   "metadata": {},
   "outputs": [
    {
     "name": "stderr",
     "output_type": "stream",
     "text": [
      "/usr/lib/python3/dist-packages/urllib3/connectionpool.py:860: InsecureRequestWarning: Unverified HTTPS request is being made. Adding certificate verification is strongly advised. See: https://urllib3.readthedocs.io/en/latest/advanced-usage.html#ssl-warnings\n",
      "  InsecureRequestWarning)\n"
     ]
    },
    {
     "data": {
      "text/plain": [
       "{'build_id': '1',\n",
       " 'instance': {'managed': False,\n",
       "  'name': 'test1_1',\n",
       "  'resource': 'job/test/',\n",
       "  'roc_instance': '#test1_1',\n",
       "  'service': {'type': 'jenkins',\n",
       "   'url': 'http://jenkins:8080/',\n",
       "   'uuid': 'f4db218c-08bc-4e38-88d5-c6a06bfc252e'},\n",
       "  'uuid': 'ef079104-4d08-4984-a8ae-95774063db9f'},\n",
       " 'last_logs': 'Started by user Admin Jenkins\\nRunning as SYSTEM\\nBuilding in workspace /var/jenkins_home/workspace/test\\n[test] $ /bin/sh -xe /tmp/jenkins5791607255757933039.sh\\n+ ls -larth\\ntotal 8.0K\\ndrwxr-sr-x 3 jenkins jenkins 4.0K Oct  6 15:16 ..\\ndrwxr-sr-x 2 jenkins jenkins 4.0K Oct  6 15:16 .\\nFinished: SUCCESS\\n',\n",
       " 'meta': {'api_version': '0.2.0-beta2',\n",
       "  'base_url': 'https://172.19.0.4:8000',\n",
       "  'resource': '/instances/ef079104-4d08-4984-a8ae-95774063db9f/builds/1'},\n",
       " 'status': 'passed',\n",
       " 'suite_uuid': '872e5838-3b86-4461-87c7-5478903cadd3',\n",
       " 'timestamp': '1601997377980'}"
      ]
     },
     "execution_count": 28,
     "metadata": {},
     "output_type": "execute_result"
    }
   ],
   "source": [
    "# Get test build '1'\n",
    "response = s.get(f\"{lm_base_url}/instances/{instance['uuid']}/builds/1\")\n",
    "assert response.status_code == 200, f\"Unexpected error {response.status_code}: {response.content}\"\n",
    "build1 = response.json()\n",
    "build1"
   ]
  },
  {
   "cell_type": "code",
   "execution_count": 29,
   "metadata": {},
   "outputs": [
    {
     "name": "stdout",
     "output_type": "stream",
     "text": [
      "Started by user Admin Jenkins\n",
      "Running as SYSTEM\n",
      "Building in workspace /var/jenkins_home/workspace/test\n",
      "[test] $ /bin/sh -xe /tmp/jenkins5791607255757933039.sh\n",
      "+ ls -larth\n",
      "total 8.0K\n",
      "drwxr-sr-x 3 jenkins jenkins 4.0K Oct  6 15:16 ..\n",
      "drwxr-sr-x 2 jenkins jenkins 4.0K Oct  6 15:16 .\n",
      "Finished: SUCCESS\n",
      "\n"
     ]
    },
    {
     "name": "stderr",
     "output_type": "stream",
     "text": [
      "/usr/lib/python3/dist-packages/urllib3/connectionpool.py:860: InsecureRequestWarning: Unverified HTTPS request is being made. Adding certificate verification is strongly advised. See: https://urllib3.readthedocs.io/en/latest/advanced-usage.html#ssl-warnings\n",
      "  InsecureRequestWarning)\n"
     ]
    }
   ],
   "source": [
    "# Get logs for test build '1'\n",
    "response = s.get(f\"{lm_base_url}/instances/{instance['uuid']}/builds/1/logs\")\n",
    "assert response.status_code == 200, f\"Unexpected error {response.status_code}: {response.content}\"\n",
    "build1 = response.json()\n",
    "print(build1)"
   ]
  }
 ],
 "metadata": {
  "kernelspec": {
   "display_name": "Python 3",
   "language": "python",
   "name": "python3"
  },
  "language_info": {
   "codemirror_mode": {
    "name": "ipython",
    "version": 3
   },
   "file_extension": ".py",
   "mimetype": "text/x-python",
   "name": "python",
   "nbconvert_exporter": "python",
   "pygments_lexer": "ipython3",
   "version": "3.6.9"
  }
 },
 "nbformat": 4,
 "nbformat_minor": 4
}
