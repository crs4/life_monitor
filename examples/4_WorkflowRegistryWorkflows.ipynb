{
 "cells": [
  {
   "cell_type": "markdown",
   "metadata": {},
   "source": [
    "# Registry workflows"
   ]
  },
  {
   "cell_type": "markdown",
   "metadata": {},
   "source": [
    "\n"
   ]
  },
  {
   "cell_type": "code",
   "execution_count": 1,
   "metadata": {},
   "outputs": [],
   "source": [
    "# set lifemonitor root path\n",
    "lifemonitor_root = \"/home/simleo/git/life_monitor\"\n",
    "%cd -q {lifemonitor_root}"
   ]
  },
  {
   "cell_type": "code",
   "execution_count": 2,
   "metadata": {},
   "outputs": [],
   "source": [
    "import requests"
   ]
  },
  {
   "cell_type": "code",
   "execution_count": 4,
   "metadata": {},
   "outputs": [],
   "source": [
    "# LifeMonitor URLs\n",
    "lm_base_url = \"https://localhost:8000\"\n",
    "lm_token_url = f\"{lm_base_url}/oauth2/token\""
   ]
  },
  {
   "cell_type": "code",
   "execution_count": 6,
   "metadata": {},
   "outputs": [],
   "source": [
    "# Copy the values of CLIENT_ID and CLIENT_SECRET from the output of \"flask registry show seek\"\n",
    "CLIENT_ID = \"g2ioTF0AzjFopXbRpSqPc2d2\"\n",
    "CLIENT_SECRET = \"PFYk1MUypSVgczX3cfncPmvfNARJnUe9TUJD23JPgaAyxnXL\""
   ]
  },
  {
   "cell_type": "code",
   "execution_count": 7,
   "metadata": {},
   "outputs": [
    {
     "name": "stderr",
     "output_type": "stream",
     "text": [
      "/usr/lib/python3/dist-packages/urllib3/connectionpool.py:860: InsecureRequestWarning: Unverified HTTPS request is being made. Adding certificate verification is strongly advised. See: https://urllib3.readthedocs.io/en/latest/advanced-usage.html#ssl-warnings\n",
      "  InsecureRequestWarning)\n"
     ]
    },
    {
     "data": {
      "text/plain": [
       "{'access_token': 'pD0oUCBBzp8C9MzJ1Iy111658GEPbdp2hxDgB2Gc3U',\n",
       " 'expires_in': 864000,\n",
       " 'scope': 'read write',\n",
       " 'token_type': 'Bearer'}"
      ]
     },
     "execution_count": 7,
     "metadata": {},
     "output_type": "execute_result"
    }
   ],
   "source": [
    "# fetch the token\n",
    "s = requests.session()\n",
    "s.verify = False\n",
    "s.headers.update({})\n",
    "token_response = s.post(\n",
    "    lm_token_url, \n",
    "    data={\n",
    "        \"client_id\": CLIENT_ID,\n",
    "        \"client_secret\": CLIENT_SECRET,\n",
    "        \"grant_type\": \"client_credentials\",\n",
    "        \"scope\": \"read write\"\n",
    "    }, allow_redirects=True, verify=False)\n",
    "assert token_response.status_code == 200\n",
    "token = token_response.json()\n",
    "token"
   ]
  },
  {
   "cell_type": "code",
   "execution_count": 8,
   "metadata": {},
   "outputs": [],
   "source": [
    "# Update headers with the OAuth2 token\n",
    "s.headers.update({'Authorization': f\"Bearer {token['access_token']}\"})"
   ]
  },
  {
   "cell_type": "code",
   "execution_count": 9,
   "metadata": {},
   "outputs": [
    {
     "name": "stderr",
     "output_type": "stream",
     "text": [
      "/usr/lib/python3/dist-packages/urllib3/connectionpool.py:860: InsecureRequestWarning: Unverified HTTPS request is being made. Adding certificate verification is strongly advised. See: https://urllib3.readthedocs.io/en/latest/advanced-usage.html#ssl-warnings\n",
      "  InsecureRequestWarning)\n"
     ]
    },
    {
     "data": {
      "text/plain": [
       "{'items': []}"
      ]
     },
     "execution_count": 9,
     "metadata": {},
     "output_type": "execute_result"
    }
   ],
   "source": [
    "# Get workflows\n",
    "response = s.get(f\"{lm_base_url}/workflows\")\n",
    "assert response.status_code == 200, f\"Unexpected error {response.status_code}: {response.content}\"\n",
    "registry_workflows = response.json()\n",
    "registry_workflows"
   ]
  },
  {
   "cell_type": "code",
   "execution_count": 10,
   "metadata": {},
   "outputs": [
    {
     "name": "stderr",
     "output_type": "stream",
     "text": [
      "/usr/lib/python3/dist-packages/urllib3/connectionpool.py:860: InsecureRequestWarning: Unverified HTTPS request is being made. Adding certificate verification is strongly advised. See: https://urllib3.readthedocs.io/en/latest/advanced-usage.html#ssl-warnings\n",
      "  InsecureRequestWarning)\n"
     ]
    },
    {
     "data": {
      "text/plain": [
       "{'items': [{'id': 2,\n",
       "   'identity': {'provider': {'name': 'seek',\n",
       "     'type': 'seek',\n",
       "     'uri': 'https://seek:3000',\n",
       "     'userinfo_endpoint': 'https://seek:3000/people/current?format=json'},\n",
       "    'sub': '2'},\n",
       "   'username': 'qgkpNNXtqY'}]}"
      ]
     },
     "execution_count": 10,
     "metadata": {},
     "output_type": "execute_result"
    }
   ],
   "source": [
    "# Pick a user registry\n",
    "response = s.get(f\"{lm_base_url}/users\")\n",
    "assert response.status_code == 200, f\"Unexpected error {response.status_code}: {response.content}\"\n",
    "registry_users = response.json()\n",
    "registry_users"
   ]
  },
  {
   "cell_type": "code",
   "execution_count": 12,
   "metadata": {},
   "outputs": [
    {
     "data": {
      "text/plain": [
       "{'id': 2,\n",
       " 'identity': {'provider': {'name': 'seek',\n",
       "   'type': 'seek',\n",
       "   'uri': 'https://seek:3000',\n",
       "   'userinfo_endpoint': 'https://seek:3000/people/current?format=json'},\n",
       "  'sub': '2'},\n",
       " 'username': 'qgkpNNXtqY'}"
      ]
     },
     "execution_count": 12,
     "metadata": {},
     "output_type": "execute_result"
    }
   ],
   "source": [
    "# Pick the first user\n",
    "assert len(registry_users ) > 0, \"Unexpected number of users. We need at least one registered user\"\n",
    "current_user = registry_users['items'][0]\n",
    "current_user"
   ]
  },
  {
   "cell_type": "code",
   "execution_count": 13,
   "metadata": {},
   "outputs": [
    {
     "data": {
      "text/plain": [
       "'2'"
      ]
     },
     "execution_count": 13,
     "metadata": {},
     "output_type": "execute_result"
    }
   ],
   "source": [
    "current_user['identity']['sub']"
   ]
  },
  {
   "cell_type": "code",
   "execution_count": 16,
   "metadata": {},
   "outputs": [
    {
     "name": "stderr",
     "output_type": "stream",
     "text": [
      "/usr/lib/python3/dist-packages/urllib3/connectionpool.py:860: InsecureRequestWarning: Unverified HTTPS request is being made. Adding certificate verification is strongly advised. See: https://urllib3.readthedocs.io/en/latest/advanced-usage.html#ssl-warnings\n",
      "  InsecureRequestWarning)\n"
     ]
    },
    {
     "data": {
      "text/plain": [
       "{'id': '2',\n",
       " 'type': 'people',\n",
       " 'attributes': {'avatar': None,\n",
       "  'title': 'First User',\n",
       "  'description': None,\n",
       "  'first_name': 'First',\n",
       "  'last_name': 'User',\n",
       "  'orcid': None,\n",
       "  'mbox_sha1sum': 'afbdc5cf6a75764623cd1a4abb114a15e1436f5e',\n",
       "  'expertise': None,\n",
       "  'tools': None,\n",
       "  'project_positions': None},\n",
       " 'relationships': {'projects': {'data': [{'id': '2', 'type': 'projects'},\n",
       "    {'id': '3', 'type': 'projects'}]},\n",
       "  'institutions': {'data': [{'id': '1', 'type': 'institutions'}]},\n",
       "  'investigations': {'data': []},\n",
       "  'studies': {'data': []},\n",
       "  'assays': {'data': []},\n",
       "  'data_files': {'data': []},\n",
       "  'models': {'data': []},\n",
       "  'sops': {'data': []},\n",
       "  'publications': {'data': []},\n",
       "  'presentations': {'data': []},\n",
       "  'events': {'data': []},\n",
       "  'documents': {'data': []}},\n",
       " 'links': {'self': '/people/2'},\n",
       " 'meta': {'created': '2020-10-06T13:18:25.738Z',\n",
       "  'modified': '2020-10-06T13:18:25.738Z',\n",
       "  'api_version': '0.3',\n",
       "  'uuid': '56f77130-ea04-0138-8cef-0242c0a8ee02',\n",
       "  'base_url': 'https://seek:3000'}}"
      ]
     },
     "execution_count": 16,
     "metadata": {},
     "output_type": "execute_result"
    }
   ],
   "source": [
    "wfhub_url = \"https://seek:3000\"\n",
    "seek_session = requests.session()\n",
    "seek_session.verify = False\n",
    "seek_session.headers.update({\n",
    "    \"Content-type\": \"application/vnd.api+json\",\n",
    "    \"Accept\": \"application/vnd.api+json\",\n",
    "    \"Accept-Charset\": \"ISO-8859-1\"\n",
    "})\n",
    "seek_session.auth = requests.auth.HTTPBasicAuth(\"user1\", \"workflowhub\")\n",
    "response = seek_session.get(f\"{wfhub_url}/people/{current_user['identity']['sub']}\")\n",
    "assert response.status_code == 200, f\"Unexpected error {response.status_code}: {response.content}\"\n",
    "user1 = response.json()[\"data\"]\n",
    "user1"
   ]
  },
  {
   "cell_type": "code",
   "execution_count": 19,
   "metadata": {},
   "outputs": [
    {
     "name": "stderr",
     "output_type": "stream",
     "text": [
      "/usr/lib/python3/dist-packages/urllib3/connectionpool.py:860: InsecureRequestWarning: Unverified HTTPS request is being made. Adding certificate verification is strongly advised. See: https://urllib3.readthedocs.io/en/latest/advanced-usage.html#ssl-warnings\n",
      "  InsecureRequestWarning)\n"
     ]
    },
    {
     "data": {
      "text/plain": [
       "[{'id': '9',\n",
       "  'type': 'workflows',\n",
       "  'attributes': {'title': 'basefreqsum-invalid'},\n",
       "  'links': {'self': '/workflows/9'}},\n",
       " {'id': '7',\n",
       "  'type': 'workflows',\n",
       "  'attributes': {'title': 'sort-and-change-case-invalid'},\n",
       "  'links': {'self': '/workflows/7'}},\n",
       " {'id': '6',\n",
       "  'type': 'workflows',\n",
       "  'attributes': {'title': 'basefreqsum'},\n",
       "  'links': {'self': '/workflows/6'}},\n",
       " {'id': '5',\n",
       "  'type': 'workflows',\n",
       "  'attributes': {'title': 'sort-and-change-case'},\n",
       "  'links': {'self': '/workflows/5'}}]"
      ]
     },
     "execution_count": 19,
     "metadata": {},
     "output_type": "execute_result"
    }
   ],
   "source": [
    "response = seek_session.get(f\"{wfhub_url}/workflows\")\n",
    "assert response.status_code == 200, f\"Unexpected error {response.status_code}: {response.content}\"\n",
    "user_workflows = response.json()[\"data\"]\n",
    "user_workflows"
   ]
  },
  {
   "cell_type": "code",
   "execution_count": 20,
   "metadata": {},
   "outputs": [
    {
     "name": "stderr",
     "output_type": "stream",
     "text": [
      "/usr/lib/python3/dist-packages/urllib3/connectionpool.py:860: InsecureRequestWarning: Unverified HTTPS request is being made. Adding certificate verification is strongly advised. See: https://urllib3.readthedocs.io/en/latest/advanced-usage.html#ssl-warnings\n",
      "  InsecureRequestWarning)\n"
     ]
    },
    {
     "data": {
      "text/plain": [
       "{'id': '5',\n",
       " 'type': 'workflows',\n",
       " 'attributes': {'policy': {'access': 'no_access',\n",
       "   'permissions': [{'resource': {'id': '3', 'type': 'projects'},\n",
       "     'access': 'download'}]},\n",
       "  'title': 'sort-and-change-case',\n",
       "  'description': 'sort lines and change text to upper case',\n",
       "  'license': 'Apache-2.0',\n",
       "  'latest_version': 1,\n",
       "  'tags': None,\n",
       "  'discussion_links': None,\n",
       "  'versions': [{'version': 1,\n",
       "    'revision_comments': None,\n",
       "    'url': 'https://seek:3000/workflows/5?version=1'}],\n",
       "  'version': 1,\n",
       "  'revision_comments': None,\n",
       "  'created_at': '2020-10-06T14:37:07.112Z',\n",
       "  'updated_at': '2020-10-06T14:37:07.112Z',\n",
       "  'content_blobs': [{'original_filename': 'ro-crate-galaxy-sortchangecase.crate.zip',\n",
       "    'url': None,\n",
       "    'md5sum': '008e3381821327156968574cf2567f22',\n",
       "    'sha1sum': '871152e6fe0908579e89170df75953e420e7b73f',\n",
       "    'content_type': 'application/zip',\n",
       "    'link': 'https://seek:3000/workflows/5/content_blobs/5',\n",
       "    'size': 7087}],\n",
       "  'other_creators': None,\n",
       "  'workflow_class': {'title': 'Galaxy', 'key': 'Galaxy', 'description': None},\n",
       "  'internals': {'inputs': [{'id': 'input',\n",
       "     'name': 'input',\n",
       "     'description': 'runtime parameter for tool Sort'},\n",
       "    {'id': 'input',\n",
       "     'name': 'input',\n",
       "     'description': 'runtime parameter for tool Change Case'}],\n",
       "   'outputs': [{'id': 'out_file1', 'name': 'out_file1', 'type': 'input'},\n",
       "    {'id': 'out_file1', 'name': 'out_file1', 'type': 'tabular'}],\n",
       "   'steps': [{'id': 0, 'name': 'bed_input', 'description': '\\n '},\n",
       "    {'id': 1, 'name': 'sort', 'description': '\\n sort1'},\n",
       "    {'id': 2, 'name': 'change_case', 'description': '\\n ChangeCase'}]}},\n",
       " 'relationships': {'creators': {'data': []},\n",
       "  'submitter': {'data': [{'id': '2', 'type': 'people'}]},\n",
       "  'people': {'data': [{'id': '2', 'type': 'people'}]},\n",
       "  'projects': {'data': [{'id': '3', 'type': 'projects'}]},\n",
       "  'investigations': {'data': []},\n",
       "  'studies': {'data': []},\n",
       "  'assays': {'data': []},\n",
       "  'publications': {'data': []},\n",
       "  'sops': {'data': []}},\n",
       " 'links': {'self': '/workflows/5?version=1'},\n",
       " 'meta': {'created': '2020-10-06T14:37:07.052Z',\n",
       "  'modified': '2020-10-06T14:37:07.052Z',\n",
       "  'api_version': '0.3',\n",
       "  'uuid': '55203d00-ea0f-0138-9780-0242c0a8ee04',\n",
       "  'base_url': 'https://seek:3000'}}"
      ]
     },
     "execution_count": 20,
     "metadata": {},
     "output_type": "execute_result"
    }
   ],
   "source": [
    "# Get details of the workflow 'sort-and-change-case' (id '5')\n",
    "response = seek_session.get(f\"{wfhub_url}/workflows/5\")\n",
    "assert response.status_code == 200, f\"Unexpected error {response.status_code}: {response.content}\"\n",
    "workflow = response.json()[\"data\"]\n",
    "workflow"
   ]
  },
  {
   "cell_type": "code",
   "execution_count": 21,
   "metadata": {},
   "outputs": [
    {
     "data": {
      "text/plain": [
       "{'uuid': '55203d00-ea0f-0138-9780-0242c0a8ee04',\n",
       " 'version': '1',\n",
       " 'name': 'sort-and-change-case',\n",
       " 'roc_link': 'https://seek:3000/workflows/5/content_blobs/5/download',\n",
       " 'submitter_id': '2'}"
      ]
     },
     "execution_count": 21,
     "metadata": {},
     "output_type": "execute_result"
    }
   ],
   "source": [
    "# Prepare the JSON data required to post the workflow on LifeMonitor\n",
    "workflow_uuid = workflow['meta']['uuid']\n",
    "workflow_version = str(workflow[\"attributes\"][\"versions\"][0]['version']) # pick the first version\n",
    "workflow_name = workflow[\"attributes\"][\"title\"]\n",
    "workflow_roc_link = f'{workflow[\"attributes\"][\"content_blobs\"][0][\"link\"]}/download'\n",
    "post_data = {\n",
    "    'uuid': workflow_uuid,\n",
    "    'version': workflow_version,\n",
    "    'name': workflow_name,\n",
    "    'roc_link': workflow_roc_link,\n",
    "    'submitter_id': user1['id']\n",
    "}\n",
    "post_data"
   ]
  },
  {
   "cell_type": "code",
   "execution_count": 22,
   "metadata": {},
   "outputs": [
    {
     "name": "stderr",
     "output_type": "stream",
     "text": [
      "/usr/lib/python3/dist-packages/urllib3/connectionpool.py:860: InsecureRequestWarning: Unverified HTTPS request is being made. Adding certificate verification is strongly advised. See: https://urllib3.readthedocs.io/en/latest/advanced-usage.html#ssl-warnings\n",
      "  InsecureRequestWarning)\n"
     ]
    },
    {
     "data": {
      "text/plain": [
       "{'wf_uuid': '55203d00-ea0f-0138-9780-0242c0a8ee04', 'wf_version': '1'}"
      ]
     },
     "execution_count": 22,
     "metadata": {},
     "output_type": "execute_result"
    }
   ],
   "source": [
    "# trigger the registration of a the workflow 'sort-and-change-case' on LifeMonitor\n",
    "response = s.post(f\"{lm_base_url}/workflows\", json=post_data)\n",
    "assert response.status_code == 201, \"Error: status code {} !!!\".format(response.status_code)\n",
    "data = response.json()\n",
    "data"
   ]
  },
  {
   "cell_type": "code",
   "execution_count": 23,
   "metadata": {},
   "outputs": [],
   "source": [
    "wf_uuid = data['wf_uuid']\n",
    "wf_version = data['wf_version']"
   ]
  },
  {
   "cell_type": "code",
   "execution_count": 24,
   "metadata": {},
   "outputs": [
    {
     "name": "stderr",
     "output_type": "stream",
     "text": [
      "/usr/lib/python3/dist-packages/urllib3/connectionpool.py:860: InsecureRequestWarning: Unverified HTTPS request is being made. Adding certificate verification is strongly advised. See: https://urllib3.readthedocs.io/en/latest/advanced-usage.html#ssl-warnings\n",
      "  InsecureRequestWarning)\n"
     ]
    },
    {
     "data": {
      "text/plain": [
       "{'items': [{'name': 'sort-and-change-case',\n",
       "   'roc_link': 'https://seek:3000/workflows/5/content_blobs/5/download',\n",
       "   'uuid': '55203d00-ea0f-0138-9780-0242c0a8ee04',\n",
       "   'version': '1'}]}"
      ]
     },
     "execution_count": 24,
     "metadata": {},
     "output_type": "execute_result"
    }
   ],
   "source": [
    "# Get workflows\n",
    "response = s.get(f\"{lm_base_url}/workflows\")\n",
    "assert response.status_code == 200, f\"Unexpected error {response.status_code}: {response.content}\"\n",
    "registry_workflows = response.json()\n",
    "registry_workflows"
   ]
  },
  {
   "cell_type": "code",
   "execution_count": 25,
   "metadata": {},
   "outputs": [
    {
     "name": "stderr",
     "output_type": "stream",
     "text": [
      "/usr/lib/python3/dist-packages/urllib3/connectionpool.py:860: InsecureRequestWarning: Unverified HTTPS request is being made. Adding certificate verification is strongly advised. See: https://urllib3.readthedocs.io/en/latest/advanced-usage.html#ssl-warnings\n",
      "  InsecureRequestWarning)\n"
     ]
    },
    {
     "data": {
      "text/plain": [
       "{'name': 'sort-and-change-case',\n",
       " 'roc_link': 'https://seek:3000/workflows/5/content_blobs/5/download',\n",
       " 'uuid': '55203d00-ea0f-0138-9780-0242c0a8ee04',\n",
       " 'version': '1'}"
      ]
     },
     "execution_count": 25,
     "metadata": {},
     "output_type": "execute_result"
    }
   ],
   "source": [
    "# Get workflow details\n",
    "response = s.get(f\"{lm_base_url}/workflows/{workflow_uuid}/{workflow_version}\")\n",
    "assert response.status_code == 200, f\"Unexpected error {response.status_code}: {response.content}\"\n",
    "workflow = response.json()\n",
    "workflow"
   ]
  },
  {
   "cell_type": "code",
   "execution_count": 26,
   "metadata": {},
   "outputs": [
    {
     "name": "stderr",
     "output_type": "stream",
     "text": [
      "/usr/lib/python3/dist-packages/urllib3/connectionpool.py:860: InsecureRequestWarning: Unverified HTTPS request is being made. Adding certificate verification is strongly advised. See: https://urllib3.readthedocs.io/en/latest/advanced-usage.html#ssl-warnings\n",
      "  InsecureRequestWarning)\n"
     ]
    },
    {
     "data": {
      "text/plain": [
       "{'aggregate_test_status': 'all_passing',\n",
       " 'latest_builds': [{'build_id': '4',\n",
       "   'instance': {'name': 'test1',\n",
       "    'service': {'resource': 'job/test/',\n",
       "     'type': 'jenkins_testing_service',\n",
       "     'url': 'http://jenkins:8080/',\n",
       "     'uuid': '4c0b3da3-8e75-492e-971a-c210aab8d99c'},\n",
       "    'uuid': '4c0b3da3-8e75-492e-971a-c210aab8d99c'},\n",
       "   'last_logs': 'Started by user Admin Jenkins\\nRunning as SYSTEM\\nBuilding in workspace /var/jenkins_home/workspace/test\\n[test] $ /bin/sh -xe /tmp/jenkins2038142812728915165.sh\\n+ ls -larth\\ntotal 8.0K\\ndrwxr-sr-x 3 jenkins jenkins 4.0K Oct  6 15:16 ..\\ndrwxr-sr-x 2 jenkins jenkins 4.0K Oct  6 15:16 .\\nFinished: SUCCESS\\n',\n",
       "   'status': 'passed',\n",
       "   'suite_uuid': '29c74a52-6011-47e6-89c1-1f367e045ad6',\n",
       "   'timestamp': '1601997383446'}],\n",
       " 'workflow': {'name': 'sort-and-change-case',\n",
       "  'uuid': '55203d00-ea0f-0138-9780-0242c0a8ee04',\n",
       "  'version': '1'}}"
      ]
     },
     "execution_count": 26,
     "metadata": {},
     "output_type": "execute_result"
    }
   ],
   "source": [
    "# Get workflow status\n",
    "response = s.get(f\"{lm_base_url}/workflows/{workflow_uuid}/{workflow_version}/status\")\n",
    "assert response.status_code == 200, f\"Unexpected error {response.status_code}: {response.content}\"\n",
    "status = response.json()\n",
    "status"
   ]
  },
  {
   "cell_type": "code",
   "execution_count": 27,
   "metadata": {},
   "outputs": [
    {
     "name": "stderr",
     "output_type": "stream",
     "text": [
      "/usr/lib/python3/dist-packages/urllib3/connectionpool.py:860: InsecureRequestWarning: Unverified HTTPS request is being made. Adding certificate verification is strongly advised. See: https://urllib3.readthedocs.io/en/latest/advanced-usage.html#ssl-warnings\n",
      "  InsecureRequestWarning)\n"
     ]
    },
    {
     "data": {
      "text/plain": [
       "{'name': 'sort-and-change-case',\n",
       " 'roc_link': 'https://seek:3000/workflows/5/content_blobs/5/download',\n",
       " 'uuid': '55203d00-ea0f-0138-9780-0242c0a8ee04',\n",
       " 'version': '1'}"
      ]
     },
     "execution_count": 27,
     "metadata": {},
     "output_type": "execute_result"
    }
   ],
   "source": [
    "# Get latest version\n",
    "response = s.get(f\"{lm_base_url}/workflows/{wf_uuid}/{wf_version}\")\n",
    "assert response.status_code == 200, f\"Unexpected error {response.status_code}: {response.content}\"\n",
    "latest_version = response.json()\n",
    "latest_version"
   ]
  },
  {
   "cell_type": "code",
   "execution_count": 28,
   "metadata": {},
   "outputs": [
    {
     "name": "stderr",
     "output_type": "stream",
     "text": [
      "/usr/lib/python3/dist-packages/urllib3/connectionpool.py:860: InsecureRequestWarning: Unverified HTTPS request is being made. Adding certificate verification is strongly advised. See: https://urllib3.readthedocs.io/en/latest/advanced-usage.html#ssl-warnings\n",
      "  InsecureRequestWarning)\n"
     ]
    },
    {
     "data": {
      "text/plain": [
       "{'items': [{'instances': [{'name': 'test1',\n",
       "     'service': {'resource': 'job/test/',\n",
       "      'type': 'jenkins_testing_service',\n",
       "      'url': 'http://jenkins:8080/',\n",
       "      'uuid': '4c0b3da3-8e75-492e-971a-c210aab8d99c'},\n",
       "     'uuid': '4c0b3da3-8e75-492e-971a-c210aab8d99c'}],\n",
       "   'test_suite_metadata': {'@id': 'test-metadata.json',\n",
       "    'test': [{'definition': {'path': 'test1/sort-and-change-case-test.yml',\n",
       "       'test_engine': {'type': 'planemo', 'version': '>=0.70'}},\n",
       "      'instance': [{'name': 'example_jenkins',\n",
       "        'service': {'resource': 'job/test/',\n",
       "         'type': 'jenkins',\n",
       "         'url': 'http://jenkins:8080/'}}],\n",
       "      'name': 'test1'}],\n",
       "    'tmpformat': 'ro/workflow/test-metadata/0.1'},\n",
       "   'uuid': '29c74a52-6011-47e6-89c1-1f367e045ad6'}]}"
      ]
     },
     "execution_count": 28,
     "metadata": {},
     "output_type": "execute_result"
    }
   ],
   "source": [
    "# Get test suites for the workflow\n",
    "response = s.get(f\"{lm_base_url}/workflows/{workflow_uuid}/{workflow_version}/suites\")\n",
    "assert response.status_code == 200, f\"Unexpected error {response.status_code}: {response.content}\"\n",
    "suites = response.json()\n",
    "suites"
   ]
  },
  {
   "cell_type": "code",
   "execution_count": 29,
   "metadata": {},
   "outputs": [
    {
     "name": "stderr",
     "output_type": "stream",
     "text": [
      "/usr/lib/python3/dist-packages/urllib3/connectionpool.py:860: InsecureRequestWarning: Unverified HTTPS request is being made. Adding certificate verification is strongly advised. See: https://urllib3.readthedocs.io/en/latest/advanced-usage.html#ssl-warnings\n",
      "  InsecureRequestWarning)\n"
     ]
    },
    {
     "data": {
      "text/plain": [
       "{'instances': [{'name': 'test1',\n",
       "   'service': {'resource': 'job/test/',\n",
       "    'type': 'jenkins_testing_service',\n",
       "    'url': 'http://jenkins:8080/',\n",
       "    'uuid': '4c0b3da3-8e75-492e-971a-c210aab8d99c'},\n",
       "   'uuid': '4c0b3da3-8e75-492e-971a-c210aab8d99c'}],\n",
       " 'test_suite_metadata': {'@id': 'test-metadata.json',\n",
       "  'test': [{'definition': {'path': 'test1/sort-and-change-case-test.yml',\n",
       "     'test_engine': {'type': 'planemo', 'version': '>=0.70'}},\n",
       "    'instance': [{'name': 'example_jenkins',\n",
       "      'service': {'resource': 'job/test/',\n",
       "       'type': 'jenkins',\n",
       "       'url': 'http://jenkins:8080/'}}],\n",
       "    'name': 'test1'}],\n",
       "  'tmpformat': 'ro/workflow/test-metadata/0.1'},\n",
       " 'uuid': '29c74a52-6011-47e6-89c1-1f367e045ad6'}"
      ]
     },
     "execution_count": 29,
     "metadata": {},
     "output_type": "execute_result"
    }
   ],
   "source": [
    "# Get the first test suite\n",
    "response = s.get(f\"{lm_base_url}/suites/{suites['items'][0]['uuid']}\")\n",
    "assert response.status_code == 200, f\"Unexpected error {response.status_code}: {response.content}\"\n",
    "suite = response.json()\n",
    "suite"
   ]
  },
  {
   "cell_type": "code",
   "execution_count": 30,
   "metadata": {},
   "outputs": [
    {
     "name": "stderr",
     "output_type": "stream",
     "text": [
      "/usr/lib/python3/dist-packages/urllib3/connectionpool.py:860: InsecureRequestWarning: Unverified HTTPS request is being made. Adding certificate verification is strongly advised. See: https://urllib3.readthedocs.io/en/latest/advanced-usage.html#ssl-warnings\n",
      "  InsecureRequestWarning)\n"
     ]
    },
    {
     "data": {
      "text/plain": [
       "{'latest_builds': [{'build_id': '4',\n",
       "   'instance': {'name': 'test1',\n",
       "    'service': {'resource': 'job/test/',\n",
       "     'type': 'jenkins_testing_service',\n",
       "     'url': 'http://jenkins:8080/',\n",
       "     'uuid': '4c0b3da3-8e75-492e-971a-c210aab8d99c'},\n",
       "    'uuid': '4c0b3da3-8e75-492e-971a-c210aab8d99c'},\n",
       "   'last_logs': 'Started by user Admin Jenkins\\nRunning as SYSTEM\\nBuilding in workspace /var/jenkins_home/workspace/test\\n[test] $ /bin/sh -xe /tmp/jenkins2038142812728915165.sh\\n+ ls -larth\\ntotal 8.0K\\ndrwxr-sr-x 3 jenkins jenkins 4.0K Oct  6 15:16 ..\\ndrwxr-sr-x 2 jenkins jenkins 4.0K Oct  6 15:16 .\\nFinished: SUCCESS\\n',\n",
       "   'status': 'passed',\n",
       "   'suite_uuid': '29c74a52-6011-47e6-89c1-1f367e045ad6',\n",
       "   'timestamp': '1601997383446'}],\n",
       " 'status': 'all_passing',\n",
       " 'suite_uuid': '29c74a52-6011-47e6-89c1-1f367e045ad6'}"
      ]
     },
     "execution_count": 30,
     "metadata": {},
     "output_type": "execute_result"
    }
   ],
   "source": [
    "# Get the suite status\n",
    "response = s.get(f\"{lm_base_url}/suites/{suites['items'][0]['uuid']}/status\")\n",
    "assert response.status_code == 200, f\"Unexpected error {response.status_code}: {response.content}\"\n",
    "suite_status = response.json()\n",
    "suite_status"
   ]
  },
  {
   "cell_type": "code",
   "execution_count": 31,
   "metadata": {},
   "outputs": [
    {
     "name": "stderr",
     "output_type": "stream",
     "text": [
      "/usr/lib/python3/dist-packages/urllib3/connectionpool.py:860: InsecureRequestWarning: Unverified HTTPS request is being made. Adding certificate verification is strongly advised. See: https://urllib3.readthedocs.io/en/latest/advanced-usage.html#ssl-warnings\n",
      "  InsecureRequestWarning)\n"
     ]
    },
    {
     "data": {
      "text/plain": [
       "{'items': [{'name': 'test1',\n",
       "   'service': {'resource': 'job/test/',\n",
       "    'type': 'jenkins_testing_service',\n",
       "    'url': 'http://jenkins:8080/',\n",
       "    'uuid': '4c0b3da3-8e75-492e-971a-c210aab8d99c'},\n",
       "   'uuid': '4c0b3da3-8e75-492e-971a-c210aab8d99c'}]}"
      ]
     },
     "execution_count": 31,
     "metadata": {},
     "output_type": "execute_result"
    }
   ],
   "source": [
    "# Get the suite instances\n",
    "response = s.get(f\"{lm_base_url}/suites/{suites['items'][0]['uuid']}/instances\")\n",
    "assert response.status_code == 200, f\"Unexpected error {response.status_code}: {response.content}\"\n",
    "instances = response.json()\n",
    "instances"
   ]
  },
  {
   "cell_type": "code",
   "execution_count": 32,
   "metadata": {},
   "outputs": [
    {
     "name": "stderr",
     "output_type": "stream",
     "text": [
      "/usr/lib/python3/dist-packages/urllib3/connectionpool.py:860: InsecureRequestWarning: Unverified HTTPS request is being made. Adding certificate verification is strongly advised. See: https://urllib3.readthedocs.io/en/latest/advanced-usage.html#ssl-warnings\n",
      "  InsecureRequestWarning)\n"
     ]
    },
    {
     "data": {
      "text/plain": [
       "{'name': 'test1',\n",
       " 'service': {'resource': 'job/test/',\n",
       "  'type': 'jenkins_testing_service',\n",
       "  'url': 'http://jenkins:8080/',\n",
       "  'uuid': '4c0b3da3-8e75-492e-971a-c210aab8d99c'},\n",
       " 'uuid': '4c0b3da3-8e75-492e-971a-c210aab8d99c'}"
      ]
     },
     "execution_count": 32,
     "metadata": {},
     "output_type": "execute_result"
    }
   ],
   "source": [
    "# Get the first test suite instance\n",
    "response = s.get(f\"{lm_base_url}/instances/{instances['items'][0]['uuid']}\")\n",
    "assert response.status_code == 200, f\"Unexpected error {response.status_code}: {response.content}\"\n",
    "instance = response.json()\n",
    "instance"
   ]
  },
  {
   "cell_type": "code",
   "execution_count": 33,
   "metadata": {},
   "outputs": [
    {
     "name": "stderr",
     "output_type": "stream",
     "text": [
      "/usr/lib/python3/dist-packages/urllib3/connectionpool.py:860: InsecureRequestWarning: Unverified HTTPS request is being made. Adding certificate verification is strongly advised. See: https://urllib3.readthedocs.io/en/latest/advanced-usage.html#ssl-warnings\n",
      "  InsecureRequestWarning)\n"
     ]
    },
    {
     "data": {
      "text/plain": [
       "{'items': [{'build_id': '4',\n",
       "   'instance': {'name': 'test1',\n",
       "    'service': {'resource': 'job/test/',\n",
       "     'type': 'jenkins_testing_service',\n",
       "     'url': 'http://jenkins:8080/',\n",
       "     'uuid': '4c0b3da3-8e75-492e-971a-c210aab8d99c'},\n",
       "    'uuid': '4c0b3da3-8e75-492e-971a-c210aab8d99c'},\n",
       "   'last_logs': 'Started by user Admin Jenkins\\nRunning as SYSTEM\\nBuilding in workspace /var/jenkins_home/workspace/test\\n[test] $ /bin/sh -xe /tmp/jenkins2038142812728915165.sh\\n+ ls -larth\\ntotal 8.0K\\ndrwxr-sr-x 3 jenkins jenkins 4.0K Oct  6 15:16 ..\\ndrwxr-sr-x 2 jenkins jenkins 4.0K Oct  6 15:16 .\\nFinished: SUCCESS\\n',\n",
       "   'status': 'passed',\n",
       "   'suite_uuid': '29c74a52-6011-47e6-89c1-1f367e045ad6',\n",
       "   'timestamp': '1601997383446'},\n",
       "  {'build_id': '3',\n",
       "   'instance': {'name': 'test1',\n",
       "    'service': {'resource': 'job/test/',\n",
       "     'type': 'jenkins_testing_service',\n",
       "     'url': 'http://jenkins:8080/',\n",
       "     'uuid': '4c0b3da3-8e75-492e-971a-c210aab8d99c'},\n",
       "    'uuid': '4c0b3da3-8e75-492e-971a-c210aab8d99c'},\n",
       "   'last_logs': 'Started by user Admin Jenkins\\nRunning as SYSTEM\\nBuilding in workspace /var/jenkins_home/workspace/test\\n[test] $ /bin/sh -xe /tmp/jenkins3251177559311753127.sh\\n+ ls -larth\\ntotal 8.0K\\ndrwxr-sr-x 3 jenkins jenkins 4.0K Oct  6 15:16 ..\\ndrwxr-sr-x 2 jenkins jenkins 4.0K Oct  6 15:16 .\\nFinished: SUCCESS\\n',\n",
       "   'status': 'passed',\n",
       "   'suite_uuid': '29c74a52-6011-47e6-89c1-1f367e045ad6',\n",
       "   'timestamp': '1601997382352'},\n",
       "  {'build_id': '2',\n",
       "   'instance': {'name': 'test1',\n",
       "    'service': {'resource': 'job/test/',\n",
       "     'type': 'jenkins_testing_service',\n",
       "     'url': 'http://jenkins:8080/',\n",
       "     'uuid': '4c0b3da3-8e75-492e-971a-c210aab8d99c'},\n",
       "    'uuid': '4c0b3da3-8e75-492e-971a-c210aab8d99c'},\n",
       "   'last_logs': 'Started by user Admin Jenkins\\nRunning as SYSTEM\\nBuilding in workspace /var/jenkins_home/workspace/test\\n[test] $ /bin/sh -xe /tmp/jenkins3471495593679386046.sh\\n+ ls -larth\\ntotal 8.0K\\ndrwxr-sr-x 3 jenkins jenkins 4.0K Oct  6 15:16 ..\\ndrwxr-sr-x 2 jenkins jenkins 4.0K Oct  6 15:16 .\\nFinished: SUCCESS\\n',\n",
       "   'status': 'passed',\n",
       "   'suite_uuid': '29c74a52-6011-47e6-89c1-1f367e045ad6',\n",
       "   'timestamp': '1601997379233'},\n",
       "  {'build_id': '1',\n",
       "   'instance': {'name': 'test1',\n",
       "    'service': {'resource': 'job/test/',\n",
       "     'type': 'jenkins_testing_service',\n",
       "     'url': 'http://jenkins:8080/',\n",
       "     'uuid': '4c0b3da3-8e75-492e-971a-c210aab8d99c'},\n",
       "    'uuid': '4c0b3da3-8e75-492e-971a-c210aab8d99c'},\n",
       "   'last_logs': 'Started by user Admin Jenkins\\nRunning as SYSTEM\\nBuilding in workspace /var/jenkins_home/workspace/test\\n[test] $ /bin/sh -xe /tmp/jenkins5791607255757933039.sh\\n+ ls -larth\\ntotal 8.0K\\ndrwxr-sr-x 3 jenkins jenkins 4.0K Oct  6 15:16 ..\\ndrwxr-sr-x 2 jenkins jenkins 4.0K Oct  6 15:16 .\\nFinished: SUCCESS\\n',\n",
       "   'status': 'passed',\n",
       "   'suite_uuid': '29c74a52-6011-47e6-89c1-1f367e045ad6',\n",
       "   'timestamp': '1601997377980'}]}"
      ]
     },
     "execution_count": 33,
     "metadata": {},
     "output_type": "execute_result"
    }
   ],
   "source": [
    "# Get latest builds of the first test suite instance\n",
    "response = s.get(f\"{lm_base_url}/instances/{instance['uuid']}/latest-builds\")\n",
    "assert response.status_code == 200, f\"Unexpected error {response.status_code}: {response.content}\"\n",
    "latest_builds = response.json()\n",
    "latest_builds"
   ]
  },
  {
   "cell_type": "code",
   "execution_count": 34,
   "metadata": {},
   "outputs": [
    {
     "name": "stderr",
     "output_type": "stream",
     "text": [
      "/usr/lib/python3/dist-packages/urllib3/connectionpool.py:860: InsecureRequestWarning: Unverified HTTPS request is being made. Adding certificate verification is strongly advised. See: https://urllib3.readthedocs.io/en/latest/advanced-usage.html#ssl-warnings\n",
      "  InsecureRequestWarning)\n"
     ]
    },
    {
     "data": {
      "text/plain": [
       "{'build_id': '1',\n",
       " 'instance': {'name': 'test1',\n",
       "  'service': {'resource': 'job/test/',\n",
       "   'type': 'jenkins_testing_service',\n",
       "   'url': 'http://jenkins:8080/',\n",
       "   'uuid': '4c0b3da3-8e75-492e-971a-c210aab8d99c'},\n",
       "  'uuid': '4c0b3da3-8e75-492e-971a-c210aab8d99c'},\n",
       " 'last_logs': 'Started by user Admin Jenkins\\nRunning as SYSTEM\\nBuilding in workspace /var/jenkins_home/workspace/test\\n[test] $ /bin/sh -xe /tmp/jenkins5791607255757933039.sh\\n+ ls -larth\\ntotal 8.0K\\ndrwxr-sr-x 3 jenkins jenkins 4.0K Oct  6 15:16 ..\\ndrwxr-sr-x 2 jenkins jenkins 4.0K Oct  6 15:16 .\\nFinished: SUCCESS\\n',\n",
       " 'status': 'passed',\n",
       " 'suite_uuid': '29c74a52-6011-47e6-89c1-1f367e045ad6',\n",
       " 'timestamp': '1601997377980'}"
      ]
     },
     "execution_count": 34,
     "metadata": {},
     "output_type": "execute_result"
    }
   ],
   "source": [
    "# Get test build '1'\n",
    "response = s.get(f\"{lm_base_url}/instances/{instance['uuid']}/builds/1\")\n",
    "assert response.status_code == 200, f\"Unexpected error {response.status_code}: {response.content}\"\n",
    "build1 = response.json()\n",
    "build1"
   ]
  },
  {
   "cell_type": "code",
   "execution_count": 36,
   "metadata": {},
   "outputs": [
    {
     "name": "stdout",
     "output_type": "stream",
     "text": [
      "Started by user Admin Jenkins\n",
      "Running as SYSTEM\n",
      "Building in workspace /var/jenkins_home/workspace/test\n",
      "[test] $ /bin/sh -xe /tmp/jenkins5791607255757933039.sh\n",
      "+ ls -larth\n",
      "total 8.0K\n",
      "drwxr-sr-x 3 jenkins jenkins 4.0K Oct  6 15:16 ..\n",
      "drwxr-sr-x 2 jenkins jenkins 4.0K Oct  6 15:16 .\n",
      "Finished: SUCCESS\n",
      "\n"
     ]
    },
    {
     "name": "stderr",
     "output_type": "stream",
     "text": [
      "/usr/lib/python3/dist-packages/urllib3/connectionpool.py:860: InsecureRequestWarning: Unverified HTTPS request is being made. Adding certificate verification is strongly advised. See: https://urllib3.readthedocs.io/en/latest/advanced-usage.html#ssl-warnings\n",
      "  InsecureRequestWarning)\n"
     ]
    }
   ],
   "source": [
    "# Get logs for test build '1'\n",
    "response = s.get(f\"{lm_base_url}/instances/{instance['uuid']}/builds/1/logs\")\n",
    "assert response.status_code == 200, f\"Unexpected error {response.status_code}: {response.content}\"\n",
    "build1 = response.json()\n",
    "print(build1)"
   ]
  }
 ],
 "metadata": {
  "kernelspec": {
   "display_name": "Python 3",
   "language": "python",
   "name": "python3"
  },
  "language_info": {
   "codemirror_mode": {
    "name": "ipython",
    "version": 3
   },
   "file_extension": ".py",
   "mimetype": "text/x-python",
   "name": "python",
   "nbconvert_exporter": "python",
   "pygments_lexer": "ipython3",
   "version": "3.6.9"
  }
 },
 "nbformat": 4,
 "nbformat_minor": 4
}
