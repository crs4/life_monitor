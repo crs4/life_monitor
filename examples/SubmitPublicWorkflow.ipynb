{
 "cells": [
  {
   "cell_type": "markdown",
   "metadata": {},
   "source": [
    "# Submit a public workflow"
   ]
  },
  {
   "cell_type": "markdown",
   "metadata": {},
   "source": [
    "This notebook shows how to use the WorkflowHub and LifeMonitor APIs to:\n",
    "\n",
    "* Pick a workflow from WorkflowHub\n",
    "* Submit it to LifeMonitor as a public workflow\n",
    "* Query LifeMonitor about its testing status"
   ]
  },
  {
   "cell_type": "code",
   "execution_count": 1,
   "metadata": {},
   "outputs": [],
   "source": [
    "import requests\n",
    "import os\n",
    "from collections import Counter"
   ]
  },
  {
   "cell_type": "code",
   "execution_count": 2,
   "metadata": {},
   "outputs": [],
   "source": [
    "LM_BASE_URL = \"https://api.lifemonitor.eu\"\n",
    "LM_API_KEY = os.environ[\"LM_API_KEY\"]\n",
    "WH_BASE_URL = \"https://workflowhub.eu\""
   ]
  },
  {
   "cell_type": "code",
   "execution_count": 3,
   "metadata": {},
   "outputs": [],
   "source": [
    "LM_SESSION = requests.Session()\n",
    "WH_SESSION = requests.Session()\n",
    "WH_SESSION.headers.update({\n",
    "    \"Content-type\": \"application/vnd.api+json\",\n",
    "    \"Accept\": \"application/vnd.api+json\",\n",
    "    \"Accept-Charset\": \"ISO-8859-1\",\n",
    "})"
   ]
  },
  {
   "cell_type": "code",
   "execution_count": 4,
   "metadata": {},
   "outputs": [],
   "source": [
    "def lm_get(endpoint):\n",
    "    response = LM_SESSION.get(f\"{LM_BASE_URL}/{endpoint.lstrip('/')}\")\n",
    "    response.raise_for_status()\n",
    "    return response.json()\n",
    "\n",
    "def wh_get(endpoint):\n",
    "    response = WH_SESSION.get(f\"{WH_BASE_URL}/{endpoint.lstrip('/')}\")\n",
    "    response.raise_for_status()\n",
    "    return response.json()[\"data\"]"
   ]
  },
  {
   "cell_type": "markdown",
   "metadata": {},
   "source": [
    "No auth yet: get public workflows"
   ]
  },
  {
   "cell_type": "code",
   "execution_count": 5,
   "metadata": {},
   "outputs": [
    {
     "data": {
      "text/plain": [
       "{'items': [],\n",
       " 'links': {'self': 'https://api.lifemonitor.eu/workflows'},\n",
       " 'meta': {'api_version': '0.3.0',\n",
       "  'base_url': 'https://api.lifemonitor.eu',\n",
       "  'resource': '/workflows'}}"
      ]
     },
     "execution_count": 5,
     "metadata": {},
     "output_type": "execute_result"
    }
   ],
   "source": [
    "public_workflows = lm_get(\"/workflows\")\n",
    "public_workflows"
   ]
  },
  {
   "cell_type": "markdown",
   "metadata": {},
   "source": [
    "Update the session with auth info"
   ]
  },
  {
   "cell_type": "code",
   "execution_count": 6,
   "metadata": {},
   "outputs": [],
   "source": [
    "LM_SESSION.headers.update({\"ApiKey\": LM_API_KEY})"
   ]
  },
  {
   "cell_type": "markdown",
   "metadata": {},
   "source": [
    "Get the list of registries supported by LifeMonitor"
   ]
  },
  {
   "cell_type": "code",
   "execution_count": 7,
   "metadata": {},
   "outputs": [
    {
     "data": {
      "text/plain": [
       "[{'links': None,\n",
       "  'name': 'wfhub',\n",
       "  'type': 'seek',\n",
       "  'uri': 'https://workflowhub.eu',\n",
       "  'uuid': 'b556d831-a393-43bd-8047-98505b7fc20c'}]"
      ]
     },
     "execution_count": 7,
     "metadata": {},
     "output_type": "execute_result"
    }
   ],
   "source": [
    "registries = lm_get(\"/registries\")[\"items\"]\n",
    "registries"
   ]
  },
  {
   "cell_type": "code",
   "execution_count": 8,
   "metadata": {},
   "outputs": [],
   "source": [
    "registry = registries[0]\n",
    "assert registry[\"uri\"] == WH_BASE_URL"
   ]
  },
  {
   "cell_type": "markdown",
   "metadata": {},
   "source": [
    "Look for a workflow in WorkflowHub. We're going to pick one from the [IWC project](https://github.com/galaxyproject/iwc). IWC workflows are tested with GitHub Actions, and provide information about such testing via [Workflow Testing RO-Crate](https://crs4.github.io/life_monitor/workflow_testing_ro_crate) metadata files (see, for instance, https://github.com/iwc-workflows/sars-cov-2-consensus-from-variation)."
   ]
  },
  {
   "cell_type": "code",
   "execution_count": 9,
   "metadata": {},
   "outputs": [
    {
     "data": {
      "text/plain": [
       "'33'"
      ]
     },
     "execution_count": 9,
     "metadata": {},
     "output_type": "execute_result"
    }
   ],
   "source": [
    "wh_projects = wh_get(\"/projects\")\n",
    "wh_proj_map = {_[\"attributes\"][\"title\"]: _[\"id\"] for _ in wh_projects}\n",
    "iwc_proj_id = wh_proj_map[\"iwc\"]\n",
    "iwc_proj_id"
   ]
  },
  {
   "cell_type": "markdown",
   "metadata": {},
   "source": [
    "Get information on IWC workflows on WorkflowHub"
   ]
  },
  {
   "cell_type": "code",
   "execution_count": 10,
   "metadata": {},
   "outputs": [
    {
     "name": "stdout",
     "output_type": "stream",
     "text": [
      "109 sars-cov-2-variation-reporting/COVID-19-VARIATION-REPORTING\n",
      "110 sars-cov-2-pe-illumina-artic-variant-calling/COVID-19-PE-ARTIC-ILLUMINA\n",
      "111 COVID-19: variation analysis of ARTIC ONT data\n",
      "112 sars-cov-2-se-illumina-wgs-variant-calling/COVID-19-SE-WGS-ILLUMINA\n",
      "113 sars-cov-2-pe-illumina-wgs-variant-calling/COVID-19-PE-WGS-ILLUMINA\n",
      "137 parallel-accession-download/main\n",
      "138 sars-cov-2-consensus-from-variation/COVID-19-CONSENSUS-CONSTRUCTION\n",
      "155 SARS-CoV-2 Illumina Amplicon pipeline - iVar based\n"
     ]
    }
   ],
   "source": [
    "iwc_proj = wh_get(f\"/projects/{iwc_proj_id}\")\n",
    "iwc_wf_ids = [_[\"id\"] for _ in iwc_proj[\"relationships\"][\"workflows\"][\"data\"]]\n",
    "wh_workflows = wh_get(\"/workflows\")\n",
    "wh_wf_map = {_[\"id\"]: _[\"attributes\"][\"title\"] for _ in wh_workflows}\n",
    "for id_ in iwc_wf_ids:\n",
    "    print(id_, wh_wf_map[id_])"
   ]
  },
  {
   "cell_type": "markdown",
   "metadata": {},
   "source": [
    "Let's pick `\"sars-cov-2-consensus-from-variation/COVID-19-CONSENSUS-CONSTRUCTION\"` and submit it to LifeMonitor."
   ]
  },
  {
   "cell_type": "code",
   "execution_count": 11,
   "metadata": {},
   "outputs": [
    {
     "data": {
      "text/plain": [
       "{'identifier': '138',\n",
       " 'name': 'sars-cov-2-consensus-from-variation/COVID-19-CONSENSUS-CONSTRUCTION',\n",
       " 'version': '2',\n",
       " 'public': True}"
      ]
     },
     "execution_count": 11,
     "metadata": {},
     "output_type": "execute_result"
    }
   ],
   "source": [
    "wh_wf_id = \"138\"\n",
    "wh_wf = wh_get(f\"/workflows/{wh_wf_id}\")\n",
    "payload = {\n",
    "    \"identifier\": wh_wf_id,\n",
    "    \"name\": wh_wf[\"attributes\"][\"title\"],\n",
    "    \"version\": str(wh_wf[\"attributes\"][\"latest_version\"]),\n",
    "    \"public\": True,\n",
    "}\n",
    "payload"
   ]
  },
  {
   "cell_type": "code",
   "execution_count": 12,
   "metadata": {},
   "outputs": [
    {
     "data": {
      "text/plain": [
       "{'name': 'sars-cov-2-consensus-from-variation/COVID-19-CONSENSUS-CONSTRUCTION',\n",
       " 'uuid': 'e95b2410-cdc4-0139-988f-005056ab5db4',\n",
       " 'wf_version': '2'}"
      ]
     },
     "execution_count": 12,
     "metadata": {},
     "output_type": "execute_result"
    }
   ],
   "source": [
    "response = LM_SESSION.post(f\"{LM_BASE_URL}/registries/{registry['uuid']}/workflows\", json=payload)\n",
    "response.raise_for_status()\n",
    "data = response.json()\n",
    "data"
   ]
  },
  {
   "cell_type": "markdown",
   "metadata": {},
   "source": [
    "Get the newly posted workflow from LifeMonitor"
   ]
  },
  {
   "cell_type": "code",
   "execution_count": 13,
   "metadata": {},
   "outputs": [
    {
     "data": {
      "text/plain": [
       "{'links': {'self': 'https://api.lifemonitor.eu/workflows/e95b2410-cdc4-0139-988f-005056ab5db4'},\n",
       " 'meta': {'api_version': '0.3.0',\n",
       "  'base_url': 'https://api.lifemonitor.eu',\n",
       "  'created': '2021-11-03T14:28:19.915805',\n",
       "  'modified': '2021-11-03T14:28:19.915811',\n",
       "  'resource': '/workflows/e95b2410-cdc4-0139-988f-005056ab5db4'},\n",
       " 'name': 'sars-cov-2-consensus-from-variation/COVID-19-CONSENSUS-CONSTRUCTION',\n",
       " 'public': True,\n",
       " 'registry': {'name': 'wfhub',\n",
       "  'type': 'seek',\n",
       "  'uri': 'https://workflowhub.eu',\n",
       "  'uuid': 'b556d831-a393-43bd-8047-98505b7fc20c'},\n",
       " 'subscriptions': [],\n",
       " 'uuid': 'e95b2410-cdc4-0139-988f-005056ab5db4',\n",
       " 'version': {'is_latest': True,\n",
       "  'links': {'origin': 'https://workflowhub.eu/workflows/138?version=2'},\n",
       "  'name': 'sars-cov-2-consensus-from-variation/COVID-19-CONSENSUS-CONSTRUCTION',\n",
       "  'ro_crate': {'links': {'download': 'https://api.lifemonitor.eu/workflows/e95b2410-cdc4-0139-988f-005056ab5db4/rocrate/2/download',\n",
       "    'metadata': 'https://api.lifemonitor.eu/workflows/e95b2410-cdc4-0139-988f-005056ab5db4/rocrate/2/metadata',\n",
       "    'origin': 'https://workflowhub.eu/workflows/138/ro_crate?version=2'}},\n",
       "  'submitter': {'id': 4, 'username': 'SimoneLeo'},\n",
       "  'uuid': '85891313-5c5f-4889-8558-2638f8b46bae',\n",
       "  'version': '2'}}"
      ]
     },
     "execution_count": 13,
     "metadata": {},
     "output_type": "execute_result"
    }
   ],
   "source": [
    "lm_wf_id = data[\"uuid\"]\n",
    "workflow = lm_get(f\"/workflows/{lm_wf_id}\")\n",
    "workflow"
   ]
  },
  {
   "cell_type": "markdown",
   "metadata": {},
   "source": [
    "Get the workflow's test suites"
   ]
  },
  {
   "cell_type": "code",
   "execution_count": 14,
   "metadata": {},
   "outputs": [
    {
     "data": {
      "text/plain": [
       "1"
      ]
     },
     "execution_count": 14,
     "metadata": {},
     "output_type": "execute_result"
    }
   ],
   "source": [
    "suites = lm_get(f\"/workflows/{lm_wf_id}/suites\")[\"items\"]\n",
    "len(suites)"
   ]
  },
  {
   "cell_type": "code",
   "execution_count": 15,
   "metadata": {},
   "outputs": [
    {
     "data": {
      "text/plain": [
       "{'definition': {'test_engine': {'type': 'planemo', 'version': '>=0.74.6'}},\n",
       " 'instances': [{'links': {'origin': 'https://github.com/galaxyproject/iwc/actions/workflows/workflow_test.yml'},\n",
       "   'managed': False,\n",
       "   'name': 'test1_1',\n",
       "   'resource': 'repos/galaxyproject/iwc/actions/workflows/workflow_test.yml',\n",
       "   'roc_instance': '#test1_1',\n",
       "   'service': {'type': 'github',\n",
       "    'url': 'https://api.github.com',\n",
       "    'uuid': '5812bfda-cff0-46ac-9e79-5e211367eac1'},\n",
       "   'uuid': '2bb4eccf-19a7-47cb-962e-f90030ab6d9e'}],\n",
       " 'links': {'self': 'https://api.lifemonitor.eu/suites/f7b76107-2aea-428e-a002-501afd15c2de'},\n",
       " 'meta': {'api_version': '0.3.0',\n",
       "  'base_url': 'https://api.lifemonitor.eu',\n",
       "  'resource': '/suites/f7b76107-2aea-428e-a002-501afd15c2de'},\n",
       " 'roc_suite': '#test1',\n",
       " 'uuid': 'f7b76107-2aea-428e-a002-501afd15c2de'}"
      ]
     },
     "execution_count": 15,
     "metadata": {},
     "output_type": "execute_result"
    }
   ],
   "source": [
    "suite = lm_get(f\"/suites/{suites[0]['uuid']}\")\n",
    "suite"
   ]
  },
  {
   "cell_type": "markdown",
   "metadata": {},
   "source": [
    "There's only one suite. Get its instances (executions of the suite on CI services):"
   ]
  },
  {
   "cell_type": "code",
   "execution_count": 16,
   "metadata": {},
   "outputs": [
    {
     "data": {
      "text/plain": [
       "1"
      ]
     },
     "execution_count": 16,
     "metadata": {},
     "output_type": "execute_result"
    }
   ],
   "source": [
    "instances = lm_get(f\"/suites/{suite['uuid']}/instances\")[\"items\"]\n",
    "len(instances)"
   ]
  },
  {
   "cell_type": "code",
   "execution_count": 17,
   "metadata": {},
   "outputs": [
    {
     "data": {
      "text/plain": [
       "{'links': {'origin': 'https://github.com/galaxyproject/iwc/actions/workflows/workflow_test.yml',\n",
       "  'self': 'https://api.lifemonitor.eu/instances/2bb4eccf-19a7-47cb-962e-f90030ab6d9e'},\n",
       " 'managed': False,\n",
       " 'meta': {'api_version': '0.3.0',\n",
       "  'base_url': 'https://api.lifemonitor.eu',\n",
       "  'resource': '/instances/2bb4eccf-19a7-47cb-962e-f90030ab6d9e'},\n",
       " 'name': 'test1_1',\n",
       " 'resource': 'repos/galaxyproject/iwc/actions/workflows/workflow_test.yml',\n",
       " 'roc_instance': '#test1_1',\n",
       " 'service': {'type': 'github',\n",
       "  'url': 'https://api.github.com',\n",
       "  'uuid': '5812bfda-cff0-46ac-9e79-5e211367eac1'},\n",
       " 'uuid': '2bb4eccf-19a7-47cb-962e-f90030ab6d9e'}"
      ]
     },
     "execution_count": 17,
     "metadata": {},
     "output_type": "execute_result"
    }
   ],
   "source": [
    "instance = lm_get(f\"/instances/{instances[0]['uuid']}\")\n",
    "instance"
   ]
  },
  {
   "cell_type": "code",
   "execution_count": 18,
   "metadata": {},
   "outputs": [
    {
     "name": "stdout",
     "output_type": "stream",
     "text": [
      "https://github.com/galaxyproject/iwc/actions/workflows/workflow_test.yml\n"
     ]
    }
   ],
   "source": [
    "print(instance[\"links\"][\"origin\"])"
   ]
  },
  {
   "cell_type": "markdown",
   "metadata": {},
   "source": [
    "There's only one instance, corresponding to the workflow's test execution on GitHub Actions. Get info on the latest builds for this instance:"
   ]
  },
  {
   "cell_type": "code",
   "execution_count": 19,
   "metadata": {},
   "outputs": [
    {
     "data": {
      "text/plain": [
       "10"
      ]
     },
     "execution_count": 19,
     "metadata": {},
     "output_type": "execute_result"
    }
   ],
   "source": [
    "latest_builds = lm_get(f\"/instances/{instance['uuid']}/latest-builds\")[\"items\"]\n",
    "len(latest_builds)"
   ]
  },
  {
   "cell_type": "code",
   "execution_count": 20,
   "metadata": {},
   "outputs": [
    {
     "data": {
      "text/plain": [
       "{'build_id': '1401905791',\n",
       " 'duration': 1000,\n",
       " 'instance': {'links': {'origin': 'https://github.com/galaxyproject/iwc/actions/workflows/workflow_test.yml'},\n",
       "  'managed': False,\n",
       "  'name': 'test1_1',\n",
       "  'resource': 'repos/galaxyproject/iwc/actions/workflows/workflow_test.yml',\n",
       "  'roc_instance': '#test1_1',\n",
       "  'service': {'type': 'github',\n",
       "   'url': 'https://api.github.com',\n",
       "   'uuid': '5812bfda-cff0-46ac-9e79-5e211367eac1'},\n",
       "  'uuid': '2bb4eccf-19a7-47cb-962e-f90030ab6d9e'},\n",
       " 'links': {'origin': 'https://github.com/galaxyproject/iwc/actions/runs/1401905791'},\n",
       " 'status': 'failed',\n",
       " 'suite_uuid': 'f7b76107-2aea-428e-a002-501afd15c2de',\n",
       " 'timestamp': '1635583833'}"
      ]
     },
     "execution_count": 20,
     "metadata": {},
     "output_type": "execute_result"
    }
   ],
   "source": [
    "build = latest_builds[0]\n",
    "build"
   ]
  },
  {
   "cell_type": "code",
   "execution_count": 21,
   "metadata": {},
   "outputs": [
    {
     "data": {
      "text/plain": [
       "Counter({'failed': 5, 'passed': 4, 'aborted': 1})"
      ]
     },
     "execution_count": 21,
     "metadata": {},
     "output_type": "execute_result"
    }
   ],
   "source": [
    "Counter(_[\"status\"] for _ in latest_builds)"
   ]
  },
  {
   "cell_type": "code",
   "execution_count": 22,
   "metadata": {},
   "outputs": [
    {
     "name": "stdout",
     "output_type": "stream",
     "text": [
      "https://github.com/galaxyproject/iwc/actions/runs/1401905791\n"
     ]
    }
   ],
   "source": [
    "print(build[\"links\"][\"origin\"])"
   ]
  },
  {
   "cell_type": "markdown",
   "metadata": {},
   "source": [
    "Close the current sessions, then make an unauthenticated request to check again for public workflows."
   ]
  },
  {
   "cell_type": "code",
   "execution_count": 23,
   "metadata": {},
   "outputs": [
    {
     "data": {
      "text/plain": [
       "[{'latest_version': '2',\n",
       "  'name': 'sars-cov-2-consensus-from-variation/COVID-19-CONSENSUS-CONSTRUCTION',\n",
       "  'public': True,\n",
       "  'uuid': 'e95b2410-cdc4-0139-988f-005056ab5db4'}]"
      ]
     },
     "execution_count": 23,
     "metadata": {},
     "output_type": "execute_result"
    }
   ],
   "source": [
    "WH_SESSION.close()\n",
    "LM_SESSION.close()\n",
    "response = requests.get(f\"{LM_BASE_URL}/workflows\")\n",
    "response.raise_for_status\n",
    "response.json()[\"items\"]"
   ]
  }
 ],
 "metadata": {
  "kernelspec": {
   "display_name": "Python 3",
   "language": "python",
   "name": "python3"
  },
  "language_info": {
   "codemirror_mode": {
    "name": "ipython",
    "version": 3
   },
   "file_extension": ".py",
   "mimetype": "text/x-python",
   "name": "python",
   "nbconvert_exporter": "python",
   "pygments_lexer": "ipython3",
   "version": "3.6.9"
  }
 },
 "nbformat": 4,
 "nbformat_minor": 4
}
