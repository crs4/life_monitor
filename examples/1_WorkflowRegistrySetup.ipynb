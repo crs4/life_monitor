{
 "cells": [
  {
   "cell_type": "markdown",
   "metadata": {},
   "source": [
    "# Set up a new workflow registry on LifeMonitor"
   ]
  },
  {
   "cell_type": "markdown",
   "metadata": {},
   "source": [
    "\n"
   ]
  },
  {
   "cell_type": "markdown",
   "metadata": {},
   "source": [
    "* Registries are the main type of actors allowed to interact with LifeMonitor"
   ]
  },
  {
   "cell_type": "markdown",
   "metadata": {},
   "source": [
    "* They act with LifeMonitor both as clients and identity providers"
   ]
  },
  {
   "cell_type": "markdown",
   "metadata": {},
   "source": [
    "* The protocol used to authorize both side of the communication is OAuth2. In more details, we use:\n",
    "    1. the **authorization code** grant type to authenticate users from workflow registries and authorize LifeMonitor to get their data as needed - actually we get only info about user profiles and workflows.\n",
    "    2. the **client credentials** grant type to authorize requests from registries"
   ]
  },
  {
   "cell_type": "markdown",
   "metadata": {},
   "source": [
    "* The reference model of workflow registry we consider is [Seek](https://github.com/seek4science/seek) (aka **WorkflowHub**) which is actually the only supported at the moment. But, in principle, every type of workflow registry which, like WorkflowHub, supports OAuth2 as authorization protocol can be easily integrated in LifeMonitor."
   ]
  },
  {
   "cell_type": "markdown",
   "metadata": {},
   "source": [
    "## Registry LifeMonitor as Workflow Registry Client"
   ]
  },
  {
   "cell_type": "markdown",
   "metadata": {},
   "source": [
    "The first step to set up a new workflow registry is to provide LifeMonitor with the OAuth2 client credentials it needs to access the registry. This implies you need to register LifeMonitor as OAuth2 client application of your registry.\n",
    "The only info you need from LifeMonitor in this step is the **Redirect URI**, which has always the following form:\n",
    "\n",
    "\n",
    "      <LIFEMONITOR_BASE_URL>/oauth2/authorized/<REGISTRY_NAME>\n",
    "\n",
    "\n",
    "... where `REGISTRY_NAME` is the name you'd like to assign to your registry on LifeMonitor."
   ]
  },
  {
   "cell_type": "markdown",
   "metadata": {},
   "source": [
    "Taking WorkflowHub as reference, you need to:\n",
    "\n",
    "1. access the **API Applications** configuration page by clicking on your \"user name\" and then going through *My Profile > Actions > API Applications > New Application*;\n",
    "2. choose a name, \n",
    "3. set Redirect URI as described above (e.g., https://localhost:8000/oauth2/authorized/seek), \n",
    "4. activate Confidential and Scopes > Read, \n",
    "5. submit the form.\n",
    "\n",
    "As a result, you get an **Application UID** and a **Secret** that will be used as **CLIENT_ID** and **CLIENT_SECRET** on the registration process described below.\n",
    "\n",
    "With respect to the WorkflowHub instance included in dev deployment of LifeMonitor, all the steps described above have already been done and the CLIENT_ID and CLIENT_SECRET you need to complete the registration are:"
   ]
  },
  {
   "cell_type": "code",
   "execution_count": 5,
   "metadata": {},
   "outputs": [],
   "source": [
    "APP_UID = \"ehukdECYQNmXxgJslBqNaJ2J4lPtoX_GADmLNztE8MI\"\n",
    "SECRET = \"DuKar5qYdteOrB-eTN4F5qYSp-YrgvAJbz1yMyoVGrk\""
   ]
  },
  {
   "cell_type": "markdown",
   "metadata": {},
   "source": [
    "\n"
   ]
  },
  {
   "cell_type": "markdown",
   "metadata": {},
   "source": [
    "## Add the registry to LifeMonitor"
   ]
  },
  {
   "cell_type": "markdown",
   "metadata": {},
   "source": [
    "LifeMonitor provides an administrative CLI to manage workflow registries which can be accessed from the root path the LifeMonitor folder by typing:\n",
    "\n",
    "```bash \n",
    "flask registry --help\n",
    "```\n",
    "\n",
    "If you are using the LifeMonitor `docker-compose` deployment, you can run the command within the `lm` container by typing:"
   ]
  },
  {
   "cell_type": "code",
   "execution_count": 28,
   "metadata": {},
   "outputs": [
    {
     "name": "stdout",
     "output_type": "stream",
     "text": [
      "INFO:lifemonitor.app:Logging is active. Log level: INFO\n",
      "Usage: flask registry [OPTIONS] COMMAND [ARGS]...\n",
      "\n",
      "Options:\n",
      "  --help  Show this message and exit.\n",
      "\n",
      "Commands:\n",
      "  add     Add a new workflow registry and generate its OAuth2 credentials\n",
      "  list    List all workflow registries\n",
      "  show    Show info of a workflow registry\n",
      "  update  Update a workflow registry\n"
     ]
    }
   ],
   "source": [
    "!docker-compose exec lm /bin/bash -c \"flask registry --help\""
   ]
  },
  {
   "cell_type": "markdown",
   "metadata": {},
   "source": [
    "\n"
   ]
  },
  {
   "cell_type": "markdown",
   "metadata": {},
   "source": [
    "\n",
    "\n",
    "The `registry add` command takes as input the following parameters:"
   ]
  },
  {
   "cell_type": "markdown",
   "metadata": {},
   "source": [
    "```bash\n",
    "INFO:lifemonitor.app:Logging is active. Log level: INFO\n",
    "Usage: flask registry add [OPTIONS] NAME [[seek]] CLIENT_ID CLIENT_SECRET\n",
    "                          API_URL\n",
    "\n",
    "  Add a new workflow registry and generate its OAuth2 credentials\n",
    "\n",
    "Options:\n",
    "  --redirect-uris TEXT            Redirect URIs (comma separated) to be used\n",
    "                                  with authorization code flow\n",
    "\n",
    "  --client-auth-method [client_secret_basic|client_secret_post]\n",
    "                                  Specifies the method used for authenticating\n",
    "                                  the registry with LifeMonitor\n",
    "\n",
    "  --help                          Show this message and exit.\n",
    "```"
   ]
  },
  {
   "cell_type": "markdown",
   "metadata": {},
   "source": [
    "With respect to the `seek` registry instance we are considering, they should be set as follows:"
   ]
  },
  {
   "cell_type": "code",
   "execution_count": 8,
   "metadata": {},
   "outputs": [],
   "source": [
    "NAME = \"seek\"                             # the name to be assigned to the registry on LifeMonitor\n",
    "TYPE = \"seek\"                             # the registry type ('seek' is the only value allowed at the moment)\n",
    "CLIENT_ID = APP_UID                       # LifeMonitor APP_UID from WorkflowHub\n",
    "CLIENT_SECRET = SECRET                    # LifeMonitor SECRET from WorkflowHub\n",
    "CLIENT_AUTH_METHOD=\"client_secret_post\"   # OAuth2 authentication method (client_secret_post|client_secret_basic) \n",
    "API_URL=\"https://seek:3000\"               # URL of the workflow registry\n",
    "REDIRECT_URIS=\"https://seek:3000\"         # URL of the OAuth2 callback on the workflow registry"
   ]
  },
  {
   "cell_type": "markdown",
   "metadata": {},
   "source": [
    "You can now easily add your registry on LifeMonitor through the following command (assumed to be launched from the root of the LifeMonitor repository):"
   ]
  },
  {
   "cell_type": "code",
   "execution_count": 18,
   "metadata": {},
   "outputs": [
    {
     "name": "stdout",
     "output_type": "stream",
     "text": [
      "\n",
      "docker-compose exec lm /bin/bash -c \"flask registry add seek seek ehukdECYQNmXxgJslBqNaJ2J4lPtoX_GADmLNztE8MI DuKar5qYdteOrB-eTN4F5qYSp-YrgvAJbz1yMyoVGrk https://seek:3000 --client-auth-method client_secret_post --redirect-uris https://seek:3000\"\n",
      "\n"
     ]
    }
   ],
   "source": [
    "add_registry_cmd = f\"\"\"\n",
    "docker-compose exec lm /bin/bash -c \\\n",
    "\"flask registry add {NAME} {TYPE} {CLIENT_ID} {CLIENT_SECRET} {API_URL} \\\n",
    "--client-auth-method {CLIENT_AUTH_METHOD} \\\n",
    "--redirect-uris {REDIRECT_URIS}\"\n",
    "\"\"\"\n",
    "print(add_registry_cmd)"
   ]
  },
  {
   "cell_type": "code",
   "execution_count": 27,
   "metadata": {},
   "outputs": [
    {
     "name": "stdout",
     "output_type": "stream",
     "text": [
      "INFO:lifemonitor.app:Logging is active. Log level: INFO\n",
      "INFO:lifemonitor.commands.registry:Registry 'seek' created!\n",
      "\n",
      "\n",
      "****************************************************************************************************\n",
      "Workflow Registry 'seek' (uuid: 1c40002b-8676-4f51-b529-9ff02ff78234, type: seek) registered!\n",
      "****************************************************************************************************\n",
      "\n",
      "\n",
      "OAuth2 settings to connect to LifeMonitor:\n",
      "----------------------------------------------------------------------------------------------------\n",
      "REGISTRY NAME: seek\n",
      "REGISTRY API URL: https://seek:3000\n",
      "REGISTRY CLIENT ID: bAVlsOwx2Z7sPgQJU7mdg1CE\n",
      "REGISTRY CLIENT SECRET: FQ8FE57DvYy9C5NKsAgXaBXAQ061gsNXz71X8I8radX6zHU2\n",
      "REGISTRY CLIENT ALLOWED SCOPES: read write\n",
      "REGISTRY CLIENT ALLOWED FLOWS: ['client_credentials', 'authorization_code', 'refresh_token']\n",
      "REGISTRY CLIENT REDIRECT URIs: ['https://seek:3000']\n",
      "REGISTRY CLIENT AUTH METHOD: client_secret_post\n",
      "AUTHORIZE URL: <LIFE_MONITOR_BASE_URL>/oauth2/authorize/seek\n",
      "ACCESS TOKEN URL: <LIFE_MONITOR_BASE_URL>/oauth2/token\n",
      "CALLBACK URL: <LIFE_MONITOR_BASE_URL>/oauth2/authorized/seek[?next=<URL>]\n",
      "\n"
     ]
    }
   ],
   "source": [
    "!{add_registry_cmd}"
   ]
  },
  {
   "cell_type": "markdown",
   "metadata": {},
   "source": [
    "The parameters above allows you to set up a LifeMonitor client on your workflow registry."
   ]
  }
 ],
 "metadata": {
  "kernelspec": {
   "display_name": "Python 3",
   "language": "python",
   "name": "python3"
  },
  "language_info": {
   "codemirror_mode": {
    "name": "ipython",
    "version": 3
   },
   "file_extension": ".py",
   "mimetype": "text/x-python",
   "name": "python",
   "nbconvert_exporter": "python",
   "pygments_lexer": "ipython3",
   "version": "3.6.9"
  }
 },
 "nbformat": 4,
 "nbformat_minor": 4
}
