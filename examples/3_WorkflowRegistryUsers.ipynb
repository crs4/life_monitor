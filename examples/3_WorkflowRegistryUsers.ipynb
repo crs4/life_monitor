{
 "cells": [
  {
   "cell_type": "markdown",
   "metadata": {},
   "source": [
    "# Query Registry Users"
   ]
  },
  {
   "cell_type": "markdown",
   "metadata": {},
   "source": [
    "\n"
   ]
  },
  {
   "cell_type": "code",
   "execution_count": 27,
   "metadata": {},
   "outputs": [],
   "source": [
    "# set lifemonitor root path\n",
    "lifemonitor_root = \"/mnt/data/projects/@crs4/EOSC-Life/Repositories/life_monitor_rachk8s\"\n",
    "%cd -q {lifemonitor_root}"
   ]
  },
  {
   "cell_type": "code",
   "execution_count": 28,
   "metadata": {},
   "outputs": [],
   "source": [
    "import requests\n",
    "from examples import utils # just a simple utility to share code between netbooks"
   ]
  },
  {
   "cell_type": "code",
   "execution_count": 29,
   "metadata": {},
   "outputs": [],
   "source": [
    "# LifeMonitor URLs\n",
    "lm_base_url = \"https://localhost:8000\""
   ]
  },
  {
   "cell_type": "code",
   "execution_count": 30,
   "metadata": {},
   "outputs": [
    {
     "name": "stdout",
     "output_type": "stream",
     "text": [
      "{ 'access_token': 'f0PNUHwUpFfNVF64nwBiR4vZvZGRxIbA7AYawtfOrN',\n",
      "  'expires_in': 864000,\n",
      "  'scope': 'read write',\n",
      "  'token_type': 'Bearer'}\n"
     ]
    }
   ],
   "source": [
    "token = utils.fetch_registry_token('seek')\n",
    "utils.pp(token)"
   ]
  },
  {
   "cell_type": "code",
   "execution_count": 33,
   "metadata": {},
   "outputs": [],
   "source": [
    "# HTTP settings to connect to LifeMonitor\n",
    "s = requests.session() # actually not mandatory, but just to share some settings among requests\n",
    "\n",
    "# if you use self-signed certificates,\n",
    "# you have to uncomment the line below to disable SSL verification\n",
    "s.verify = False\n",
    "\n",
    "# Update headers with the OAuth2 token\n",
    "s.headers.update({'Authorization': f\"Bearer {token['access_token']}\"})"
   ]
  },
  {
   "cell_type": "code",
   "execution_count": 34,
   "metadata": {},
   "outputs": [
    {
     "name": "stdout",
     "output_type": "stream",
     "text": [
      "{ 'items': [ { 'id': 7,\n",
      "               'identity': { 'provider': { 'name': 'seek',\n",
      "                                           'type': 'seek',\n",
      "                                           'uri': 'https://seek:3000',\n",
      "                                           'userinfo_endpoint': 'https://seek:3000/people/current?format=json'},\n",
      "                             'sub': '1'},\n",
      "               'username': '0vFhLRgbA2'}]}\n"
     ]
    }
   ],
   "source": [
    "# Get registry users\n",
    "response = s.get(f\"{lm_base_url}/users\")\n",
    "assert response.status_code == 200, f\"Unexpected error {response.status_code}: {response.content}\"\n",
    "registry_users = response.json()\n",
    "utils.pp(registry_users)"
   ]
  },
  {
   "cell_type": "code",
   "execution_count": 35,
   "metadata": {},
   "outputs": [
    {
     "name": "stdout",
     "output_type": "stream",
     "text": [
      "'https://localhost:8000/oauth2/login/seek'\n"
     ]
    }
   ],
   "source": [
    "# redirect user to the registration process\n",
    "utils.pp(f\"{lm_base_url}/oauth2/login/seek\") # <- 'seek' is the registry name\n",
    "\n",
    "# ... and login as 'user1' (password: 'workflowhub')"
   ]
  },
  {
   "cell_type": "code",
   "execution_count": 37,
   "metadata": {},
   "outputs": [
    {
     "name": "stdout",
     "output_type": "stream",
     "text": [
      "{ 'items': [ { 'id': 7,\n",
      "               'identity': { 'provider': { 'name': 'seek',\n",
      "                                           'type': 'seek',\n",
      "                                           'uri': 'https://seek:3000',\n",
      "                                           'userinfo_endpoint': 'https://seek:3000/people/current?format=json'},\n",
      "                             'sub': '1'},\n",
      "               'username': '0vFhLRgbA2'},\n",
      "             { 'id': 8,\n",
      "               'identity': { 'provider': { 'name': 'seek',\n",
      "                                           'type': 'seek',\n",
      "                                           'uri': 'https://seek:3000',\n",
      "                                           'userinfo_endpoint': 'https://seek:3000/people/current?format=json'},\n",
      "                             'sub': '3'},\n",
      "               'username': 'gmqmftYqoS'}]}\n"
     ]
    }
   ],
   "source": [
    "# Check registry users\n",
    "response = s.get(f\"{lm_base_url}/users\")\n",
    "assert response.status_code == 200, f\"Unexpected error {response.status_code}: {response.content}\"\n",
    "registry_users = response.json()\n",
    "utils.pp(registry_users)"
   ]
  },
  {
   "cell_type": "code",
   "execution_count": 38,
   "metadata": {},
   "outputs": [
    {
     "name": "stdout",
     "output_type": "stream",
     "text": [
      "{ 'id': 7,\n",
      "  'identity': { 'provider': { 'name': 'seek',\n",
      "                              'type': 'seek',\n",
      "                              'uri': 'https://seek:3000',\n",
      "                              'userinfo_endpoint': 'https://seek:3000/people/current?format=json'},\n",
      "                'sub': '1'},\n",
      "  'username': '0vFhLRgbA2'}\n"
     ]
    }
   ],
   "source": [
    "# Check registry users\n",
    "response = s.get(f\"{lm_base_url}/users/{registry_users['items'][0]['id']}\")\n",
    "assert response.status_code == 200, f\"Unexpected error {response.status_code}: {response.content}\"\n",
    "registry_users = response.json()\n",
    "utils.pp(registry_users)"
   ]
  }
 ],
 "metadata": {
  "kernelspec": {
   "display_name": "Python 3",
   "language": "python",
   "name": "python3"
  },
  "language_info": {
   "codemirror_mode": {
    "name": "ipython",
    "version": 3
   },
   "file_extension": ".py",
   "mimetype": "text/x-python",
   "name": "python",
   "nbconvert_exporter": "python",
   "pygments_lexer": "ipython3",
   "version": "3.7.9"
  }
 },
 "nbformat": 4,
 "nbformat_minor": 4
}
