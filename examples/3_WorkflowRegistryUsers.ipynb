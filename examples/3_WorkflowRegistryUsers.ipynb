{
 "cells": [
  {
   "cell_type": "markdown",
   "metadata": {},
   "source": [
    "# Query Registry Users"
   ]
  },
  {
   "cell_type": "markdown",
   "metadata": {},
   "source": [
    "\n"
   ]
  },
  {
   "cell_type": "code",
   "execution_count": 1,
   "metadata": {},
   "outputs": [],
   "source": [
    "# set lifemonitor root path\n",
    "lifemonitor_root = \"/home/simleo/git/life_monitor\"\n",
    "%cd -q {lifemonitor_root}"
   ]
  },
  {
   "cell_type": "code",
   "execution_count": 2,
   "metadata": {},
   "outputs": [],
   "source": [
    "import requests"
   ]
  },
  {
   "cell_type": "code",
   "execution_count": 3,
   "metadata": {},
   "outputs": [],
   "source": [
    "# LifeMonitor URLs. Change port to 8443 for a production deployment\n",
    "lm_base_url = \"https://lm:8000\"\n",
    "lm_token_url = f\"{lm_base_url}/oauth2/token\""
   ]
  },
  {
   "cell_type": "code",
   "execution_count": 4,
   "metadata": {},
   "outputs": [],
   "source": [
    "# Copy the values of CLIENT_ID and CLIENT_SECRET from the output of \"flask registry show seek\"\n",
    "CLIENT_ID = \"g2ioTF0AzjFopXbRpSqPc2d2\"\n",
    "CLIENT_SECRET = \"PFYk1MUypSVgczX3cfncPmvfNARJnUe9TUJD23JPgaAyxnXL\""
   ]
  },
  {
   "cell_type": "code",
   "execution_count": 5,
   "metadata": {},
   "outputs": [
    {
     "name": "stderr",
     "output_type": "stream",
     "text": [
      "/usr/lib/python3/dist-packages/urllib3/connectionpool.py:860: InsecureRequestWarning: Unverified HTTPS request is being made. Adding certificate verification is strongly advised. See: https://urllib3.readthedocs.io/en/latest/advanced-usage.html#ssl-warnings\n",
      "  InsecureRequestWarning)\n"
     ]
    },
    {
     "data": {
      "text/plain": [
       "{'access_token': 'AvgpfGYoeGjGra9Me7PB5JkDYR527RNYwaXpQrKvJF',\n",
       " 'expires_in': 864000,\n",
       " 'scope': 'read write',\n",
       " 'token_type': 'Bearer'}"
      ]
     },
     "execution_count": 5,
     "metadata": {},
     "output_type": "execute_result"
    }
   ],
   "source": [
    "s = requests.session()\n",
    "s.verify = False\n",
    "s.headers.update({})\n",
    "token_response = s.post(\n",
    "    lm_token_url, \n",
    "    data={\n",
    "        \"client_id\": CLIENT_ID,\n",
    "        \"client_secret\": CLIENT_SECRET,\n",
    "        \"grant_type\": \"client_credentials\",\n",
    "        \"scope\": \"read write\"\n",
    "    }, allow_redirects=True, verify=False)\n",
    "assert token_response.status_code == 200\n",
    "token = token_response.json()\n",
    "token"
   ]
  },
  {
   "cell_type": "code",
   "execution_count": 6,
   "metadata": {},
   "outputs": [],
   "source": [
    "# Update headers with the OAuth2 token\n",
    "s.headers.update({'Authorization': f\"Bearer {token['access_token']}\"})"
   ]
  },
  {
   "cell_type": "code",
   "execution_count": 7,
   "metadata": {},
   "outputs": [
    {
     "data": {
      "text/plain": [
       "'https://lm:8000/oauth2/login/seek'"
      ]
     },
     "execution_count": 7,
     "metadata": {},
     "output_type": "execute_result"
    }
   ],
   "source": [
    "# Enter the following URL in your browser\n",
    "f\"{lm_base_url}/oauth2/login/seek\"\n",
    "# Then log in as username: user1 and password: workflowhub"
   ]
  },
  {
   "cell_type": "code",
   "execution_count": 8,
   "metadata": {},
   "outputs": [
    {
     "name": "stderr",
     "output_type": "stream",
     "text": [
      "/usr/lib/python3/dist-packages/urllib3/connectionpool.py:860: InsecureRequestWarning: Unverified HTTPS request is being made. Adding certificate verification is strongly advised. See: https://urllib3.readthedocs.io/en/latest/advanced-usage.html#ssl-warnings\n",
      "  InsecureRequestWarning)\n"
     ]
    },
    {
     "data": {
      "text/plain": [
       "{'items': [{'id': 2,\n",
       "   'identity': {'provider': {'name': 'seek',\n",
       "     'type': 'seek',\n",
       "     'uri': 'https://seek:3000',\n",
       "     'userinfo_endpoint': 'https://seek:3000/people/current?format=json'},\n",
       "    'sub': '2'},\n",
       "   'username': 'qgkpNNXtqY'}]}"
      ]
     },
     "execution_count": 8,
     "metadata": {},
     "output_type": "execute_result"
    }
   ],
   "source": [
    "# Get registry users\n",
    "response = s.get(f\"{lm_base_url}/users\")\n",
    "assert response.status_code == 200, f\"Unexpected error {response.status_code}: {response.content}\"\n",
    "registry_users = response.json()\n",
    "registry_users"
   ]
  }
 ],
 "metadata": {
  "kernelspec": {
   "display_name": "Python 3",
   "language": "python",
   "name": "python3"
  },
  "language_info": {
   "codemirror_mode": {
    "name": "ipython",
    "version": 3
   },
   "file_extension": ".py",
   "mimetype": "text/x-python",
   "name": "python",
   "nbconvert_exporter": "python",
   "pygments_lexer": "ipython3",
   "version": "3.6.9"
  }
 },
 "nbformat": 4,
 "nbformat_minor": 4
}
