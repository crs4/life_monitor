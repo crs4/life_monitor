{
 "cells": [
  {
   "cell_type": "markdown",
   "metadata": {},
   "source": [
    "# Query Registry Users"
   ]
  },
  {
   "cell_type": "markdown",
   "metadata": {},
   "source": [
    "Before executing this notebook, complete [step 2](./2_WorkflowRegistrySetup.ipynb)."
   ]
  },
  {
   "cell_type": "code",
   "execution_count": 1,
   "metadata": {},
   "outputs": [],
   "source": [
    "lifemonitor_root = \"/home/simleo/git/life_monitor\"\n",
    "%cd -q {lifemonitor_root}"
   ]
  },
  {
   "cell_type": "code",
   "execution_count": 2,
   "metadata": {},
   "outputs": [],
   "source": [
    "import requests"
   ]
  },
  {
   "cell_type": "code",
   "execution_count": 3,
   "metadata": {},
   "outputs": [],
   "source": [
    "lm_base_url = \"https://localhost:8443\"\n",
    "lm_token_url = f\"{lm_base_url}/oauth2/token\""
   ]
  },
  {
   "cell_type": "code",
   "execution_count": 4,
   "metadata": {},
   "outputs": [
    {
     "name": "stdout",
     "output_type": "stream",
     "text": [
      "\r\n",
      "\r\n",
      "****************************************************************************************************\r\n",
      "Workflow Registry 'seek' (uuid: 8ee6f93b-ac01-4183-b90e-14fec7ac9d22, type: seek_registry) registered!\r\n",
      "****************************************************************************************************\r\n",
      "\r\n",
      "\r\n",
      "OAuth2 settings to connect to LifeMonitor:\r\n",
      "----------------------------------------------------------------------------------------------------\r\n",
      "REGISTRY NAME: seek\r\n",
      "REGISTRY API URL: https://seek:3000\r\n",
      "REGISTRY CLIENT ID: fOeRRL3Z7tI1i5iHRczz4B0X\r\n",
      "REGISTRY CLIENT SECRET: WA1rPDSudxDcQsZpqZosQXGwMx57hghbdMCaE7FBe9OmQLqE\r\n",
      "REGISTRY CLIENT ALLOWED SCOPES: registry.info registry.user registry.workflow.read registry.workflow.write registry.user.workflow.read registry.user.workflow.write workflow.read workflow.write testingService.read testingService.write user.profile user.workflow.read\r\n",
      "REGISTRY CLIENT ALLOWED FLOWS: ['client_credentials', 'authorization_code', 'refresh_token']\r\n",
      "REGISTRY CLIENT REDIRECT URIs: ['https://seek:3000']\r\n",
      "REGISTRY CLIENT AUTH METHOD: client_secret_post\r\n",
      "AUTHORIZE URL: <LIFE_MONITOR_BASE_URL>/oauth2/authorize/seek\r\n",
      "ACCESS TOKEN URL: <LIFE_MONITOR_BASE_URL>/oauth2/token\r\n",
      "CALLBACK URL: <LIFE_MONITOR_BASE_URL>/oauth2/authorized/seek[?next=<URL>]\r\n",
      "\r\n"
     ]
    }
   ],
   "source": [
    "# Get info on the \"seek\" registry\n",
    "!docker-compose exec lm /bin/bash -c \"flask registry show seek\""
   ]
  },
  {
   "cell_type": "code",
   "execution_count": 5,
   "metadata": {},
   "outputs": [],
   "source": [
    "# Copy registry credentials from the above dump\n",
    "CLIENT_ID = \"fOeRRL3Z7tI1i5iHRczz4B0X\"\n",
    "CLIENT_SECRET = \"WA1rPDSudxDcQsZpqZosQXGwMx57hghbdMCaE7FBe9OmQLqE\""
   ]
  },
  {
   "cell_type": "code",
   "execution_count": 6,
   "metadata": {},
   "outputs": [
    {
     "data": {
      "text/plain": [
       "'https://localhost:8443/oauth2/login/seek'"
      ]
     },
     "execution_count": 6,
     "metadata": {},
     "output_type": "execute_result"
    }
   ],
   "source": [
    "# Enter the following URL in your browser\n",
    "f\"{lm_base_url}/oauth2/login/seek\"\n",
    "# Then log in as username: user1 and password: workflowhub"
   ]
  },
  {
   "cell_type": "code",
   "execution_count": 7,
   "metadata": {},
   "outputs": [
    {
     "name": "stderr",
     "output_type": "stream",
     "text": [
      "/usr/lib/python3/dist-packages/urllib3/connectionpool.py:860: InsecureRequestWarning: Unverified HTTPS request is being made. Adding certificate verification is strongly advised. See: https://urllib3.readthedocs.io/en/latest/advanced-usage.html#ssl-warnings\n",
      "  InsecureRequestWarning)\n"
     ]
    },
    {
     "data": {
      "text/plain": [
       "{'access_token': 'xD84yAqT3tZ2rooVjDAwcAtXXLaW90ctxGRN1vgfyQ',\n",
       " 'expires_in': 864000,\n",
       " 'scope': 'registry.user',\n",
       " 'token_type': 'Bearer'}"
      ]
     },
     "execution_count": 7,
     "metadata": {},
     "output_type": "execute_result"
    }
   ],
   "source": [
    "# Get an authorization token from LifeMonitor\n",
    "s = requests.session()\n",
    "s.verify = False\n",
    "s.headers.update({})\n",
    "token_response = s.post(\n",
    "    lm_token_url, \n",
    "    data={\n",
    "        \"client_id\": CLIENT_ID,\n",
    "        \"client_secret\": CLIENT_SECRET,\n",
    "        \"grant_type\": \"client_credentials\",\n",
    "        \"scope\": \"registry.user\"\n",
    "    }, allow_redirects=True, verify=False)\n",
    "assert token_response.status_code == 200\n",
    "token = token_response.json()\n",
    "token"
   ]
  },
  {
   "cell_type": "code",
   "execution_count": 8,
   "metadata": {},
   "outputs": [],
   "source": [
    "# Update headers with the OAuth2 token\n",
    "s.headers.update({'Authorization': f\"Bearer {token['access_token']}\"})"
   ]
  },
  {
   "cell_type": "code",
   "execution_count": 9,
   "metadata": {},
   "outputs": [
    {
     "name": "stderr",
     "output_type": "stream",
     "text": [
      "/usr/lib/python3/dist-packages/urllib3/connectionpool.py:860: InsecureRequestWarning: Unverified HTTPS request is being made. Adding certificate verification is strongly advised. See: https://urllib3.readthedocs.io/en/latest/advanced-usage.html#ssl-warnings\n",
      "  InsecureRequestWarning)\n"
     ]
    },
    {
     "data": {
      "text/plain": [
       "{'items': [{'id': 2,\n",
       "   'identities': {'seek': {'mbox_sha1sum': 'afbdc5cf6a75764623cd1a4abb114a15e1436f5e',\n",
       "     'name': 'First User',\n",
       "     'picture': None,\n",
       "     'profile': '/people/2',\n",
       "     'provider': {'name': 'seek',\n",
       "      'type': 'registry',\n",
       "      'uri': 'https://seek:3000',\n",
       "      'userinfo_endpoint': 'https://seek:3000/people/current?format=json'},\n",
       "     'sub': '2',\n",
       "     'username': 'FirstUser'}},\n",
       "   'username': 'FirstUser'}],\n",
       " 'meta': {'api_version': '0.2.0-beta2',\n",
       "  'base_url': 'https://172.19.0.4:8000',\n",
       "  'resource': '/registries/current/users'}}"
      ]
     },
     "execution_count": 9,
     "metadata": {},
     "output_type": "execute_result"
    }
   ],
   "source": [
    "# Get registry users\n",
    "response = s.get(f\"{lm_base_url}/registries/current/users\")\n",
    "assert response.status_code == 200, f\"Unexpected error {response.status_code}: {response.content}\"\n",
    "registry_users = response.json()\n",
    "registry_users"
   ]
  }
 ],
 "metadata": {
  "kernelspec": {
   "display_name": "Python 3",
   "language": "python",
   "name": "python3"
  },
  "language_info": {
   "codemirror_mode": {
    "name": "ipython",
    "version": 3
   },
   "file_extension": ".py",
   "mimetype": "text/x-python",
   "name": "python",
   "nbconvert_exporter": "python",
   "pygments_lexer": "ipython3",
   "version": "3.6.9"
  }
 },
 "nbformat": 4,
 "nbformat_minor": 4
}
