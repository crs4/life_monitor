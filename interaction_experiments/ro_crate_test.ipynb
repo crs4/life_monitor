{
 "cells": [
  {
   "cell_type": "markdown",
   "metadata": {},
   "source": [
    "Test a workflow from the Workflow Hub\n",
    "================================\n",
    "\n",
    "Before running this notebook, bring up a Workflow Hub instance:\n",
    "\n",
    "`docker run -d -p 3000:3000 --name seek fairdom/seek:workflow`\n",
    "\n",
    "Then use the web interface to create a first user (which will also be the admin). This notebook assumes:\n",
    "\n",
    "* username: simleo\n",
    "* password: 0123456789\n",
    "\n",
    "The next step is to enable the workflows feature, which is disabled by default. In the web interface, click the top-right menu, then \"Server admin\", then \"Enable/disable features\", then scroll down to \"SEEK features\" and click \"Workflows enabled\".\n",
    "\n",
    "There's a minimal Workflow RO-Crate example in `data/crates/ro-crate-nf-basic`. To be imported in the Workflow Hub, it needs to be zipped with contents at the top level and have a `.crate.zip` extension. Run `bash data/zip_crates.sh` to create the zipped crate.\n",
    "\n",
    "Now use the web interface to upload the workflow to the Workflow Hub (in the top-left menu, click \"Create\" and then \"Workflow\"). The title (`nf-basic`) should be auto-detected by the importer. Associate the workflow to the Default Project (this should be the default option).\n",
    "\n",
    "This notebook uses the JSON API to retrieve the workflow from the Workflow Hub instance. It then downloads the workflow's RO-Crate, unpacks it and runs `check_nextflow.py` on it (needs the `nextflow` executable in your system path).\n",
    "\n",
    "JSON API examples are available at https://github.com/seek4science/seekAPIexamples"
   ]
  },
  {
   "cell_type": "code",
   "execution_count": 1,
   "metadata": {},
   "outputs": [],
   "source": [
    "import os\n",
    "import pprint\n",
    "import requests\n",
    "import shutil\n",
    "import tempfile\n",
    "import zipfile\n",
    "from urllib.request import urlretrieve"
   ]
  },
  {
   "cell_type": "code",
   "execution_count": 2,
   "metadata": {},
   "outputs": [],
   "source": [
    "pp = pprint.PrettyPrinter(indent=4)\n",
    "base_url = 'http://localhost:3000'\n",
    "headers = {\n",
    "    \"Content-type\": \"application/vnd.api+json\",\n",
    "    \"Accept\": \"application/vnd.api+json\",\n",
    "    \"Accept-Charset\": \"ISO-8859-1\"\n",
    "}\n",
    "session = requests.Session()\n",
    "session.headers.update(headers)\n",
    "session.auth = \"simleo\", \"0123456789\""
   ]
  },
  {
   "cell_type": "code",
   "execution_count": 3,
   "metadata": {},
   "outputs": [
    {
     "name": "stdout",
     "output_type": "stream",
     "text": [
      "ALL WORKFLOWS:\n",
      "[   {   'attributes': {'title': 'nf-basic'},\n",
      "        'id': '1',\n",
      "        'links': {'self': '/workflows/1'},\n",
      "        'type': 'workflows'}]\n"
     ]
    }
   ],
   "source": [
    "r = session.get(base_url + \"/workflows\")\n",
    "r.raise_for_status()\n",
    "data = r.json()[\"data\"]\n",
    "print(\"ALL WORKFLOWS:\")\n",
    "pp.pprint(data)"
   ]
  },
  {
   "cell_type": "code",
   "execution_count": 4,
   "metadata": {},
   "outputs": [
    {
     "name": "stdout",
     "output_type": "stream",
     "text": [
      "wf_id = 1\n"
     ]
    }
   ],
   "source": [
    "wf_id = [_[\"id\"] for _ in data if _[\"attributes\"][\"title\"] == \"nf-basic\"][0]\n",
    "print(\"wf_id =\", wf_id)"
   ]
  },
  {
   "cell_type": "code",
   "execution_count": 5,
   "metadata": {},
   "outputs": [
    {
     "name": "stdout",
     "output_type": "stream",
     "text": [
      "WORKFLOW 1:\n",
      "{   'data': {   'attributes': {   'content_blobs': [   {   'content_type': 'application/zip',\n",
      "                                                           'link': 'http://localhost:3000/workflows/1/content_blobs/1',\n",
      "                                                           'md5sum': '1671bb7a677a6ecf9145b5dbfd5d477c',\n",
      "                                                           'original_filename': 'ro-crate-nf-basic.crate.zip',\n",
      "                                                           'sha1sum': '3a2933113c5ced60263db002d748129d2fd11fd0',\n",
      "                                                           'size': 6357,\n",
      "                                                           'url': None}],\n",
      "                                  'created_at': '2020-04-09T14:48:08.539Z',\n",
      "                                  'description': 'Nextflow basic example',\n",
      "                                  'internals': None,\n",
      "                                  'latest_version': 1,\n",
      "                                  'license': 'Apache-2.0',\n",
      "                                  'other_creators': None,\n",
      "                                  'policy': {   'access': 'download',\n",
      "                                                'permissions': [   {   'access': 'download',\n",
      "                                                                       'resource': {   'id': '1',\n",
      "                                                                                       'type': 'projects'}}]},\n",
      "                                  'revision_comments': None,\n",
      "                                  'tags': None,\n",
      "                                  'title': 'nf-basic',\n",
      "                                  'updated_at': '2020-04-09T14:48:08.539Z',\n",
      "                                  'version': 1,\n",
      "                                  'versions': [   {   'revision_comments': None,\n",
      "                                                      'url': 'http://localhost:3000/workflows/1?version=1',\n",
      "                                                      'version': 1}],\n",
      "                                  'workflow_class': {   'description': None,\n",
      "                                                        'key': 'Nextflow',\n",
      "                                                        'title': 'Nextflow'}},\n",
      "                'id': '1',\n",
      "                'links': {'self': '/workflows/1?version=1'},\n",
      "                'meta': {   'api_version': '0.3',\n",
      "                            'base_url': 'http://localhost:3000',\n",
      "                            'created': '2020-04-09T14:48:08.465Z',\n",
      "                            'modified': '2020-04-09T14:48:08.416Z',\n",
      "                            'uuid': '0d0fe5d0-5c9f-0138-a40c-0242ac110002'},\n",
      "                'relationships': {   'assays': {'data': []},\n",
      "                                     'creators': {   'data': [   {   'id': '1',\n",
      "                                                                     'type': 'people'}]},\n",
      "                                     'investigations': {'data': []},\n",
      "                                     'people': {   'data': [   {   'id': '1',\n",
      "                                                                   'type': 'people'}]},\n",
      "                                     'projects': {   'data': [   {   'id': '1',\n",
      "                                                                     'type': 'projects'}]},\n",
      "                                     'publications': {'data': []},\n",
      "                                     'sops': {'data': []},\n",
      "                                     'studies': {'data': []},\n",
      "                                     'submitter': {   'data': [   {   'id': '1',\n",
      "                                                                      'type': 'people'}]}},\n",
      "                'type': 'workflows'},\n",
      "    'jsonapi': {'version': '1.0'}}\n",
      "\n"
     ]
    }
   ],
   "source": [
    "r = session.get(base_url + \"/workflows/%s\" % wf_id)\n",
    "r.raise_for_status()\n",
    "data = r.json()[\"data\"]\n",
    "print(\"WORKFLOW %s:\" % wf_id)\n",
    "pp.pprint(r.json())\n",
    "print()"
   ]
  },
  {
   "cell_type": "code",
   "execution_count": 6,
   "metadata": {},
   "outputs": [
    {
     "name": "stdout",
     "output_type": "stream",
     "text": [
      "WORKFLOW CLASS: Nextflow\n",
      "CONTENT BLOB FOR ro-crate-nf-basic.crate.zip:\n",
      "{   'data': {   'attributes': {   'content_type': 'application/zip',\n",
      "                                  'md5sum': '1671bb7a677a6ecf9145b5dbfd5d477c',\n",
      "                                  'original_filename': 'ro-crate-nf-basic.crate.zip',\n",
      "                                  'sha1sum': '3a2933113c5ced60263db002d748129d2fd11fd0',\n",
      "                                  'size': 6357,\n",
      "                                  'url': None},\n",
      "                'id': '1',\n",
      "                'links': {   'download': '/workflows/1/content_blobs/1/download',\n",
      "                             'self': '/workflows/1/content_blobs/1'},\n",
      "                'meta': {   'api_version': '0.3',\n",
      "                            'base_url': 'http://localhost:3000',\n",
      "                            'created': '2020-04-09T14:47:54.926Z',\n",
      "                            'modified': '2020-04-09T14:48:08.496Z',\n",
      "                            'uuid': '04ff3b60-5c9f-0138-a40b-0242ac110002'},\n",
      "                'relationships': {   'asset': {   'data': {   'id': '1',\n",
      "                                                              'type': 'workflows'}}},\n",
      "                'type': 'content_blobs'},\n",
      "    'jsonapi': {'version': '1.0'}}\n",
      "\n"
     ]
    }
   ],
   "source": [
    "workflow_class = data[\"attributes\"][\"workflow_class\"][\"key\"]\n",
    "print(\"WORKFLOW CLASS: %s\" % workflow_class)\n",
    "blob = data[\"attributes\"][\"content_blobs\"][0]\n",
    "original_filename = blob[\"original_filename\"]\n",
    "r = session.get(blob[\"link\"])  # this is a full URL\n",
    "r.raise_for_status()\n",
    "data = r.json()[\"data\"]\n",
    "print(\"CONTENT BLOB FOR %s:\" % original_filename)\n",
    "pp.pprint(r.json())\n",
    "print()"
   ]
  },
  {
   "cell_type": "code",
   "execution_count": 7,
   "metadata": {},
   "outputs": [
    {
     "name": "stdout",
     "output_type": "stream",
     "text": [
      "downloading workflow RO-Crate to /tmp/ro_crate_test_a56jv2lq/ro-crate-nf-basic.crate.zip\n"
     ]
    },
    {
     "data": {
      "text/plain": [
       "('/tmp/ro_crate_test_a56jv2lq/ro-crate-nf-basic.crate.zip',\n",
       " <http.client.HTTPMessage at 0x7fc6584b9e10>)"
      ]
     },
     "execution_count": 7,
     "metadata": {},
     "output_type": "execute_result"
    }
   ],
   "source": [
    "wd = tempfile.mkdtemp(prefix=\"ro_crate_test_\")\n",
    "crate_zip_path = os.path.join(wd, original_filename)\n",
    "file_url = base_url + data[\"links\"][\"download\"]\n",
    "print(\"downloading workflow RO-Crate to %s\" % crate_zip_path)\n",
    "urlretrieve(file_url, crate_zip_path)"
   ]
  },
  {
   "cell_type": "code",
   "execution_count": 8,
   "metadata": {},
   "outputs": [],
   "source": [
    "crate_dir_bn = os.path.basename(crate_zip_path).split(\".\", 1)[0]\n",
    "crate_dir = os.path.join(wd, crate_dir_bn)\n",
    "with zipfile.ZipFile(crate_zip_path, \"r\") as zipf:\n",
    "    zipf.extractall(crate_dir)"
   ]
  },
  {
   "cell_type": "code",
   "execution_count": 9,
   "metadata": {},
   "outputs": [
    {
     "name": "stdout",
     "output_type": "stream",
     "text": [
      "OK\n"
     ]
    }
   ],
   "source": [
    "from check_nextflow import main\n",
    "\n",
    "class Args():\n",
    "    pass\n",
    "\n",
    "args = Args()\n",
    "args.crate_dir = crate_dir\n",
    "main(args)"
   ]
  }
 ],
 "metadata": {
  "kernelspec": {
   "display_name": "Python 3",
   "language": "python",
   "name": "python3"
  },
  "language_info": {
   "codemirror_mode": {
    "name": "ipython",
    "version": 3
   },
   "file_extension": ".py",
   "mimetype": "text/x-python",
   "name": "python",
   "nbconvert_exporter": "python",
   "pygments_lexer": "ipython3",
   "version": "3.6.9"
  }
 },
 "nbformat": 4,
 "nbformat_minor": 2
}
