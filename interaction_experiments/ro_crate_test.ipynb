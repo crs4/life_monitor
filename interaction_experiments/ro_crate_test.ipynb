{
 "cells": [
  {
   "cell_type": "markdown",
   "metadata": {},
   "source": [
    "Test a workflow from the Workflow Hub\n",
    "================================\n",
    "\n",
    "This is an example of interaction with the WorkflowHub API. It also calls a script that shows an example of interaction with the test metadata to run tests on a minimal workflow ro-crate.\n",
    "\n",
    "Before running this notebook, bring up a Workflow Hub instance:\n",
    "\n",
    "`docker run -d -p 3000:3000 --name wfhub fairdom/seek:workflow`\n",
    "\n",
    "Then use the web interface to create a first user (which will also be the admin). This notebook assumes:\n",
    "\n",
    "* username: simleo\n",
    "* password: 0123456789\n",
    "\n",
    "The next step is to enable the workflows feature, which is disabled by default. In the web interface, click the top-right menu, then \"Server admin\", then \"Enable/disable features\", then scroll down to \"SEEK features\" and click \"Workflows enabled\". You can set https://view.commonwl.org/ as CWL Viewer URL. Scroll all the way down and click \"Update\" to apply the changes.\n",
    "\n",
    "Minimal Workflow RO-Crate examples are available in `data/crates`. To be imported in the Workflow Hub, they need to be zipped with contents at the top level and have a `.crate.zip` extension. Run `bash data/zip_crates.sh` to create the zipped crates.\n",
    "\n",
    "Now use the web interface to upload the `ro-crate-cwl-basefreqsum.crate.zip` workflow to the Workflow Hub (in the top-left menu, click \"Create\" and then \"Workflow\", then choose the \"Advanced (Workflow RO Crate)\" option). The title (`basefreqsum`) should be auto-detected by the importer. Associate the workflow to the Default Project (this should be the default option).\n",
    "\n",
    "This notebook uses the JSON API to retrieve the workflow from the Workflow Hub instance. It then downloads the workflow's RO-Crate, unpacks it and runs `check_cwl.py` on it (Planemo must be installed: `pip install planemo`).\n",
    "\n",
    "JSON API examples are available at https://github.com/seek4science/seekAPIexamples. The Workflow Hub API docs are available at https://workflowhub.eu/api."
   ]
  },
  {
   "cell_type": "code",
   "execution_count": 1,
   "metadata": {},
   "outputs": [],
   "source": [
    "import os\n",
    "import pprint\n",
    "import requests\n",
    "import shutil\n",
    "import tempfile\n",
    "import zipfile\n",
    "from urllib.request import urlretrieve"
   ]
  },
  {
   "cell_type": "code",
   "execution_count": 2,
   "metadata": {},
   "outputs": [],
   "source": [
    "pp = pprint.PrettyPrinter(indent=4)\n",
    "base_url = 'http://localhost:3000'\n",
    "headers = {\n",
    "    \"Content-type\": \"application/vnd.api+json\",\n",
    "    \"Accept\": \"application/vnd.api+json\",\n",
    "    \"Accept-Charset\": \"ISO-8859-1\"\n",
    "}\n",
    "session = requests.Session()\n",
    "session.headers.update(headers)\n",
    "session.auth = \"simleo\", \"0123456789\""
   ]
  },
  {
   "cell_type": "code",
   "execution_count": 3,
   "metadata": {},
   "outputs": [
    {
     "name": "stdout",
     "output_type": "stream",
     "text": [
      "ALL WORKFLOWS:\n",
      "[   {   'attributes': {'title': 'basefreqsum'},\n",
      "        'id': '1',\n",
      "        'links': {'self': '/workflows/1'},\n",
      "        'type': 'workflows'}]\n"
     ]
    }
   ],
   "source": [
    "r = session.get(base_url + \"/workflows\")\n",
    "r.raise_for_status()\n",
    "data = r.json()[\"data\"]\n",
    "print(\"ALL WORKFLOWS:\")\n",
    "pp.pprint(data)"
   ]
  },
  {
   "cell_type": "code",
   "execution_count": 4,
   "metadata": {},
   "outputs": [
    {
     "name": "stdout",
     "output_type": "stream",
     "text": [
      "wf_id = 1\n"
     ]
    }
   ],
   "source": [
    "wf_id = [_[\"id\"] for _ in data if _[\"attributes\"][\"title\"] == \"basefreqsum\"][0]\n",
    "print(\"wf_id =\", wf_id)"
   ]
  },
  {
   "cell_type": "code",
   "execution_count": 5,
   "metadata": {},
   "outputs": [
    {
     "name": "stdout",
     "output_type": "stream",
     "text": [
      "WORKFLOW 1:\n",
      "{   'data': {   'attributes': {   'content_blobs': [   {   'content_type': 'application/zip',\n",
      "                                                           'link': 'http://localhost:3000/workflows/1/content_blobs/1',\n",
      "                                                           'md5sum': 'fe1412054610ee65d2493ea72e6f61dc',\n",
      "                                                           'original_filename': 'ro-crate-cwl-basefreqsum.crate.zip',\n",
      "                                                           'sha1sum': 'e2fc46ae9411f7aa6a25b2cb19d0a4c0dd0b0b58',\n",
      "                                                           'size': 9256,\n",
      "                                                           'url': None}],\n",
      "                                  'created_at': '2020-09-15T07:54:33.511Z',\n",
      "                                  'description': 'compute base frequencies in '\n",
      "                                                 'a FASTA file',\n",
      "                                  'discussion_links': None,\n",
      "                                  'internals': {   'inputs': [   {   'default_value': None,\n",
      "                                                                     'description': None,\n",
      "                                                                     'id': 'fasta_in',\n",
      "                                                                     'name': None,\n",
      "                                                                     'type': None},\n",
      "                                                                 {   'default_value': None,\n",
      "                                                                     'description': None,\n",
      "                                                                     'id': 'freqs_file_name',\n",
      "                                                                     'name': None,\n",
      "                                                                     'type': None},\n",
      "                                                                 {   'default_value': None,\n",
      "                                                                     'description': None,\n",
      "                                                                     'id': 'freqs_sum_file_name',\n",
      "                                                                     'name': None,\n",
      "                                                                     'type': None}],\n",
      "                                                   'outputs': [   {   'description': None,\n",
      "                                                                      'id': 'freqs_sum',\n",
      "                                                                      'name': None,\n",
      "                                                                      'type': 'File'}],\n",
      "                                                   'steps': [   {   'description': None,\n",
      "                                                                    'id': 'base_frequencies',\n",
      "                                                                    'name': None},\n",
      "                                                                {   'description': None,\n",
      "                                                                    'id': 'sum_frequencies',\n",
      "                                                                    'name': None}]},\n",
      "                                  'latest_version': 1,\n",
      "                                  'license': 'Apache-2.0',\n",
      "                                  'other_creators': None,\n",
      "                                  'policy': {   'access': 'download',\n",
      "                                                'permissions': [   {   'access': 'download',\n",
      "                                                                       'resource': {   'id': '1',\n",
      "                                                                                       'type': 'projects'}}]},\n",
      "                                  'revision_comments': None,\n",
      "                                  'tags': None,\n",
      "                                  'title': 'basefreqsum',\n",
      "                                  'updated_at': '2020-09-15T07:54:33.511Z',\n",
      "                                  'version': 1,\n",
      "                                  'versions': [   {   'revision_comments': None,\n",
      "                                                      'url': 'http://localhost:3000/workflows/1?version=1',\n",
      "                                                      'version': 1}],\n",
      "                                  'workflow_class': {   'description': None,\n",
      "                                                        'key': 'CWL',\n",
      "                                                        'title': 'Common '\n",
      "                                                                 'Workflow '\n",
      "                                                                 'Language'}},\n",
      "                'id': '1',\n",
      "                'links': {'self': '/workflows/1?version=1'},\n",
      "                'meta': {   'api_version': '0.3',\n",
      "                            'base_url': 'http://localhost:3000',\n",
      "                            'created': '2020-09-15T07:54:33.464Z',\n",
      "                            'modified': '2020-09-15T07:54:33.464Z',\n",
      "                            'uuid': '9dd08820-d956-0138-db29-0242ac110002'},\n",
      "                'relationships': {   'assays': {'data': []},\n",
      "                                     'creators': {'data': []},\n",
      "                                     'investigations': {'data': []},\n",
      "                                     'people': {   'data': [   {   'id': '1',\n",
      "                                                                   'type': 'people'}]},\n",
      "                                     'projects': {   'data': [   {   'id': '1',\n",
      "                                                                     'type': 'projects'}]},\n",
      "                                     'publications': {'data': []},\n",
      "                                     'sops': {'data': []},\n",
      "                                     'studies': {'data': []},\n",
      "                                     'submitter': {   'data': [   {   'id': '1',\n",
      "                                                                      'type': 'people'}]}},\n",
      "                'type': 'workflows'},\n",
      "    'jsonapi': {'version': '1.0'}}\n",
      "\n"
     ]
    }
   ],
   "source": [
    "r = session.get(base_url + \"/workflows/%s\" % wf_id)\n",
    "r.raise_for_status()\n",
    "data = r.json()[\"data\"]\n",
    "print(\"WORKFLOW %s:\" % wf_id)\n",
    "pp.pprint(r.json())\n",
    "print()"
   ]
  },
  {
   "cell_type": "code",
   "execution_count": 6,
   "metadata": {},
   "outputs": [
    {
     "name": "stdout",
     "output_type": "stream",
     "text": [
      "WORKFLOW CLASS: CWL\n",
      "CONTENT BLOB FOR ro-crate-cwl-basefreqsum.crate.zip:\n",
      "{   'data': {   'attributes': {   'content_type': 'application/zip',\n",
      "                                  'md5sum': 'fe1412054610ee65d2493ea72e6f61dc',\n",
      "                                  'original_filename': 'ro-crate-cwl-basefreqsum.crate.zip',\n",
      "                                  'sha1sum': 'e2fc46ae9411f7aa6a25b2cb19d0a4c0dd0b0b58',\n",
      "                                  'size': 9256,\n",
      "                                  'url': None},\n",
      "                'id': '1',\n",
      "                'links': {   'download': '/workflows/1/content_blobs/1/download',\n",
      "                             'self': '/workflows/1/content_blobs/1'},\n",
      "                'meta': {   'api_version': '0.3',\n",
      "                            'base_url': 'http://localhost:3000',\n",
      "                            'created': '2020-09-15T07:54:20.765Z',\n",
      "                            'modified': '2020-09-15T07:54:33.487Z',\n",
      "                            'uuid': '9648fe00-d956-0138-db2b-0242ac110002'},\n",
      "                'relationships': {   'asset': {   'data': {   'id': '1',\n",
      "                                                              'type': 'workflows'}}},\n",
      "                'type': 'content_blobs'},\n",
      "    'jsonapi': {'version': '1.0'}}\n",
      "\n"
     ]
    }
   ],
   "source": [
    "workflow_class = data[\"attributes\"][\"workflow_class\"][\"key\"]\n",
    "print(\"WORKFLOW CLASS: %s\" % workflow_class)\n",
    "blob = data[\"attributes\"][\"content_blobs\"][0]\n",
    "original_filename = blob[\"original_filename\"]\n",
    "r = session.get(blob[\"link\"])  # this is a full URL\n",
    "r.raise_for_status()\n",
    "data = r.json()[\"data\"]\n",
    "print(\"CONTENT BLOB FOR %s:\" % original_filename)\n",
    "pp.pprint(r.json())\n",
    "print()"
   ]
  },
  {
   "cell_type": "code",
   "execution_count": 7,
   "metadata": {},
   "outputs": [
    {
     "name": "stdout",
     "output_type": "stream",
     "text": [
      "downloading workflow RO-Crate to /tmp/ro_crate_test_d4elkloo/ro-crate-cwl-basefreqsum.crate.zip\n"
     ]
    },
    {
     "data": {
      "text/plain": [
       "('/tmp/ro_crate_test_d4elkloo/ro-crate-cwl-basefreqsum.crate.zip',\n",
       " <http.client.HTTPMessage at 0x7fc5c845add8>)"
      ]
     },
     "execution_count": 7,
     "metadata": {},
     "output_type": "execute_result"
    }
   ],
   "source": [
    "wd = tempfile.mkdtemp(prefix=\"ro_crate_test_\")\n",
    "crate_zip_path = os.path.join(wd, original_filename)\n",
    "file_url = base_url + data[\"links\"][\"download\"]\n",
    "print(\"downloading workflow RO-Crate to %s\" % crate_zip_path)\n",
    "urlretrieve(file_url, crate_zip_path)"
   ]
  },
  {
   "cell_type": "code",
   "execution_count": 8,
   "metadata": {},
   "outputs": [],
   "source": [
    "crate_dir_bn = os.path.basename(crate_zip_path).split(\".\", 1)[0]\n",
    "crate_dir = os.path.join(wd, crate_dir_bn)\n",
    "with zipfile.ZipFile(crate_zip_path, \"r\") as zipf:\n",
    "    zipf.extractall(crate_dir)"
   ]
  },
  {
   "cell_type": "code",
   "execution_count": 9,
   "metadata": {},
   "outputs": [
    {
     "name": "stdout",
     "output_type": "stream",
     "text": [
      "RUNNING test1\n",
      "test1: OK\n",
      "RUNNING test2\n",
      "test2: OK\n"
     ]
    }
   ],
   "source": [
    "import sys\n",
    "import os\n",
    "sys.path.append(os.path.dirname(os.path.abspath(os.getcwd())))\n",
    "from check_cwl import main\n",
    "\n",
    "class Args():\n",
    "    pass\n",
    "\n",
    "args = Args()\n",
    "args.crate_dir = crate_dir\n",
    "main(args)"
   ]
  }
 ],
 "metadata": {
  "kernelspec": {
   "display_name": "Python 3",
   "language": "python",
   "name": "python3"
  },
  "language_info": {
   "codemirror_mode": {
    "name": "ipython",
    "version": 3
   },
   "file_extension": ".py",
   "mimetype": "text/x-python",
   "name": "python",
   "nbconvert_exporter": "python",
   "pygments_lexer": "ipython3",
   "version": "3.6.9"
  }
 },
 "nbformat": 4,
 "nbformat_minor": 2
}
