{
 "cells": [
  {
   "cell_type": "code",
   "execution_count": 1,
   "metadata": {},
   "outputs": [],
   "source": [
    "import json\n",
    "import os\n",
    "from urllib.parse import quote_plus\n",
    "\n",
    "import requests"
   ]
  },
  {
   "cell_type": "code",
   "execution_count": 2,
   "metadata": {},
   "outputs": [
    {
     "data": {
      "text/plain": [
       "'crs4%2Fiwc'"
      ]
     },
     "execution_count": 2,
     "metadata": {},
     "output_type": "execute_result"
    }
   ],
   "source": [
    "# get a token from https://travis-ci.org/account/preferences\n",
    "TOKEN_FILE = \"/home/simleo/travis_token\"\n",
    "with open(TOKEN_FILE) as f:\n",
    "    TRAVIS_TOKEN = f.read().strip()\n",
    "HEADERS = {\n",
    "    \"Content-Type\": \"application/json\",\n",
    "    \"Accept\": \"application/json\",\n",
    "    \"Travis-API-Version\": \"3\",\n",
    "    \"Authorization\": f\"token {TRAVIS_TOKEN}\"\n",
    "}\n",
    "BASE_URL = \"https://api.travis-ci.org\"\n",
    "REPO_SLUG = quote_plus(\"crs4/iwc\")\n",
    "REPO_SLUG"
   ]
  },
  {
   "cell_type": "code",
   "execution_count": 3,
   "metadata": {},
   "outputs": [
    {
     "data": {
      "text/plain": [
       "{'@type': 'build',\n",
       " '@href': '/build/769307075',\n",
       " '@representation': 'standard',\n",
       " '@permissions': {'read': True,\n",
       "  'cancel': True,\n",
       "  'restart': True,\n",
       "  'prioritize': False},\n",
       " 'id': 769307075,\n",
       " 'number': '8',\n",
       " 'state': 'passed',\n",
       " 'duration': 1597,\n",
       " 'event_type': 'push',\n",
       " 'previous_state': 'passed',\n",
       " 'pull_request_title': None,\n",
       " 'pull_request_number': None,\n",
       " 'started_at': '2021-05-03T10:26:13Z',\n",
       " 'finished_at': '2021-05-03T10:52:50Z',\n",
       " 'private': False,\n",
       " 'priority': False,\n",
       " 'repository': {'@type': 'repository',\n",
       "  '@href': '/repo/31101896',\n",
       "  '@representation': 'minimal',\n",
       "  'id': 31101896,\n",
       "  'name': 'iwc',\n",
       "  'slug': 'crs4/iwc'},\n",
       " 'branch': {'@type': 'branch',\n",
       "  '@href': '/repo/31101896/branch/travis',\n",
       "  '@representation': 'minimal',\n",
       "  'name': 'travis'},\n",
       " 'tag': None,\n",
       " 'commit': {'@type': 'commit',\n",
       "  '@representation': 'minimal',\n",
       "  'id': 244040505,\n",
       "  'sha': '3d14d751113049041a140b89cb4032ab53ae8b9e',\n",
       "  'ref': 'refs/heads/travis',\n",
       "  'message': 'update to latest testing spec',\n",
       "  'compare_url': 'https://github.com/crs4/iwc/compare/18c5d10b2bde...3d14d7511130',\n",
       "  'committed_at': '2021-05-03T10:25:04Z'},\n",
       " 'jobs': [{'@type': 'job',\n",
       "   '@href': '/job/769307076',\n",
       "   '@representation': 'minimal',\n",
       "   'id': 769307076}],\n",
       " 'stages': [],\n",
       " 'created_by': {'@type': 'user',\n",
       "  '@href': '/user/87172',\n",
       "  '@representation': 'minimal',\n",
       "  'id': 87172,\n",
       "  'login': 'simleo'},\n",
       " 'updated_at': '2021-05-03T10:52:50.417Z'}"
      ]
     },
     "execution_count": 3,
     "metadata": {},
     "output_type": "execute_result"
    }
   ],
   "source": [
    "params = {'limit': 1, 'sort_by': 'number:desc'}\n",
    "r = requests.get(f\"{BASE_URL}/repo/{REPO_SLUG}/builds\", headers=HEADERS, params=params)\n",
    "assert r.status_code == 200\n",
    "build = r.json()[\"builds\"][0]\n",
    "build"
   ]
  },
  {
   "cell_type": "code",
   "execution_count": 4,
   "metadata": {},
   "outputs": [
    {
     "data": {
      "text/plain": [
       "{'@type': 'job',\n",
       " '@href': '/job/769307076',\n",
       " '@representation': 'standard',\n",
       " '@permissions': {'read': True,\n",
       "  'delete_log': True,\n",
       "  'cancel': True,\n",
       "  'restart': True,\n",
       "  'prioritize': False,\n",
       "  'debug': True},\n",
       " 'id': 769307076,\n",
       " 'allow_failure': None,\n",
       " 'number': '8.1',\n",
       " 'state': 'passed',\n",
       " 'started_at': '2021-05-03T10:26:13Z',\n",
       " 'finished_at': '2021-05-03T10:52:50Z',\n",
       " 'build': {'@type': 'build',\n",
       "  '@href': '/build/769307075',\n",
       "  '@representation': 'minimal',\n",
       "  'id': 769307075,\n",
       "  'number': '8',\n",
       "  'state': 'passed',\n",
       "  'duration': 1597,\n",
       "  'event_type': 'push',\n",
       "  'previous_state': 'passed',\n",
       "  'pull_request_title': None,\n",
       "  'pull_request_number': None,\n",
       "  'started_at': '2021-05-03T10:26:13Z',\n",
       "  'finished_at': '2021-05-03T10:52:50Z',\n",
       "  'private': False,\n",
       "  'priority': False},\n",
       " 'queue': 'builds.gce',\n",
       " 'repository': {'@type': 'repository',\n",
       "  '@href': '/repo/31101896',\n",
       "  '@representation': 'minimal',\n",
       "  'id': 31101896,\n",
       "  'name': 'iwc',\n",
       "  'slug': 'crs4/iwc'},\n",
       " 'commit': {'@type': 'commit',\n",
       "  '@representation': 'minimal',\n",
       "  'id': 244040505,\n",
       "  'sha': '3d14d751113049041a140b89cb4032ab53ae8b9e',\n",
       "  'ref': 'refs/heads/travis',\n",
       "  'message': 'update to latest testing spec',\n",
       "  'compare_url': 'https://github.com/crs4/iwc/compare/18c5d10b2bde...3d14d7511130',\n",
       "  'committed_at': '2021-05-03T10:25:04Z'},\n",
       " 'owner': {'@type': 'organization',\n",
       "  '@href': '/org/34551',\n",
       "  '@representation': 'minimal',\n",
       "  'id': 34551,\n",
       "  'login': 'crs4',\n",
       "  'name': 'CRS4',\n",
       "  'vcs_type': 'GithubOrganization',\n",
       "  'ro_mode': False},\n",
       " 'stage': None,\n",
       " 'created_at': '2021-05-03T10:25:52.318Z',\n",
       " 'updated_at': '2021-05-03T10:52:50.408Z',\n",
       " 'private': False}"
      ]
     },
     "execution_count": 4,
     "metadata": {},
     "output_type": "execute_result"
    }
   ],
   "source": [
    "r = requests.get(f\"{BASE_URL}/build/{build['id']}/jobs\", headers=HEADERS)\n",
    "assert r.status_code == 200\n",
    "job = r.json()[\"jobs\"][0]\n",
    "job"
   ]
  },
  {
   "cell_type": "code",
   "execution_count": 5,
   "metadata": {},
   "outputs": [
    {
     "data": {
      "text/plain": [
       "0.6690645217895508"
      ]
     },
     "execution_count": 5,
     "metadata": {},
     "output_type": "execute_result"
    }
   ],
   "source": [
    "r = requests.get(f\"{BASE_URL}/job/{job['id']}/log\", headers=HEADERS)\n",
    "assert r.status_code == 200\n",
    "log = r.json()\n",
    "content = log[\"content\"]\n",
    "len(content) / 2**20"
   ]
  },
  {
   "cell_type": "code",
   "execution_count": 6,
   "metadata": {},
   "outputs": [
    {
     "name": "stdout",
     "output_type": "stream",
     "text": [
      "travis_fold:start:worker_info\r",
      "\u001b[0K\u001b[33;1mWorker information\u001b[0m\n",
      "hostname: 8a971683-252c-4d44-94ac-0ae13b161e1b@1.worker-org-dc4bd4986-dfpnv.gce-production-4\n",
      "version: 6.2.22 https://github.com/travis-ci/worker/tree/858cb91994a513269f2fe9782c15fc113e966231\n",
      "instance: travis-job-a86accaf-74f4-445f-a38c-027fabd57017 travis-ci-sardonyx-xenial-1593004276-4d46c6b3 (via amqp)\n",
      "startup: 6.237302883s\n",
      "travis_fold:end:worker_info\r",
      "\u001b[0Ktravis_time:start:2220d234\r",
      "\u001b[0Ktravis_time:end:2220d234:start=1620037575036348605,finish=1620037575176019672,duration=139671067,event=no_world_writable_dirs\r",
      "\u001b[0Ktravis_time:start:3682f100\r",
      "\u001b[0Ktravis_time:end:3682f100:start=1620037575179327333,finish=1620037575186354955,duration=7027622,event=agent\r",
      "\u001b[0Ktravis_time:start:2936e899\r",
      "\u001b[0Ktravis_time:end:2936e899:start=1620037575189250674,finish=1620037575191754676,duration=2504002,event=check_unsupported\r",
      "\u001b[0Ktravis_time:start:19010ac0\r",
      "\u001b[0Ktravis_fold:start:system_info\r",
      "\u001b[0K\u001b[33;1mBuild system information\u001b[0m\r\n",
      "Build language: p\n",
      "[...]\n",
      "rs INFO 2021-05-03 10:52:48,291 [pN:main,p:4063,tN:MainThread] LocalRunner: Sending stop signal to 4 job worker threads\r\n",
      "galaxy.jobs.runners INFO 2021-05-03 10:52:48,291 [pN:main,p:4063,tN:MainThread] Waiting up to 30 seconds for job worker threads to shutdown...\r\n",
      "galaxy.jobs.runners INFO 2021-05-03 10:52:48,292 [pN:main,p:4063,tN:MainThread] All job worker threads shutdown cleanly\r\n",
      "galaxy.jobs.handler INFO 2021-05-03 10:52:48,292 [pN:main,p:4063,tN:MainThread] sending stop signal to worker thread\r\n",
      "galaxy.jobs.handler INFO 2021-05-03 10:52:48,292 [pN:main,p:4063,tN:MainThread] job handler stop queue stopped\r\n",
      "\r\n",
      "\u001b[32m\u001b[1mAll 1 test(s) executed passed.\u001b[0m\r\n",
      "pe-artic-variation.ga_0: \u001b[32m\u001b[1mpassed\u001b[0m\r\n",
      "travis_time:end:1a4a67d4:start=1620037607370650600,finish=1620039169844355374,duration=1562473704774,event=script\r",
      "\u001b[0K\u001b[32;1mThe command \"planemo test workflows/sars-cov-2-variant-calling/sars-cov-2-pe-illumina-artic-variant-calling\" exited with 0.\u001b[0m\r\n",
      "\r\n",
      "\r\n",
      "Done. Your build exited with 0.\r\n",
      "\n"
     ]
    }
   ],
   "source": [
    "print(f\"{content[:1000]}\\n[...]\\n{content[-1000:]}\")"
   ]
  }
 ],
 "metadata": {
  "kernelspec": {
   "display_name": "Python 3",
   "language": "python",
   "name": "python3"
  },
  "language_info": {
   "codemirror_mode": {
    "name": "ipython",
    "version": 3
   },
   "file_extension": ".py",
   "mimetype": "text/x-python",
   "name": "python",
   "nbconvert_exporter": "python",
   "pygments_lexer": "ipython3",
   "version": "3.6.9"
  }
 },
 "nbformat": 4,
 "nbformat_minor": 2
}
