{
 "cells": [
  {
   "cell_type": "markdown",
   "metadata": {},
   "source": [
    "# Workflow Hub->LifeMonitor Interaction"
   ]
  },
  {
   "cell_type": "code",
   "execution_count": null,
   "metadata": {},
   "outputs": [],
   "source": [
    "# required packages\n",
    "import os\n",
    "import requests\n",
    "from pprint import pp"
   ]
  },
  {
   "cell_type": "code",
   "execution_count": null,
   "metadata": {},
   "outputs": [],
   "source": [
    "# WhHub Settings\n",
    "wfhub_username = \"workflowhub\"\n",
    "wfhub_password = \"workflowhub\"\n",
    "wfhub_url = \"__WFHUB_INSTANCE_BASE_URL__\""
   ]
  },
  {
   "cell_type": "code",
   "execution_count": null,
   "metadata": {},
   "outputs": [],
   "source": [
    "# LifeMonitor settings on WfHub\n",
    "lm_base_url = \"__LIFE_MONITOR_INSTANCE_BASE_URL__\"\n",
    "lm_login_url = f\"{lm_base_url}/oauth2/login/seek\""
   ]
  },
  {
   "cell_type": "code",
   "execution_count": null,
   "metadata": {},
   "outputs": [],
   "source": [
    "# create a new session\n",
    "s = requests.session()\n",
    "s.headers.update({\n",
    "    \"Content-type\": \"application/vnd.api+json\",\n",
    "    \"Accept\": \"application/vnd.api+json\",\n",
    "    \"Accept-Charset\": \"ISO-8859-1\"\n",
    "})\n",
    "# log the user on WfHub\n",
    "s.auth=requests.auth.HTTPBasicAuth(wfhub_username, wfhub_password)\n",
    "print(\"Cookies before the first call: %r\" % s.cookies)"
   ]
  },
  {
   "cell_type": "code",
   "execution_count": null,
   "metadata": {},
   "outputs": [],
   "source": [
    "# get userinfo from Workflow Hub\n",
    "user_info = s.get(os.path.join(wfhub_url, 'people/current'))\n",
    "pp(user_info.json())"
   ]
  },
  {
   "cell_type": "code",
   "execution_count": null,
   "metadata": {},
   "outputs": [],
   "source": [
    "# get workflows from Workflow Hub\n",
    "workflows_response = s.get(os.path.join(wfhub_url,\"workflows\"))\n",
    "workflows = workflows_response.json()[\"data\"]\n",
    "pp(workflows)"
   ]
  },
  {
   "cell_type": "code",
   "execution_count": null,
   "metadata": {},
   "outputs": [],
   "source": [
    "# Pick one workflow (we assume at least one workflow is registered on Workflow Hub)\n",
    "workflow_id = workflows[0]['id']\n",
    "print(\"Workflow ID: %s\" % workflow_id)"
   ]
  },
  {
   "cell_type": "code",
   "execution_count": null,
   "metadata": {},
   "outputs": [],
   "source": [
    "# Get workflow metadata\n",
    "w_response = s.get(f\"{wfhub_url}/workflows/{workflow_id}\")\n",
    "assert w_response.status_code == 200, f\"Login Error: status code {w_response.status_code} !!!\"\n",
    "workflow = w_response.json()[\"data\"]\n",
    "pp(workflow)"
   ]
  },
  {
   "cell_type": "markdown",
   "metadata": {},
   "source": [
    "\n",
    "\n",
    "## Register a Workflow Hub workflow to LifeMonitor\n",
    "\n",
    "We assume LifeMonitor needs to know:\n",
    "1. the identity of the service which interacts with LM (e.g., a registry instance like a WfHub instance)\n",
    "2. the identity of the user which triggers (directly or by delegating the registry service) the interaction from the service above"
   ]
  },
  {
   "cell_type": "code",
   "execution_count": null,
   "metadata": {},
   "outputs": [],
   "source": [
    "# Log the user in LifeMonitor using the Workflow Hub credentials.\n",
    "# This login works out of the box because WorkflowHub and LifeMonitor are sharing the same HTTP session\n",
    "# and LifeMonitor has already been authorized to use the Workflow Hub user data on behalf of the user.\n",
    "login_r = s.get(lm_login_url)\n",
    "assert login_r.status_code == 200, \"Login Error: status code {} !!!\".format(login_r.status_code)"
   ]
  },
  {
   "cell_type": "code",
   "execution_count": null,
   "metadata": {},
   "outputs": [],
   "source": [
    "# As a result of the previous step the user is also authenticated on LM and WfHub can get user data from LifeMonitor\n",
    "lm_user_info_r = s.get(f\"{lm_base_url}/me\")\n",
    "assert lm_user_info_r.status_code == 200, \"Error: status code {} !!!\".format(lm_user_info_r.status_code)\n",
    "lm_user_info = lm_user_info_r.json()\n",
    "pp(lm_user_info)"
   ]
  },
  {
   "cell_type": "code",
   "execution_count": null,
   "metadata": {},
   "outputs": [],
   "source": [
    "# Prepare the JSON data required to post the workflow on LifeMonitor\n",
    "workflow_uuid = workflow['meta']['uuid']\n",
    "workflow_version = str(workflow[\"attributes\"][\"versions\"][0]['version']) # pick the first version\n",
    "workflow_name = workflow[\"attributes\"][\"title\"]\n",
    "workflow_roc_link = f'{workflow[\"attributes\"][\"content_blobs\"][0][\"link\"]}/download'\n",
    "post_data = {\n",
    "    'uuid': workflow_uuid,\n",
    "    'version': workflow_version,\n",
    "    'name': workflow_name,\n",
    "    'roc_link': workflow_roc_link\n",
    "}\n",
    "pp(post_data)"
   ]
  },
  {
   "cell_type": "code",
   "execution_count": null,
   "metadata": {},
   "outputs": [],
   "source": [
    "# trigger the registration of a new workflow on LifeMonitor\n",
    "response = s.post(\"{}/workflows\".format(lm_base_url), json=post_data)\n",
    "assert response.status_code == 201, \"Error: status code {} !!!\".format(response.status_code)\n",
    "print(response.json())"
   ]
  },
  {
   "cell_type": "code",
   "execution_count": null,
   "metadata": {},
   "outputs": [],
   "source": [
    "# get workflow with suites, test_builds and test_outputs\n",
    "lm_wf_r = s.get(\"{}/workflows/{}/{}?test_suite=true&test_build=true&test_output=true\".format(lm_base_url, workflow_uuid, workflow_version))\n",
    "assert lm_wf_r.status_code == 200, f\"Error: status code {lm_wf_r.status_code} !!!\"\n",
    "lm_workflow = lm_wf_r.json()\n",
    "pp(lm_workflow)"
   ]
  }
 ],
 "metadata": {
  "kernelspec": {
   "display_name": "Python 3",
   "language": "python",
   "name": "python3"
  },
  "language_info": {
   "codemirror_mode": {
    "name": "ipython",
    "version": 3
   },
   "file_extension": ".py",
   "mimetype": "text/x-python",
   "name": "python",
   "nbconvert_exporter": "python",
   "pygments_lexer": "ipython3",
   "version": "3.8.5"
  }
 },
 "nbformat": 4,
 "nbformat_minor": 4
}