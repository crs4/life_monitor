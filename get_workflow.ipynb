{
 "cells": [
  {
   "cell_type": "markdown",
   "metadata": {},
   "source": [
    "Get a workflow from the Workflow Hub\n",
    "================================\n",
    "\n",
    "Before running this notebook, bring up a Workflow Hub instance:\n",
    "\n",
    "`docker run -d -p 3000:3000 --name seek fairdom/seek:workflow`\n",
    "\n",
    "Then use the web interface to create a first user (which will also be the admin). This notebook assumes:\n",
    "\n",
    "* username: simleo\n",
    "* password: 0123456789\n",
    "\n",
    "The next step is to enable the workflows feature, which is disabled by default. In the web interface, click the top-right menu, then \"Server admin\", then \"Enable/disable features\", then scroll down to \"SEEK features\" and click \"Workflows enabled\".\n",
    "\n",
    "Now use the web interface to create two workflows (in the top-left menu, click \"Create\" and then \"Workflow\"). Here we assume creation from:\n",
    "\n",
    "1. https://raw.githubusercontent.com/common-workflow-language/common-workflow-language/master/v1.0/examples/1st-workflow.cwl\n",
    "2. The `Galaxy-Workflow-Peaks_to_Gene_names___counts.ga` workflow from https://usegalaxy.eu/workflows/list_published (\"Peaks to Gene names & counts\" -> \"Save as File\")\n",
    "\n",
    "In the above order. Associate the workflows to the Default Project (this should be the default option). Manually assign the \"1st-workflow\" title to the CWL workflow.\n",
    "\n",
    "This notebook uses the JSON API to retrieve the workflow from the Workflow Hub instance.\n",
    "\n",
    "JSON API examples are available at https://github.com/seek4science/seekAPIexamples"
   ]
  },
  {
   "cell_type": "code",
   "execution_count": 1,
   "metadata": {},
   "outputs": [],
   "source": [
    "import requests\n",
    "from urllib.request import urlretrieve\n",
    "import pprint"
   ]
  },
  {
   "cell_type": "code",
   "execution_count": 2,
   "metadata": {},
   "outputs": [],
   "source": [
    "pp = pprint.PrettyPrinter(indent=4)\n",
    "base_url = 'http://localhost:3000'\n",
    "headers = {\n",
    "    \"Content-type\": \"application/vnd.api+json\",\n",
    "    \"Accept\": \"application/vnd.api+json\",\n",
    "    \"Accept-Charset\": \"ISO-8859-1\"\n",
    "}\n",
    "session = requests.Session()\n",
    "session.headers.update(headers)\n",
    "session.auth = \"simleo\", \"0123456789\""
   ]
  },
  {
   "cell_type": "code",
   "execution_count": 3,
   "metadata": {},
   "outputs": [
    {
     "name": "stdout",
     "output_type": "stream",
     "text": [
      "ALL WORKFLOWS:\n",
      "{   'data': [   {   'attributes': {'title': 'Peaks to Gene names & counts'},\n",
      "                    'id': '2',\n",
      "                    'links': {'self': '/workflows/2'},\n",
      "                    'type': 'workflows'},\n",
      "                {   'attributes': {'title': '1st-workflow'},\n",
      "                    'id': '1',\n",
      "                    'links': {'self': '/workflows/1'},\n",
      "                    'type': 'workflows'}],\n",
      "    'jsonapi': {'version': '1.0'},\n",
      "    'links': {'self': '/workflows'},\n",
      "    'meta': {'api_version': '0.2', 'base_url': 'http://localhost:3000'}}\n"
     ]
    }
   ],
   "source": [
    "r = session.get(base_url + \"/workflows\")\n",
    "r.raise_for_status()\n",
    "print(\"ALL WORKFLOWS:\")\n",
    "pp.pprint(r.json())"
   ]
  },
  {
   "cell_type": "code",
   "execution_count": 4,
   "metadata": {},
   "outputs": [
    {
     "name": "stdout",
     "output_type": "stream",
     "text": [
      "WORKFLOW 2:\n",
      "{   'data': {   'attributes': {   'content_blobs': [   {   'content_type': 'application/octet-stream',\n",
      "                                                           'link': 'http://localhost:3000/workflows/2/content_blobs/2',\n",
      "                                                           'md5sum': 'ac2f0978b95ab3b8597b45d90a936299',\n",
      "                                                           'original_filename': 'Galaxy-Workflow-Peaks_to_Gene_names___counts.ga',\n",
      "                                                           'sha1sum': 'f8922c3279435ce9d9f32e1b5c018d06bf23182e',\n",
      "                                                           'size': 13275,\n",
      "                                                           'url': None}],\n",
      "                                  'created_at': '2020-03-13T10:09:08.745Z',\n",
      "                                  'description': None,\n",
      "                                  'internals': None,\n",
      "                                  'latest_version': 1,\n",
      "                                  'license': 'Apache-2.0',\n",
      "                                  'other_creators': None,\n",
      "                                  'policy': {   'access': 'download',\n",
      "                                                'permissions': [   {   'access': 'manage',\n",
      "                                                                       'resource': {   'id': '1',\n",
      "                                                                                       'type': 'projects'}}]},\n",
      "                                  'revision_comments': None,\n",
      "                                  'tags': None,\n",
      "                                  'title': 'Peaks to Gene names & counts',\n",
      "                                  'updated_at': '2020-03-13T10:09:08.745Z',\n",
      "                                  'version': 1,\n",
      "                                  'versions': [   {   'revision_comments': None,\n",
      "                                                      'url': 'http://localhost:3000/workflows/2?version=1',\n",
      "                                                      'version': 1}],\n",
      "                                  'workflow_class': {   'description': None,\n",
      "                                                        'key': 'Galaxy',\n",
      "                                                        'title': 'Galaxy'}},\n",
      "                'id': '2',\n",
      "                'links': {'self': '/workflows/2?version=1'},\n",
      "                'meta': {   'api_version': '0.2',\n",
      "                            'base_url': 'http://localhost:3000',\n",
      "                            'created': '2020-03-13T10:09:08.711Z',\n",
      "                            'modified': '2020-03-13T10:09:08.685Z',\n",
      "                            'uuid': '9a3d1350-4740-0138-9fda-0242ac110002'},\n",
      "                'relationships': {   'assays': {'data': []},\n",
      "                                     'creators': {   'data': [   {   'id': '1',\n",
      "                                                                     'type': 'people'}]},\n",
      "                                     'investigations': {'data': []},\n",
      "                                     'people': {   'data': [   {   'id': '1',\n",
      "                                                                   'type': 'people'}]},\n",
      "                                     'projects': {   'data': [   {   'id': '1',\n",
      "                                                                     'type': 'projects'}]},\n",
      "                                     'publications': {'data': []},\n",
      "                                     'sops': {'data': []},\n",
      "                                     'studies': {'data': []},\n",
      "                                     'submitter': {   'data': [   {   'id': '1',\n",
      "                                                                      'type': 'people'}]}},\n",
      "                'type': 'workflows'},\n",
      "    'jsonapi': {'version': '1.0'}}\n",
      "\n"
     ]
    }
   ],
   "source": [
    "# note: I got a server error while trying to retrieve the CWL workflow.\n",
    "wf_id = \"2\"\n",
    "r = session.get(base_url + \"/workflows/%s\" % wf_id)\n",
    "r.raise_for_status()\n",
    "data = r.json()[\"data\"]\n",
    "print(\"WORKFLOW %s:\" % wf_id)\n",
    "pp.pprint(r.json())\n",
    "print()"
   ]
  },
  {
   "cell_type": "code",
   "execution_count": 5,
   "metadata": {},
   "outputs": [
    {
     "name": "stdout",
     "output_type": "stream",
     "text": [
      "WORKFLOW CLASS: Galaxy\n",
      "CONTENT BLOB FOR Galaxy-Workflow-Peaks_to_Gene_names___counts.ga:\n",
      "{   'data': {   'attributes': {   'content_type': 'application/octet-stream',\n",
      "                                  'md5sum': 'ac2f0978b95ab3b8597b45d90a936299',\n",
      "                                  'original_filename': 'Galaxy-Workflow-Peaks_to_Gene_names___counts.ga',\n",
      "                                  'sha1sum': 'f8922c3279435ce9d9f32e1b5c018d06bf23182e',\n",
      "                                  'size': 13275,\n",
      "                                  'url': None},\n",
      "                'id': '2',\n",
      "                'links': {   'download': '/workflows/2/content_blobs/2/download',\n",
      "                             'self': '/workflows/2/content_blobs/2'},\n",
      "                'meta': {   'api_version': '0.2',\n",
      "                            'base_url': 'http://localhost:3000',\n",
      "                            'created': '2020-03-13T10:08:45.102Z',\n",
      "                            'modified': '2020-03-13T10:09:08.738Z',\n",
      "                            'uuid': '8c2b8910-4740-0138-9fd9-0242ac110002'},\n",
      "                'relationships': {   'asset': {   'data': {   'id': '2',\n",
      "                                                              'type': 'workflows'}}},\n",
      "                'type': 'content_blobs'},\n",
      "    'jsonapi': {'version': '1.0'}}\n",
      "\n"
     ]
    }
   ],
   "source": [
    "workflow_class = data[\"attributes\"][\"workflow_class\"][\"key\"]\n",
    "print(\"WORKFLOW CLASS: %s\" % workflow_class)\n",
    "blob = data[\"attributes\"][\"content_blobs\"][0]\n",
    "original_filename = blob[\"original_filename\"]\n",
    "r = session.get(blob[\"link\"])  # this is a full URL\n",
    "r.raise_for_status()\n",
    "data = r.json()[\"data\"]\n",
    "print(\"CONTENT BLOB FOR %s:\" % original_filename)\n",
    "pp.pprint(r.json())\n",
    "print()"
   ]
  },
  {
   "cell_type": "code",
   "execution_count": 6,
   "metadata": {},
   "outputs": [
    {
     "name": "stdout",
     "output_type": "stream",
     "text": [
      "downloading workflow content to Galaxy-Workflow-Peaks_to_Gene_names___counts.ga\n"
     ]
    },
    {
     "data": {
      "text/plain": [
       "('Galaxy-Workflow-Peaks_to_Gene_names___counts.ga',\n",
       " <http.client.HTTPMessage at 0x7fa3f37eb518>)"
      ]
     },
     "execution_count": 6,
     "metadata": {},
     "output_type": "execute_result"
    }
   ],
   "source": [
    "print(\"downloading workflow content to %s\" % original_filename)\n",
    "file_url = base_url + data[\"links\"][\"download\"]\n",
    "urlretrieve(file_url, original_filename)"
   ]
  }
 ],
 "metadata": {
  "kernelspec": {
   "display_name": "Python 3",
   "language": "python",
   "name": "python3"
  },
  "language_info": {
   "codemirror_mode": {
    "name": "ipython",
    "version": 3
   },
   "file_extension": ".py",
   "mimetype": "text/x-python",
   "name": "python",
   "nbconvert_exporter": "python",
   "pygments_lexer": "ipython3",
   "version": "3.6.9"
  }
 },
 "nbformat": 4,
 "nbformat_minor": 2
}
